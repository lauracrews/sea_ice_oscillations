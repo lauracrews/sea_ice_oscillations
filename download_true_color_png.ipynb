{
 "cells": [
  {
   "cell_type": "code",
   "execution_count": 1,
   "id": "d3202378-8047-4ce1-98db-78b2cf38a88f",
   "metadata": {
    "tags": []
   },
   "outputs": [
    {
     "name": "stderr",
     "output_type": "stream",
     "text": [
      "/home/jovyan/.conda/envs/sea-ice-oscillations/lib/python3.11/site-packages/tqdm/auto.py:21: TqdmWarning: IProgress not found. Please update jupyter and ipywidgets. See https://ipywidgets.readthedocs.io/en/stable/user_install.html\n",
      "  from .autonotebook import tqdm as notebook_tqdm\n"
     ]
    }
   ],
   "source": [
    "from glob import glob\n",
    "import urllib\n",
    "import earthaccess\n",
    "from satpy.scene import Scene"
   ]
  },
  {
   "cell_type": "code",
   "execution_count": 2,
   "id": "bedabb55-b91b-471c-b9f9-a969484d1fa0",
   "metadata": {
    "tags": []
   },
   "outputs": [],
   "source": [
    "# functions to download data (just organizing stuff)\n",
    "def download_files():\n",
    "    for short_name in [\"VNP02MOD\", \"VNP02IMG\", \"VNP02DNB\", \"VNP03MOD\", \"VNP03IMG\", \"VNP03DNB\"]:\n",
    "        results = earthaccess.search_data(\n",
    "        short_name=short_name, \n",
    "        cloud_hosted=True, \n",
    "        bounding_box=(-130.0, 73.0, -160.0, 77.0),\n",
    "        temporal=(\"2022-10-07\", \"2022-10-10\"),\n",
    "        count=10)\n",
    "        earthaccess.download(results, './')"
   ]
  },
  {
   "cell_type": "code",
   "execution_count": 3,
   "id": "f97f030b-af4d-4fd4-8eac-f57957c181aa",
   "metadata": {
    "tags": []
   },
   "outputs": [
    {
     "name": "stdout",
     "output_type": "stream",
     "text": [
      "EARTHDATA_USERNAME and EARTHDATA_PASSWORD are not set in the current environment, try setting them or use a different strategy (netrc, interactive)\n",
      "No .netrc found in /home/jovyan\n"
     ]
    },
    {
     "name": "stdin",
     "output_type": "stream",
     "text": [
      "Enter your Earthdata Login username:  \n",
      "Enter your Earthdata password:  ········\n"
     ]
    },
    {
     "name": "stdout",
     "output_type": "stream",
     "text": [
      "Authentication with Earthdata Login failed with:\n",
      "{\"error\":\"invalid_header\",\"error_description\":\"Invalid header\"}\n",
      "Granules found: 224\n",
      "'NoneType' object has no attribute 'get'\n",
      "You must call earthaccess.login() before you can download data\n",
      "Granules found: 224\n",
      "'NoneType' object has no attribute 'get'\n",
      "You must call earthaccess.login() before you can download data\n",
      "Granules found: 224\n",
      "'NoneType' object has no attribute 'get'\n",
      "You must call earthaccess.login() before you can download data\n",
      "Granules found: 224\n",
      "'NoneType' object has no attribute 'get'\n",
      "You must call earthaccess.login() before you can download data\n",
      "Granules found: 224\n",
      "'NoneType' object has no attribute 'get'\n",
      "You must call earthaccess.login() before you can download data\n",
      "Granules found: 224\n",
      "'NoneType' object has no attribute 'get'\n",
      "You must call earthaccess.login() before you can download data\n"
     ]
    }
   ],
   "source": [
    "earthaccess.login()\n",
    "download_files()"
   ]
  },
  {
   "cell_type": "code",
   "execution_count": 4,
   "id": "44508e6b-6a1e-49e5-85df-22757e94fc12",
   "metadata": {
    "tags": []
   },
   "outputs": [
    {
     "name": "stderr",
     "output_type": "stream",
     "text": [
      "/home/jovyan/.conda/envs/sea-ice-oscillations/lib/python3.11/site-packages/dask/array/chunk.py:278: RuntimeWarning: invalid value encountered in cast\n",
      "  return x.astype(astype_dtype, **kwargs)\n",
      "/home/jovyan/.conda/envs/sea-ice-oscillations/lib/python3.11/site-packages/dask/array/chunk.py:278: RuntimeWarning: invalid value encountered in cast\n",
      "  return x.astype(astype_dtype, **kwargs)\n"
     ]
    }
   ],
   "source": [
    "fileglob=\"A2022280.0306\"\n",
    "\n",
    "scn = Scene(filenames=glob('*VNP*' + fileglob + '*nc'), reader='viirs_l1b')\n",
    "scn.load(['true_color_lowres'])\n",
    "local_scene=scn.resample(resampler='native')\n",
    "local_scene.save_dataset('true_color_lowres', filename=fileglob + '.png')"
   ]
  },
  {
   "cell_type": "code",
   "execution_count": null,
   "id": "d97809b9-1a45-4aef-b890-d5a091ca02f1",
   "metadata": {},
   "outputs": [],
   "source": []
  }
 ],
 "metadata": {
  "kernelspec": {
   "display_name": "Python [conda env:.conda-sea-ice-oscillations]",
   "language": "python",
   "name": "conda-env-.conda-sea-ice-oscillations-py"
  },
  "language_info": {
   "codemirror_mode": {
    "name": "ipython",
    "version": 3
   },
   "file_extension": ".py",
   "mimetype": "text/x-python",
   "name": "python",
   "nbconvert_exporter": "python",
   "pygments_lexer": "ipython3",
   "version": "3.11.4"
  }
 },
 "nbformat": 4,
 "nbformat_minor": 5
}
