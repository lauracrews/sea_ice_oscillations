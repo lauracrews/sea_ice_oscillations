{
 "cells": [
  {
   "cell_type": "code",
   "execution_count": 1,
   "id": "d3202378-8047-4ce1-98db-78b2cf38a88f",
   "metadata": {
    "tags": []
   },
   "outputs": [
    {
     "name": "stderr",
     "output_type": "stream",
     "text": [
      "/home/jovyan/.conda/envs/sea-ice-oscillations/lib/python3.10/site-packages/tqdm/auto.py:21: TqdmWarning: IProgress not found. Please update jupyter and ipywidgets. See https://ipywidgets.readthedocs.io/en/stable/user_install.html\n",
      "  from .autonotebook import tqdm as notebook_tqdm\n"
     ]
    }
   ],
   "source": [
    "from glob import glob\n",
    "import urllib\n",
    "import earthaccess\n",
    "from satpy.scene import Scene\n",
    "from datatree import open_datatree\n",
    "from pyresample import create_area_def\n",
    "from PIL import Image\n",
    "from glob import glob\n"
   ]
  },
  {
   "cell_type": "code",
   "execution_count": 22,
   "id": "bedabb55-b91b-471c-b9f9-a969484d1fa0",
   "metadata": {
    "tags": []
   },
   "outputs": [],
   "source": [
    "# functions to download data (just organizing stuff)\n",
    "def download_files(start_date, end_date):\n",
    "    for short_name in [\"VNP02MOD\", \"VNP02IMG\", \"VNP02DNB\", \"VNP03MOD\", \"VNP03IMG\", \"VNP03DNB\"]:\n",
    "        results = earthaccess.search_data(\n",
    "        short_name=short_name, \n",
    "        cloud_hosted=True, \n",
    "        bounding_box=(-160.0, 73.0, -130.0, 77.0),\n",
    "        temporal=(start_date, end_date),\n",
    "        count=30)\n",
    "        earthaccess.download(results, 'data')\n",
    "        \n",
    "def print_day_night():\n",
    "    for file in glob('*VNP*nc'):\n",
    "        dt = open_datatree(file)\n",
    "        print(file,dt.attrs['DayNightFlag'])\n",
    "\n",
    "\n",
    "def png2jpg(fileprefix):\n",
    "    ''' converts a file from a png to a jpg. \n",
    "    Expects a parameter fileprefix, which is the filename without an extension'''\n",
    "    im1 = Image.open(fileprefix)\n",
    "    rgb_im = im1.convert('RGB')\n",
    "    rgb_im.save(fileprefix.replace('png','jpg'))\n",
    "\n",
    "    \n",
    "# resampling area\n",
    "my_area = create_area_def('my_area', {'proj': 'lcc', 'lon_0': -155, 'lat_0': 73, 'lat_1': 77},\n",
    "                          width=1000, height=1000,\n",
    "                          area_extent=[-160, 73, -130, 77], units='degrees')\n"
   ]
  },
  {
   "cell_type": "code",
   "execution_count": 41,
   "id": "f97f030b-af4d-4fd4-8eac-f57957c181aa",
   "metadata": {
    "collapsed": true,
    "jupyter": {
     "outputs_hidden": true
    },
    "tags": []
   },
   "outputs": [
    {
     "name": "stdout",
     "output_type": "stream",
     "text": [
      "We are already authenticated with NASA EDL\n",
      "Granules found: 34\n",
      " Getting 30 granules, approx download size: 3.79 GB\n"
     ]
    },
    {
     "name": "stderr",
     "output_type": "stream",
     "text": [
      "QUEUEING TASKS | : 100%|██████████| 30/30 [00:00<00:00, 4975.45it/s]\n"
     ]
    },
    {
     "name": "stdout",
     "output_type": "stream",
     "text": [
      "File VNP02MOD.A2022274.0000.001.2022274091642.nc already downloaded\n",
      "File VNP02MOD.A2022274.0000.002.2022274103408.nc already downloaded\n",
      "File VNP02MOD.A2022274.0142.001.2022274083650.nc already downloaded\n",
      "File VNP02MOD.A2022274.0836.001.2022274150328.nc already downloaded\n",
      "File VNP02MOD.A2022274.0142.002.2022274103522.nc already downloaded\n",
      "File VNP02MOD.A2022274.0836.002.2022274175111.nc already downloaded\n",
      "File VNP02MOD.A2022274.1012.001.2022274180510.nc already downloaded\n",
      "File VNP02MOD.A2022274.1012.002.2022274193009.nc already downloaded\n",
      "File VNP02MOD.A2022274.1018.001.2022274180512.nc already downloaded\n",
      "File VNP02MOD.A2022274.1018.002.2022274193015.nc already downloaded\n",
      "File VNP02MOD.A2022274.1154.002.2022274210826.nc already downloaded\n",
      "File VNP02MOD.A2022274.1154.001.2022274194323.nc already downloaded\n",
      "File VNP02MOD.A2022274.1200.001.2022274192943.nc already downloaded\n",
      "File VNP02MOD.A2022274.1200.002.2022274210758.nc already downloaded\n",
      "File VNP02MOD.A2022274.1336.001.2022274194315.nc already downloaded\n",
      "File VNP02MOD.A2022274.1336.002.2022274210829.nc already downloaded\n",
      "File VNP02MOD.A2022274.1518.001.2022274213148.nc already downloaded\n",
      "File VNP02MOD.A2022274.1518.002.2022274223847.nc already downloaded\n",
      "File VNP02MOD.A2022274.1654.002.2022275001619.nc already downloaded\n",
      "File VNP02MOD.A2022274.1700.001.2022274225715.nc already downloaded\n",
      "File VNP02MOD.A2022274.1654.001.2022274225717.nc already downloaded\n",
      "File VNP02MOD.A2022274.1836.001.2022275003941.nc already downloaded\n",
      "File VNP02MOD.A2022274.2018.002.2022275061230.nc already downloaded\n",
      "File VNP02MOD.A2022274.1700.002.2022275001629.nc already downloaded\n",
      "File VNP02MOD.A2022274.1836.002.2022275021621.nc already downloaded\n",
      "File VNP02MOD.A2022274.2200.001.2022275064403.nc already downloaded\n",
      "File VNP02MOD.A2022274.2154.001.2022275064341.nc already downloaded\n",
      "File VNP02MOD.A2022274.2018.001.2022275033144.nc already downloaded\n",
      "File VNP02MOD.A2022274.2154.002.2022275075933.nc already downloaded\n",
      "File VNP02MOD.A2022274.2200.002.2022275075951.nc already downloaded\n"
     ]
    },
    {
     "name": "stderr",
     "output_type": "stream",
     "text": [
      "PROCESSING TASKS | : 100%|██████████| 30/30 [00:00<00:00, 150333.48it/s]\n",
      "COLLECTING RESULTS | : 100%|██████████| 30/30 [00:00<00:00, 248674.15it/s]\n"
     ]
    },
    {
     "name": "stdout",
     "output_type": "stream",
     "text": [
      "Granules found: 34\n",
      " Getting 30 granules, approx download size: 4.93 GB\n"
     ]
    },
    {
     "name": "stderr",
     "output_type": "stream",
     "text": [
      "QUEUEING TASKS | : 100%|██████████| 30/30 [00:00<00:00, 6765.01it/s]\n"
     ]
    },
    {
     "name": "stdout",
     "output_type": "stream",
     "text": [
      "File VNP02IMG.A2022274.0000.001.2022274091642.nc already downloaded\n",
      "File VNP02IMG.A2022274.0000.002.2022274103408.nc already downloaded\n",
      "File VNP02IMG.A2022274.0142.001.2022274083650.nc already downloaded\n",
      "File VNP02IMG.A2022274.0836.002.2022274175111.nc already downloaded\n",
      "File VNP02IMG.A2022274.0836.001.2022274150328.nc already downloaded\n",
      "File VNP02IMG.A2022274.1012.001.2022274180510.nc already downloaded\n",
      "File VNP02IMG.A2022274.0142.002.2022274103522.nc already downloaded\n",
      "File VNP02IMG.A2022274.1012.002.2022274193009.nc already downloaded\n",
      "File VNP02IMG.A2022274.1018.001.2022274180512.nc already downloaded\n",
      "File VNP02IMG.A2022274.1018.002.2022274193015.nc already downloaded\n",
      "File VNP02IMG.A2022274.1154.001.2022274194323.nc already downloaded\n",
      "File VNP02IMG.A2022274.1200.001.2022274192943.nc already downloaded\n",
      "File VNP02IMG.A2022274.1154.002.2022274210826.nc already downloaded\n",
      "File VNP02IMG.A2022274.1200.002.2022274210758.nc already downloaded\n",
      "File VNP02IMG.A2022274.1336.002.2022274210829.nc already downloaded\n",
      "File VNP02IMG.A2022274.1336.001.2022274194315.nc already downloaded\n",
      "File VNP02IMG.A2022274.1518.001.2022274213148.nc already downloaded\n",
      "File VNP02IMG.A2022274.1518.002.2022274223847.nc already downloaded\n",
      "File VNP02IMG.A2022274.1654.001.2022274225717.nc already downloaded\n",
      "File VNP02IMG.A2022274.1654.002.2022275001619.nc already downloaded\n",
      "File VNP02IMG.A2022274.1700.001.2022274225715.nc already downloaded\n",
      "File VNP02IMG.A2022274.1700.002.2022275001629.nc already downloaded\n",
      "File VNP02IMG.A2022274.1836.001.2022275003941.nc already downloaded\n",
      "File VNP02IMG.A2022274.2154.001.2022275064341.nc already downloaded\n",
      "File VNP02IMG.A2022274.2200.001.2022275064403.nc already downloaded\n",
      "File VNP02IMG.A2022274.2018.002.2022275061230.nc already downloaded\n",
      "File VNP02IMG.A2022274.2018.001.2022275033144.nc already downloaded\n",
      "File VNP02IMG.A2022274.2154.002.2022275075933.nc already downloaded\n",
      "File VNP02IMG.A2022274.2200.002.2022275075951.nc already downloaded\n",
      "File VNP02IMG.A2022274.1836.002.2022275021621.nc already downloaded\n"
     ]
    },
    {
     "name": "stderr",
     "output_type": "stream",
     "text": [
      "PROCESSING TASKS | : 100%|██████████| 30/30 [00:00<00:00, 176478.43it/s]\n",
      "COLLECTING RESULTS | : 100%|██████████| 30/30 [00:00<00:00, 160087.94it/s]\n"
     ]
    },
    {
     "name": "stdout",
     "output_type": "stream",
     "text": [
      "Granules found: 34\n",
      " Getting 30 granules, approx download size: 1.12 GB\n"
     ]
    },
    {
     "name": "stderr",
     "output_type": "stream",
     "text": [
      "QUEUEING TASKS | : 100%|██████████| 30/30 [00:00<00:00, 9304.82it/s]\n"
     ]
    },
    {
     "name": "stdout",
     "output_type": "stream",
     "text": [
      "File VNP02DNB.A2022274.0000.002.2022274103408.nc already downloaded\n",
      "File VNP02DNB.A2022274.0142.002.2022274103522.nc already downloaded\n",
      "File VNP02DNB.A2022274.0142.001.2022274083650.nc already downloaded\n",
      "File VNP02DNB.A2022274.0836.001.2022274150328.nc already downloaded\n",
      "File VNP02DNB.A2022274.0000.001.2022274091642.nc already downloaded\n",
      "File VNP02DNB.A2022274.0836.002.2022274175111.nc already downloaded\n",
      "File VNP02DNB.A2022274.1012.001.2022274180510.nc already downloaded\n",
      "File VNP02DNB.A2022274.1018.002.2022274193015.nc already downloaded\n",
      "File VNP02DNB.A2022274.1018.001.2022274180512.nc already downloaded\n",
      "File VNP02DNB.A2022274.1154.001.2022274194323.nc already downloaded\n",
      "File VNP02DNB.A2022274.1200.001.2022274192943.nc already downloaded\n",
      "File VNP02DNB.A2022274.1012.002.2022274193009.nc already downloaded\n",
      "File VNP02DNB.A2022274.1336.001.2022274194315.nc already downloaded\n",
      "File VNP02DNB.A2022274.1200.002.2022274210758.nc already downloaded\n",
      "File VNP02DNB.A2022274.1154.002.2022274210826.nc already downloaded\n",
      "File VNP02DNB.A2022274.1518.002.2022274223847.nc already downloaded\n",
      "File VNP02DNB.A2022274.1518.001.2022274213148.nc already downloaded\n",
      "File VNP02DNB.A2022274.1336.002.2022274210829.nc already downloaded\n",
      "File VNP02DNB.A2022274.1700.001.2022274225715.nc already downloaded\n",
      "File VNP02DNB.A2022274.1836.002.2022275021621.nc already downloaded\n",
      "File VNP02DNB.A2022274.2018.001.2022275033144.nc already downloaded\n",
      "File VNP02DNB.A2022274.1700.002.2022275001629.nc already downloaded\n",
      "File VNP02DNB.A2022274.1654.002.2022275001619.nc already downloaded\n",
      "File VNP02DNB.A2022274.1836.001.2022275003941.nc already downloaded\n",
      "File VNP02DNB.A2022274.2154.001.2022275064341.nc already downloaded\n",
      "File VNP02DNB.A2022274.1654.001.2022274225717.nc already downloaded\n",
      "File VNP02DNB.A2022274.2018.002.2022275061230.nc already downloaded\n",
      "File VNP02DNB.A2022274.2200.001.2022275064403.nc already downloaded\n",
      "File VNP02DNB.A2022274.2200.002.2022275075951.nc already downloaded\n",
      "File VNP02DNB.A2022274.2154.002.2022275075933.nc already downloaded\n"
     ]
    },
    {
     "name": "stderr",
     "output_type": "stream",
     "text": [
      "PROCESSING TASKS | : 100%|██████████| 30/30 [00:00<00:00, 154961.97it/s]\n",
      "COLLECTING RESULTS | : 100%|██████████| 30/30 [00:00<00:00, 284038.65it/s]\n"
     ]
    },
    {
     "name": "stdout",
     "output_type": "stream",
     "text": [
      "Granules found: 34\n",
      " Getting 30 granules, approx download size: 1.5 GB\n"
     ]
    },
    {
     "name": "stderr",
     "output_type": "stream",
     "text": [
      "QUEUEING TASKS | : 100%|██████████| 30/30 [00:00<00:00, 7574.14it/s]\n"
     ]
    },
    {
     "name": "stdout",
     "output_type": "stream",
     "text": [
      "File VNP03MOD.A2022274.0000.001.2022274083619.nc already downloaded\n",
      "File VNP03MOD.A2022274.0000.002.2022274094727.nc already downloaded\n",
      "File VNP03MOD.A2022274.0142.001.2022274080651.nc already downloaded\n",
      "File VNP03MOD.A2022274.0142.002.2022274094715.nc already downloaded\n",
      "File VNP03MOD.A2022274.0836.001.2022274143306.nc already downloaded\n",
      "File VNP03MOD.A2022274.0836.002.2022274172243.nc already downloaded\n",
      "File VNP03MOD.A2022274.1012.001.2022274175114.nc already downloaded\n",
      "File VNP03MOD.A2022274.1012.002.2022274190450.nc already downloaded\n",
      "File VNP03MOD.A2022274.1018.001.2022274175116.nc already downloaded\n",
      "File VNP03MOD.A2022274.1154.001.2022274191816.nc already downloaded\n",
      "File VNP03MOD.A2022274.1018.002.2022274190448.nc already downloaded\n",
      "File VNP03MOD.A2022274.1200.001.2022274191816.nc already downloaded\n",
      "File VNP03MOD.A2022274.1154.002.2022274204315.nc already downloaded\n",
      "File VNP03MOD.A2022274.1200.002.2022274204312.nc already downloaded\n",
      "File VNP03MOD.A2022274.1336.001.2022274191819.nc already downloaded\n",
      "File VNP03MOD.A2022274.1518.002.2022274221546.nc already downloaded\n",
      "File VNP03MOD.A2022274.1336.002.2022274204315.nc already downloaded\n",
      "File VNP03MOD.A2022274.1518.001.2022274210743.nc already downloaded\n",
      "File VNP03MOD.A2022274.1654.001.2022274223744.nc already downloaded\n",
      "File VNP03MOD.A2022274.1836.001.2022275001546.nc already downloaded\n",
      "File VNP03MOD.A2022274.1700.001.2022274223746.nc already downloaded\n",
      "File VNP03MOD.A2022274.1700.002.2022274235615.nc already downloaded\n",
      "File VNP03MOD.A2022274.1654.002.2022274235617.nc already downloaded\n"
     ]
    },
    {
     "name": "stderr",
     "output_type": "stream",
     "text": [
      "PROCESSING TASKS | : 100%|██████████| 30/30 [00:00<00:00, 42538.58it/s]\n"
     ]
    },
    {
     "name": "stdout",
     "output_type": "stream",
     "text": [
      "File VNP03MOD.A2022274.2154.001.2022275061511.nc already downloaded\n",
      "File VNP03MOD.A2022274.2018.002.2022275054111.nc already downloaded\n",
      "File VNP03MOD.A2022274.2018.001.2022275030523.nc already downloaded\n",
      "File VNP03MOD.A2022274.2154.002.2022275073148.nc already downloaded\n",
      "File VNP03MOD.A2022274.1836.002.2022275015249.nc already downloaded\n",
      "File VNP03MOD.A2022274.2200.001.2022275061515.nc already downloaded\n",
      "File VNP03MOD.A2022274.2200.002.2022275073145.nc already downloaded\n"
     ]
    },
    {
     "name": "stderr",
     "output_type": "stream",
     "text": [
      "COLLECTING RESULTS | : 100%|██████████| 30/30 [00:00<00:00, 74235.47it/s]\n"
     ]
    },
    {
     "name": "stdout",
     "output_type": "stream",
     "text": [
      "Granules found: 34\n",
      " Getting 30 granules, approx download size: 4.76 GB\n"
     ]
    },
    {
     "name": "stderr",
     "output_type": "stream",
     "text": [
      "QUEUEING TASKS | : 100%|██████████| 30/30 [00:00<00:00, 6673.51it/s]\n"
     ]
    },
    {
     "name": "stdout",
     "output_type": "stream",
     "text": [
      "File VNP03IMG.A2022274.0000.001.2022274083619.nc already downloaded\n",
      "File VNP03IMG.A2022274.0000.002.2022274094727.nc already downloaded\n",
      "File VNP03IMG.A2022274.0142.001.2022274080651.nc already downloaded\n",
      "File VNP03IMG.A2022274.0142.002.2022274094715.nc already downloaded\n",
      "File VNP03IMG.A2022274.1012.001.2022274175114.nc already downloaded\n",
      "File VNP03IMG.A2022274.0836.001.2022274143306.nc already downloaded\n",
      "File VNP03IMG.A2022274.0836.002.2022274172243.nc already downloaded\n",
      "File VNP03IMG.A2022274.1018.002.2022274190448.nc already downloaded\n",
      "File VNP03IMG.A2022274.1018.001.2022274175116.nc already downloaded\n",
      "File VNP03IMG.A2022274.1012.002.2022274190450.nc already downloaded\n",
      "File VNP03IMG.A2022274.1154.002.2022274204315.nc already downloaded\n",
      "File VNP03IMG.A2022274.1154.001.2022274191816.nc already downloaded\n",
      "File VNP03IMG.A2022274.1200.001.2022274191816.nc already downloaded\n",
      "File VNP03IMG.A2022274.1200.002.2022274204312.nc already downloaded\n",
      "File VNP03IMG.A2022274.1336.001.2022274191819.nc already downloaded\n",
      "File VNP03IMG.A2022274.1336.002.2022274204315.nc already downloaded\n",
      "File VNP03IMG.A2022274.1518.001.2022274210743.nc already downloaded\n",
      "File VNP03IMG.A2022274.1518.002.2022274221546.nc already downloaded\n",
      "File VNP03IMG.A2022274.1654.001.2022274223744.nc already downloaded\n",
      "File VNP03IMG.A2022274.1654.002.2022274235617.nc already downloaded\n",
      "File VNP03IMG.A2022274.1700.001.2022274223746.nc already downloaded\n",
      "File VNP03IMG.A2022274.2018.002.2022275054111.nc already downloaded\n",
      "File VNP03IMG.A2022274.2154.001.2022275061511.nc already downloaded\n",
      "File VNP03IMG.A2022274.1700.002.2022274235615.nc already downloaded\n",
      "File VNP03IMG.A2022274.2018.001.2022275030523.nc already downloaded\n",
      "File VNP03IMG.A2022274.1836.001.2022275001546.nc already downloaded\n",
      "File VNP03IMG.A2022274.1836.002.2022275015249.nc already downloaded\n",
      "File VNP03IMG.A2022274.2200.001.2022275061515.nc already downloaded\n",
      "File VNP03IMG.A2022274.2200.002.2022275073145.nc already downloaded\n",
      "File VNP03IMG.A2022274.2154.002.2022275073148.nc already downloaded\n"
     ]
    },
    {
     "name": "stderr",
     "output_type": "stream",
     "text": [
      "PROCESSING TASKS | : 100%|██████████| 30/30 [00:00<00:00, 130257.89it/s]\n",
      "COLLECTING RESULTS | : 100%|██████████| 30/30 [00:00<00:00, 264903.41it/s]\n"
     ]
    },
    {
     "name": "stdout",
     "output_type": "stream",
     "text": [
      "Granules found: 34\n",
      " Getting 30 granules, approx download size: 1.86 GB\n"
     ]
    },
    {
     "name": "stderr",
     "output_type": "stream",
     "text": [
      "QUEUEING TASKS | : 100%|██████████| 30/30 [00:00<00:00, 7758.61it/s]\n"
     ]
    },
    {
     "name": "stdout",
     "output_type": "stream",
     "text": [
      "File VNP03DNB.A2022274.0000.001.2022274083619.nc already downloaded\n",
      "File VNP03DNB.A2022274.0000.002.2022274094727.nc already downloaded\n",
      "File VNP03DNB.A2022274.0142.001.2022274080651.nc already downloaded\n",
      "File VNP03DNB.A2022274.0142.002.2022274094715.nc already downloaded\n",
      "File VNP03DNB.A2022274.0836.001.2022274143306.nc already downloaded\n",
      "File VNP03DNB.A2022274.0836.002.2022274172243.nc already downloaded\n",
      "File VNP03DNB.A2022274.1012.001.2022274175114.nc already downloaded\n",
      "File VNP03DNB.A2022274.1018.001.2022274175116.nc already downloaded\n",
      "File VNP03DNB.A2022274.1018.002.2022274190448.nc already downloaded\n",
      "File VNP03DNB.A2022274.1012.002.2022274190450.nc already downloaded\n",
      "File VNP03DNB.A2022274.1154.001.2022274191816.nc already downloaded\n",
      "File VNP03DNB.A2022274.1200.001.2022274191816.nc already downloaded\n",
      "File VNP03DNB.A2022274.1154.002.2022274204315.nc already downloaded\n",
      "File VNP03DNB.A2022274.1200.002.2022274204312.nc already downloaded\n",
      "File VNP03DNB.A2022274.1336.002.2022274204315.nc already downloaded\n",
      "File VNP03DNB.A2022274.1336.001.2022274191819.nc already downloaded\n",
      "File VNP03DNB.A2022274.1518.001.2022274210743.nc already downloaded\n",
      "File VNP03DNB.A2022274.1518.002.2022274221546.nc already downloaded\n",
      "File VNP03DNB.A2022274.1700.001.2022274223746.nc already downloaded\n",
      "File VNP03DNB.A2022274.1654.002.2022274235617.nc already downloaded\n",
      "File VNP03DNB.A2022274.1654.001.2022274223744.nc already downloaded\n",
      "File VNP03DNB.A2022274.1836.001.2022275001546.nc already downloaded\n",
      "File VNP03DNB.A2022274.2018.002.2022275054111.nc already downloaded\n",
      "File VNP03DNB.A2022274.1836.002.2022275015249.nc already downloaded\n",
      "File VNP03DNB.A2022274.2018.001.2022275030523.nc already downloaded\n",
      "File VNP03DNB.A2022274.2154.001.2022275061511.nc already downloaded\n",
      "File VNP03DNB.A2022274.1700.002.2022274235615.nc already downloaded\n",
      "File VNP03DNB.A2022274.2200.001.2022275061515.nc already downloaded\n",
      "File VNP03DNB.A2022274.2200.002.2022275073145.nc already downloaded\n",
      "File VNP03DNB.A2022274.2154.002.2022275073148.nc already downloaded\n"
     ]
    },
    {
     "name": "stderr",
     "output_type": "stream",
     "text": [
      "PROCESSING TASKS | : 100%|██████████| 30/30 [00:00<00:00, 175493.89it/s]\n",
      "COLLECTING RESULTS | : 100%|██████████| 30/30 [00:00<00:00, 289262.34it/s]\n"
     ]
    }
   ],
   "source": [
    "# earth data access\n",
    "earthaccess.login()\n",
    "download_files(\"2022-10-01\", \"2022-10-02\")"
   ]
  },
  {
   "cell_type": "code",
   "execution_count": 38,
   "id": "f64c8a2e-f1e4-45cb-8bc4-5e58e4d80e2c",
   "metadata": {
    "collapsed": true,
    "jupyter": {
     "outputs_hidden": true
    },
    "tags": []
   },
   "outputs": [
    {
     "name": "stdout",
     "output_type": "stream",
     "text": [
      "Granules found: 28\n",
      " Getting 28 granules, approx download size: 3.67 GB\n"
     ]
    },
    {
     "name": "stderr",
     "output_type": "stream",
     "text": [
      "QUEUEING TASKS | : 100%|██████████| 28/28 [00:00<00:00, 318.00it/s]\n"
     ]
    },
    {
     "name": "stdout",
     "output_type": "stream",
     "text": [
      "File VNP02MOD.A2022275.0118.001.2022275083542.nc already downloadedFile VNP02MOD.A2022275.0118.002.2022275093300.nc already downloaded\n",
      "\n",
      "File VNP02MOD.A2022275.0124.001.2022275083547.nc already downloaded\n",
      "File VNP02MOD.A2022275.0124.002.2022275093343.nc already downloaded\n",
      "File VNP02MOD.A2022275.0954.002.2022275185309.nc already downloaded\n",
      "File VNP02MOD.A2022275.0954.001.2022275174614.nc already downloaded\n",
      "File VNP02MOD.A2022275.1000.002.2022275185159.nc already downloaded\n",
      "File VNP02MOD.A2022275.1000.001.2022275173253.nc already downloaded\n",
      "File VNP02MOD.A2022275.1136.001.2022275174617.nc already downloaded\n",
      "File VNP02MOD.A2022275.1136.002.2022275185258.nc already downloaded\n",
      "File VNP02MOD.A2022275.1318.001.2022275191315.nc already downloaded\n",
      "File VNP02MOD.A2022275.1636.001.2022275230116.nc already downloaded\n",
      "File VNP02MOD.A2022275.1636.002.2022275235723.nc already downloaded\n",
      "File VNP02MOD.A2022275.1500.002.2022275215908.nc already downloaded\n",
      "File VNP02MOD.A2022275.1318.002.2022275202927.nc already downloaded\n",
      "File VNP02MOD.A2022275.1500.001.2022275213856.nc already downloaded\n",
      "File VNP02MOD.A2022275.1818.001.2022276005038.nc already downloaded\n",
      "File VNP02MOD.A2022275.1642.001.2022275230746.nc already downloaded\n",
      "File VNP02MOD.A2022275.2000.002.2022276055047.nc already downloaded\n",
      "File VNP02MOD.A2022275.2000.001.2022276045423.nc already downloaded\n",
      "File VNP02MOD.A2022275.1642.002.2022275234951.nc already downloaded\n"
     ]
    },
    {
     "name": "stderr",
     "output_type": "stream",
     "text": [
      "PROCESSING TASKS | :  79%|███████▊  | 22/28 [00:00<00:00, 34.38it/s]"
     ]
    },
    {
     "name": "stdout",
     "output_type": "stream",
     "text": [
      "File VNP02MOD.A2022275.2142.001.2022276045446.nc already downloaded\n",
      "File VNP02MOD.A2022275.1818.002.2022276035604.nc already downloaded\n",
      "File VNP02MOD.A2022275.2136.001.2022276045444.nc already downloaded\n"
     ]
    },
    {
     "name": "stderr",
     "output_type": "stream",
     "text": [
      "PROCESSING TASKS | : 100%|██████████| 28/28 [00:14<00:00,  1.88it/s]\n",
      "COLLECTING RESULTS | : 100%|██████████| 28/28 [00:00<00:00, 176337.11it/s]\n"
     ]
    },
    {
     "name": "stdout",
     "output_type": "stream",
     "text": [
      "Granules found: 28\n",
      " Getting 28 granules, approx download size: 4.76 GB\n"
     ]
    },
    {
     "name": "stderr",
     "output_type": "stream",
     "text": [
      "QUEUEING TASKS | : 100%|██████████| 28/28 [00:00<00:00, 2527.12it/s]\n",
      "PROCESSING TASKS | : 100%|██████████| 28/28 [00:58<00:00,  2.10s/it]\n",
      "COLLECTING RESULTS | : 100%|██████████| 28/28 [00:00<00:00, 130489.46it/s]\n"
     ]
    },
    {
     "name": "stdout",
     "output_type": "stream",
     "text": [
      "Granules found: 28\n",
      " Getting 28 granules, approx download size: 1.05 GB\n"
     ]
    },
    {
     "name": "stderr",
     "output_type": "stream",
     "text": [
      "QUEUEING TASKS | : 100%|██████████| 28/28 [00:00<00:00, 2628.95it/s]\n",
      "PROCESSING TASKS | : 100%|██████████| 28/28 [00:09<00:00,  3.03it/s]\n",
      "COLLECTING RESULTS | : 100%|██████████| 28/28 [00:00<00:00, 135144.43it/s]\n"
     ]
    },
    {
     "name": "stdout",
     "output_type": "stream",
     "text": [
      "Granules found: 28\n",
      " Getting 28 granules, approx download size: 1.4 GB\n"
     ]
    },
    {
     "name": "stderr",
     "output_type": "stream",
     "text": [
      "QUEUEING TASKS | : 100%|██████████| 28/28 [00:00<00:00, 2219.84it/s]\n",
      "PROCESSING TASKS | : 100%|██████████| 28/28 [00:10<00:00,  2.57it/s]\n",
      "COLLECTING RESULTS | : 100%|██████████| 28/28 [00:00<00:00, 188811.11it/s]\n"
     ]
    },
    {
     "name": "stdout",
     "output_type": "stream",
     "text": [
      "Granules found: 28\n",
      " Getting 28 granules, approx download size: 4.44 GB\n"
     ]
    },
    {
     "name": "stderr",
     "output_type": "stream",
     "text": [
      "QUEUEING TASKS | : 100%|██████████| 28/28 [00:00<00:00, 2559.06it/s]\n",
      "PROCESSING TASKS | : 100%|██████████| 28/28 [00:25<00:00,  1.10it/s]\n",
      "COLLECTING RESULTS | : 100%|██████████| 28/28 [00:00<00:00, 202135.13it/s]\n"
     ]
    },
    {
     "name": "stdout",
     "output_type": "stream",
     "text": [
      "Granules found: 28\n",
      " Getting 28 granules, approx download size: 1.73 GB\n"
     ]
    },
    {
     "name": "stderr",
     "output_type": "stream",
     "text": [
      "QUEUEING TASKS | : 100%|██████████| 28/28 [00:00<00:00, 2611.53it/s]\n",
      "PROCESSING TASKS | : 100%|██████████| 28/28 [00:13<00:00,  2.01it/s]\n",
      "COLLECTING RESULTS | : 100%|██████████| 28/28 [00:00<00:00, 141494.59it/s]\n"
     ]
    },
    {
     "name": "stdout",
     "output_type": "stream",
     "text": [
      "Granules found: 26\n",
      " Getting 26 granules, approx download size: 3.4 GB\n"
     ]
    },
    {
     "name": "stderr",
     "output_type": "stream",
     "text": [
      "QUEUEING TASKS | : 100%|██████████| 26/26 [00:00<00:00, 2146.23it/s]\n",
      "PROCESSING TASKS | : 100%|██████████| 26/26 [00:18<00:00,  1.38it/s]\n",
      "COLLECTING RESULTS | : 100%|██████████| 26/26 [00:00<00:00, 200095.24it/s]\n"
     ]
    },
    {
     "name": "stdout",
     "output_type": "stream",
     "text": [
      "Granules found: 26\n",
      " Getting 26 granules, approx download size: 4.44 GB\n"
     ]
    },
    {
     "name": "stderr",
     "output_type": "stream",
     "text": [
      "QUEUEING TASKS | : 100%|██████████| 26/26 [00:00<00:00, 1169.80it/s]\n",
      "PROCESSING TASKS | : 100%|██████████| 26/26 [00:35<00:00,  1.38s/it]\n",
      "COLLECTING RESULTS | : 100%|██████████| 26/26 [00:00<00:00, 162038.49it/s]\n"
     ]
    },
    {
     "name": "stdout",
     "output_type": "stream",
     "text": [
      "Granules found: 26\n",
      " Getting 26 granules, approx download size: 0.97 GB\n"
     ]
    },
    {
     "name": "stderr",
     "output_type": "stream",
     "text": [
      "QUEUEING TASKS | : 100%|██████████| 26/26 [00:00<00:00, 2241.38it/s]\n",
      "PROCESSING TASKS | : 100%|██████████| 26/26 [00:11<00:00,  2.35it/s]\n",
      "COLLECTING RESULTS | : 100%|██████████| 26/26 [00:00<00:00, 179067.17it/s]\n"
     ]
    },
    {
     "name": "stdout",
     "output_type": "stream",
     "text": [
      "Granules found: 26\n",
      " Getting 26 granules, approx download size: 1.31 GB\n"
     ]
    },
    {
     "name": "stderr",
     "output_type": "stream",
     "text": [
      "QUEUEING TASKS | : 100%|██████████| 26/26 [00:00<00:00, 2484.78it/s]\n",
      "PROCESSING TASKS | : 100%|██████████| 26/26 [00:14<00:00,  1.83it/s]\n",
      "COLLECTING RESULTS | : 100%|██████████| 26/26 [00:00<00:00, 87803.47it/s]\n"
     ]
    },
    {
     "name": "stdout",
     "output_type": "stream",
     "text": [
      "Granules found: 26\n",
      " Getting 26 granules, approx download size: 4.17 GB\n"
     ]
    },
    {
     "name": "stderr",
     "output_type": "stream",
     "text": [
      "QUEUEING TASKS | : 100%|██████████| 26/26 [00:00<00:00, 2528.56it/s]\n",
      "PROCESSING TASKS | : 100%|██████████| 26/26 [00:26<00:00,  1.03s/it]\n",
      "COLLECTING RESULTS | : 100%|██████████| 26/26 [00:00<00:00, 189326.22it/s]\n"
     ]
    },
    {
     "name": "stdout",
     "output_type": "stream",
     "text": [
      "Granules found: 26\n",
      " Getting 26 granules, approx download size: 1.6 GB\n"
     ]
    },
    {
     "name": "stderr",
     "output_type": "stream",
     "text": [
      "QUEUEING TASKS | : 100%|██████████| 26/26 [00:00<00:00, 1216.47it/s]\n",
      "PROCESSING TASKS | : 100%|██████████| 26/26 [00:15<00:00,  1.71it/s]\n",
      "COLLECTING RESULTS | : 100%|██████████| 26/26 [00:00<00:00, 124204.90it/s]\n"
     ]
    },
    {
     "name": "stdout",
     "output_type": "stream",
     "text": [
      "Granules found: 24\n",
      " Getting 24 granules, approx download size: 2.96 GB\n"
     ]
    },
    {
     "name": "stderr",
     "output_type": "stream",
     "text": [
      "QUEUEING TASKS | : 100%|██████████| 24/24 [00:00<00:00, 1939.94it/s]\n",
      "PROCESSING TASKS | : 100%|██████████| 24/24 [00:23<00:00,  1.03it/s]\n",
      "COLLECTING RESULTS | : 100%|██████████| 24/24 [00:00<00:00, 178165.13it/s]\n"
     ]
    },
    {
     "name": "stdout",
     "output_type": "stream",
     "text": [
      "Granules found: 24\n",
      " Getting 24 granules, approx download size: 3.9 GB\n"
     ]
    },
    {
     "name": "stderr",
     "output_type": "stream",
     "text": [
      "QUEUEING TASKS | : 100%|██████████| 24/24 [00:00<00:00, 2090.31it/s]\n",
      "PROCESSING TASKS | : 100%|██████████| 24/24 [00:31<00:00,  1.31s/it]\n",
      "COLLECTING RESULTS | : 100%|██████████| 24/24 [00:00<00:00, 175371.60it/s]\n"
     ]
    },
    {
     "name": "stdout",
     "output_type": "stream",
     "text": [
      "Granules found: 24\n",
      " Getting 24 granules, approx download size: 0.9 GB\n"
     ]
    },
    {
     "name": "stderr",
     "output_type": "stream",
     "text": [
      "QUEUEING TASKS | : 100%|██████████| 24/24 [00:00<00:00, 2319.91it/s]\n",
      "PROCESSING TASKS | : 100%|██████████| 24/24 [00:10<00:00,  2.20it/s]\n",
      "COLLECTING RESULTS | : 100%|██████████| 24/24 [00:00<00:00, 128725.44it/s]\n"
     ]
    },
    {
     "name": "stdout",
     "output_type": "stream",
     "text": [
      "Granules found: 24\n",
      " Getting 24 granules, approx download size: 1.21 GB\n"
     ]
    },
    {
     "name": "stderr",
     "output_type": "stream",
     "text": [
      "QUEUEING TASKS | : 100%|██████████| 24/24 [00:00<00:00, 1929.38it/s]\n",
      "PROCESSING TASKS | : 100%|██████████| 24/24 [00:15<00:00,  1.59it/s]\n",
      "COLLECTING RESULTS | : 100%|██████████| 24/24 [00:00<00:00, 106184.91it/s]\n"
     ]
    },
    {
     "name": "stdout",
     "output_type": "stream",
     "text": [
      "Granules found: 24\n",
      " Getting 24 granules, approx download size: 3.83 GB\n"
     ]
    },
    {
     "name": "stderr",
     "output_type": "stream",
     "text": [
      "QUEUEING TASKS | : 100%|██████████| 24/24 [00:00<00:00, 2245.85it/s]\n",
      "PROCESSING TASKS | : 100%|██████████| 24/24 [00:23<00:00,  1.03it/s]\n",
      "COLLECTING RESULTS | : 100%|██████████| 24/24 [00:00<00:00, 193583.26it/s]\n"
     ]
    },
    {
     "name": "stdout",
     "output_type": "stream",
     "text": [
      "Granules found: 24\n",
      " Getting 24 granules, approx download size: 1.47 GB\n"
     ]
    },
    {
     "name": "stderr",
     "output_type": "stream",
     "text": [
      "QUEUEING TASKS | : 100%|██████████| 24/24 [00:00<00:00, 735.04it/s]\n",
      "PROCESSING TASKS | :   4%|▍         | 1/24 [00:00<00:09,  2.42it/s]"
     ]
    },
    {
     "name": "stdout",
     "output_type": "stream",
     "text": [
      "Error while downloading the file VNP03DNB.A2022277.0918.002.2022277155452.nc\n",
      "Traceback (most recent call last):\n",
      "  File \"/home/jovyan/.conda/envs/sea-ice-oscillations/lib/python3.10/site-packages/earthaccess/store.py\", line 555, in _download_file\n",
      "    r.raise_for_status()\n",
      "  File \"/home/jovyan/.conda/envs/sea-ice-oscillations/lib/python3.10/site-packages/requests/models.py\", line 1021, in raise_for_status\n",
      "    raise HTTPError(http_error_msg, response=self)\n",
      "requests.exceptions.HTTPError: 429 Client Error: Too Many Requests for url: https://ladsweb.modaps.eosdis.nasa.gov/oauth/login?redirect=%2Farchive%2FallData%2F5200%2FVNP03DNB%2F2022%2F277%2FVNP03DNB.A2022277.0918.002.2022277155452.nc\n",
      "\n"
     ]
    },
    {
     "name": "stderr",
     "output_type": "stream",
     "text": [
      "PROCESSING TASKS | : 100%|██████████| 24/24 [00:09<00:00,  2.45it/s]\n",
      "COLLECTING RESULTS | : 100%|██████████| 24/24 [00:00<00:00, 148910.20it/s]\n"
     ]
    },
    {
     "name": "stdout",
     "output_type": "stream",
     "text": [
      "Granules found: 26\n",
      " Getting 26 granules, approx download size: 3.12 GB\n"
     ]
    },
    {
     "name": "stderr",
     "output_type": "stream",
     "text": [
      "QUEUEING TASKS | : 100%|██████████| 26/26 [00:00<00:00, 1195.15it/s]\n",
      "PROCESSING TASKS | :   4%|▍         | 1/26 [00:00<00:06,  4.05it/s]"
     ]
    },
    {
     "name": "stdout",
     "output_type": "stream",
     "text": [
      "Error while downloading the file VNP02MOD.A2022278.1042.001.2022278165355.nc\n",
      "Traceback (most recent call last):\n",
      "  File \"/home/jovyan/.conda/envs/sea-ice-oscillations/lib/python3.10/site-packages/earthaccess/store.py\", line 555, in _download_file\n",
      "    r.raise_for_status()\n",
      "  File \"/home/jovyan/.conda/envs/sea-ice-oscillations/lib/python3.10/site-packages/requests/models.py\", line 1021, in raise_for_status\n",
      "    raise HTTPError(http_error_msg, response=self)\n",
      "requests.exceptions.HTTPError: 429 Client Error: Too Many Requests for url: https://ladsweb.modaps.eosdis.nasa.gov/oauth/login?redirect=%2Farchive%2FallData%2F5110%2FVNP02MOD%2F2022%2F278%2FVNP02MOD.A2022278.1042.001.2022278165355.nc\n",
      "\n",
      "Error while downloading the file VNP02MOD.A2022278.0900.002.2022278162312.nc\n",
      "Traceback (most recent call last):\n",
      "  File \"/home/jovyan/.conda/envs/sea-ice-oscillations/lib/python3.10/site-packages/earthaccess/store.py\", line 555, in _download_file\n",
      "    r.raise_for_status()\n",
      "  File \"/home/jovyan/.conda/envs/sea-ice-oscillations/lib/python3.10/site-packages/requests/models.py\", line 1021, in raise_for_status\n",
      "    raise HTTPError(http_error_msg, response=self)\n",
      "requests.exceptions.HTTPError: 429 Client Error: Too Many Requests for url: https://ladsweb.modaps.eosdis.nasa.gov/oauth/login?redirect=%2Farchive%2FallData%2F5200%2FVNP02MOD%2F2022%2F278%2FVNP02MOD.A2022278.0900.002.2022278162312.nc\n",
      "\n",
      "Error while downloading the file VNP02MOD.A2022278.1224.001.2022278182954.nc\n",
      "Traceback (most recent call last):\n",
      "  File \"/home/jovyan/.conda/envs/sea-ice-oscillations/lib/python3.10/site-packages/earthaccess/store.py\", line 555, in _download_file\n",
      "    r.raise_for_status()\n",
      "  File \"/home/jovyan/.conda/envs/sea-ice-oscillations/lib/python3.10/site-packages/requests/models.py\", line 1021, in raise_for_status\n",
      "    raise HTTPError(http_error_msg, response=self)\n",
      "requests.exceptions.HTTPError: 429 Client Error: Too Many Requests for url: https://ladsweb.modaps.eosdis.nasa.gov/oauth/login?redirect=%2Farchive%2FallData%2F5110%2FVNP02MOD%2F2022%2F278%2FVNP02MOD.A2022278.1224.001.2022278182954.nc\n",
      "\n",
      "Error while downloading the file VNP02MOD.A2022278.1224.002.2022278205840.nc\n",
      "Traceback (most recent call last):\n",
      "  File \"/home/jovyan/.conda/envs/sea-ice-oscillations/lib/python3.10/site-packages/earthaccess/store.py\", line 555, in _download_file\n",
      "    r.raise_for_status()\n",
      "  File \"/home/jovyan/.conda/envs/sea-ice-oscillations/lib/python3.10/site-packages/requests/models.py\", line 1021, in raise_for_status\n",
      "    raise HTTPError(http_error_msg, response=self)\n",
      "requests.exceptions.HTTPError: 429 Client Error: Too Many Requests for url: https://ladsweb.modaps.eosdis.nasa.gov/oauth/login?redirect=%2Farchive%2FallData%2F5200%2FVNP02MOD%2F2022%2F278%2FVNP02MOD.A2022278.1224.002.2022278205840.nc\n",
      "\n"
     ]
    },
    {
     "name": "stderr",
     "output_type": "stream",
     "text": [
      "PROCESSING TASKS | :  19%|█▉        | 5/26 [00:00<00:01, 11.54it/s]"
     ]
    },
    {
     "name": "stdout",
     "output_type": "stream",
     "text": [
      "Error while downloading the file VNP02MOD.A2022278.1406.001.2022278214104.nc\n",
      "Traceback (most recent call last):\n",
      "  File \"/home/jovyan/.conda/envs/sea-ice-oscillations/lib/python3.10/site-packages/earthaccess/store.py\", line 555, in _download_file\n",
      "    r.raise_for_status()\n",
      "  File \"/home/jovyan/.conda/envs/sea-ice-oscillations/lib/python3.10/site-packages/requests/models.py\", line 1021, in raise_for_status\n",
      "    raise HTTPError(http_error_msg, response=self)\n",
      "requests.exceptions.HTTPError: 429 Client Error: Too Many Requests for url: https://ladsweb.modaps.eosdis.nasa.gov/profiles/licenses/archive/allData/5110/VNP02MOD/2022/278/VNP02MOD.A2022278.1406.001.2022278214104.nc\n",
      "\n",
      "Error while downloading the file VNP02MOD.A2022278.1406.002.2022278224053.nc\n",
      "Traceback (most recent call last):\n",
      "  File \"/home/jovyan/.conda/envs/sea-ice-oscillations/lib/python3.10/site-packages/earthaccess/store.py\", line 555, in _download_file\n",
      "    r.raise_for_status()\n",
      "  File \"/home/jovyan/.conda/envs/sea-ice-oscillations/lib/python3.10/site-packages/requests/models.py\", line 1021, in raise_for_status\n",
      "    raise HTTPError(http_error_msg, response=self)\n",
      "requests.exceptions.HTTPError: 429 Client Error: Too Many Requests for url: https://ladsweb.modaps.eosdis.nasa.gov/profiles/licenses/archive/allData/5200/VNP02MOD/2022/278/VNP02MOD.A2022278.1406.002.2022278224053.nc\n",
      "\n",
      "Error while downloading the file VNP02MOD.A2022278.1400.002.2022278224500.nc\n",
      "Traceback (most recent call last):\n",
      "  File \"/home/jovyan/.conda/envs/sea-ice-oscillations/lib/python3.10/site-packages/earthaccess/store.py\", line 555, in _download_file\n",
      "    r.raise_for_status()\n",
      "  File \"/home/jovyan/.conda/envs/sea-ice-oscillations/lib/python3.10/site-packages/requests/models.py\", line 1021, in raise_for_status\n",
      "    raise HTTPError(http_error_msg, response=self)\n",
      "requests.exceptions.HTTPError: 429 Client Error: Too Many Requests for url: https://ladsweb.modaps.eosdis.nasa.gov/oauth/login?redirect=%2Farchive%2FallData%2F5200%2FVNP02MOD%2F2022%2F278%2FVNP02MOD.A2022278.1400.002.2022278224500.nc\n",
      "\n"
     ]
    },
    {
     "name": "stderr",
     "output_type": "stream",
     "text": [
      "PROCESSING TASKS | :  31%|███       | 8/26 [00:00<00:01, 11.17it/s]"
     ]
    },
    {
     "name": "stdout",
     "output_type": "stream",
     "text": [
      "Error while downloading the file VNP02MOD.A2022278.1718.001.2022278232418.nc\n",
      "Traceback (most recent call last):\n",
      "  File \"/home/jovyan/.conda/envs/sea-ice-oscillations/lib/python3.10/site-packages/earthaccess/store.py\", line 555, in _download_file\n",
      "    r.raise_for_status()\n",
      "  File \"/home/jovyan/.conda/envs/sea-ice-oscillations/lib/python3.10/site-packages/requests/models.py\", line 1021, in raise_for_status\n",
      "    raise HTTPError(http_error_msg, response=self)\n",
      "requests.exceptions.HTTPError: 429 Client Error: Too Many Requests for url: https://ladsweb.modaps.eosdis.nasa.gov/profiles/licenses/archive/allData/5110/VNP02MOD/2022/278/VNP02MOD.A2022278.1718.001.2022278232418.nc\n",
      "\n",
      "Error while downloading the file VNP02MOD.A2022278.1542.002.2022278224501.nc\n",
      "Traceback (most recent call last):\n",
      "  File \"/home/jovyan/.conda/envs/sea-ice-oscillations/lib/python3.10/site-packages/earthaccess/store.py\", line 555, in _download_file\n",
      "    r.raise_for_status()\n",
      "  File \"/home/jovyan/.conda/envs/sea-ice-oscillations/lib/python3.10/site-packages/requests/models.py\", line 1021, in raise_for_status\n",
      "    raise HTTPError(http_error_msg, response=self)\n",
      "requests.exceptions.HTTPError: 429 Client Error: Too Many Requests for url: https://ladsweb.modaps.eosdis.nasa.gov/oauth/login?redirect=%2Farchive%2FallData%2F5200%2FVNP02MOD%2F2022%2F278%2FVNP02MOD.A2022278.1542.002.2022278224501.nc\n",
      "\n"
     ]
    },
    {
     "name": "stderr",
     "output_type": "stream",
     "text": [
      "PROCESSING TASKS | : 100%|██████████| 26/26 [00:24<00:00,  1.04it/s]\n",
      "COLLECTING RESULTS | : 100%|██████████| 26/26 [00:00<00:00, 103563.06it/s]\n"
     ]
    },
    {
     "name": "stdout",
     "output_type": "stream",
     "text": [
      "Granules found: 26\n",
      " Getting 26 granules, approx download size: 4.09 GB\n"
     ]
    },
    {
     "name": "stderr",
     "output_type": "stream",
     "text": [
      "QUEUEING TASKS | : 100%|██████████| 26/26 [00:00<00:00, 2210.62it/s]\n",
      "PROCESSING TASKS | : 100%|██████████| 26/26 [00:25<00:00,  1.01it/s]\n",
      "COLLECTING RESULTS | : 100%|██████████| 26/26 [00:00<00:00, 125780.74it/s]\n"
     ]
    },
    {
     "name": "stdout",
     "output_type": "stream",
     "text": [
      "Granules found: 24\n",
      " Getting 24 granules, approx download size: 0.9 GB\n"
     ]
    },
    {
     "name": "stderr",
     "output_type": "stream",
     "text": [
      "QUEUEING TASKS | : 100%|██████████| 24/24 [00:00<00:00, 2567.48it/s]\n",
      "PROCESSING TASKS | : 100%|██████████| 24/24 [00:08<00:00,  2.70it/s]\n",
      "COLLECTING RESULTS | : 100%|██████████| 24/24 [00:00<00:00, 154391.56it/s]\n"
     ]
    },
    {
     "name": "stdout",
     "output_type": "stream",
     "text": [
      "Granules found: 26\n",
      " Getting 26 granules, approx download size: 1.3 GB\n"
     ]
    },
    {
     "name": "stderr",
     "output_type": "stream",
     "text": [
      "QUEUEING TASKS | : 100%|██████████| 26/26 [00:00<00:00, 2722.89it/s]\n",
      "PROCESSING TASKS | : 100%|██████████| 26/26 [00:08<00:00,  2.90it/s]\n",
      "COLLECTING RESULTS | : 100%|██████████| 26/26 [00:00<00:00, 144248.55it/s]\n"
     ]
    },
    {
     "name": "stdout",
     "output_type": "stream",
     "text": [
      "Granules found: 26\n",
      " Getting 26 granules, approx download size: 4.14 GB\n"
     ]
    },
    {
     "name": "stderr",
     "output_type": "stream",
     "text": [
      "QUEUEING TASKS | : 100%|██████████| 26/26 [00:00<00:00, 1953.81it/s]\n",
      "PROCESSING TASKS | :   4%|▍         | 1/26 [00:00<00:06,  3.93it/s]"
     ]
    },
    {
     "name": "stdout",
     "output_type": "stream",
     "text": [
      "Error while downloading the file VNP03IMG.A2022278.1042.001.2022278164319.nc\n",
      "Traceback (most recent call last):\n",
      "  File \"/home/jovyan/.conda/envs/sea-ice-oscillations/lib/python3.10/site-packages/earthaccess/store.py\", line 555, in _download_file\n",
      "    r.raise_for_status()\n",
      "  File \"/home/jovyan/.conda/envs/sea-ice-oscillations/lib/python3.10/site-packages/requests/models.py\", line 1021, in raise_for_status\n",
      "    raise HTTPError(http_error_msg, response=self)\n",
      "requests.exceptions.HTTPError: 429 Client Error: Too Many Requests for url: https://ladsweb.modaps.eosdis.nasa.gov/oauth/login?redirect=%2Farchive%2FallData%2F5110%2FVNP03IMG%2F2022%2F278%2FVNP03IMG.A2022278.1042.001.2022278164319.nc\n",
      "\n",
      "Error while downloading the file VNP03IMG.A2022278.1042.002.2022278172724.nc\n",
      "Traceback (most recent call last):\n",
      "  File \"/home/jovyan/.conda/envs/sea-ice-oscillations/lib/python3.10/site-packages/earthaccess/store.py\", line 555, in _download_file\n",
      "    r.raise_for_status()\n",
      "  File \"/home/jovyan/.conda/envs/sea-ice-oscillations/lib/python3.10/site-packages/requests/models.py\", line 1021, in raise_for_status\n",
      "    raise HTTPError(http_error_msg, response=self)\n",
      "requests.exceptions.HTTPError: 429 Client Error: Too Many Requests for url: https://ladsweb.modaps.eosdis.nasa.gov/oauth/login?redirect=%2Farchive%2FallData%2F5200%2FVNP03IMG%2F2022%2F278%2FVNP03IMG.A2022278.1042.002.2022278172724.nc\n",
      "\n"
     ]
    },
    {
     "name": "stderr",
     "output_type": "stream",
     "text": [
      "PROCESSING TASKS | : 100%|██████████| 26/26 [00:22<00:00,  1.16it/s]\n",
      "COLLECTING RESULTS | : 100%|██████████| 26/26 [00:00<00:00, 195433.52it/s]\n"
     ]
    },
    {
     "name": "stdout",
     "output_type": "stream",
     "text": [
      "Granules found: 24\n",
      " Getting 24 granules, approx download size: 1.47 GB\n"
     ]
    },
    {
     "name": "stderr",
     "output_type": "stream",
     "text": [
      "QUEUEING TASKS | : 100%|██████████| 24/24 [00:00<00:00, 2276.32it/s]\n",
      "PROCESSING TASKS | : 100%|██████████| 24/24 [00:15<00:00,  1.57it/s]\n",
      "COLLECTING RESULTS | : 100%|██████████| 24/24 [00:00<00:00, 175066.60it/s]\n"
     ]
    }
   ],
   "source": [
    "# download multiple files\n",
    "download_files(\"2022-10-02\", \"2022-10-03\")\n",
    "download_files(\"2022-10-03\", \"2022-10-04\")\n",
    "download_files(\"2022-10-04\", \"2022-10-05\")\n",
    "download_files(\"2022-10-05\", \"2022-10-06\")"
   ]
  },
  {
   "cell_type": "code",
   "execution_count": 39,
   "id": "c64d657c-aa35-4e96-8469-3ecf814bfa0e",
   "metadata": {
    "collapsed": true,
    "jupyter": {
     "outputs_hidden": true
    },
    "tags": []
   },
   "outputs": [
    {
     "data": {
      "text/plain": [
       "['A2022274.0000.002',\n",
       " 'A2022274.0142.002',\n",
       " 'A2022274.0836.002',\n",
       " 'A2022274.1012.002',\n",
       " 'A2022274.1018.002',\n",
       " 'A2022274.1154.002',\n",
       " 'A2022274.1200.002',\n",
       " 'A2022274.1336.002',\n",
       " 'A2022274.1518.002',\n",
       " 'A2022274.1654.002',\n",
       " 'A2022274.1700.002',\n",
       " 'A2022274.1836.002',\n",
       " 'A2022274.2018.002',\n",
       " 'A2022274.2154.002',\n",
       " 'A2022274.2200.002',\n",
       " 'A2022275.0118.002',\n",
       " 'A2022275.0124.002',\n",
       " 'A2022275.0954.002',\n",
       " 'A2022275.1000.002',\n",
       " 'A2022275.1136.002',\n",
       " 'A2022275.1318.002',\n",
       " 'A2022275.1500.002',\n",
       " 'A2022275.1636.002',\n",
       " 'A2022275.1642.002',\n",
       " 'A2022275.1818.002',\n",
       " 'A2022275.2000.002',\n",
       " 'A2022275.2136.002',\n",
       " 'A2022275.2142.002',\n",
       " 'A2022275.2318.002',\n",
       " 'A2022276.0100.002',\n",
       " 'A2022276.0936.002',\n",
       " 'A2022276.1118.002',\n",
       " 'A2022276.1300.002',\n",
       " 'A2022276.1436.002',\n",
       " 'A2022276.1442.002',\n",
       " 'A2022276.1618.002',\n",
       " 'A2022276.1624.002',\n",
       " 'A2022276.1800.002',\n",
       " 'A2022276.1936.002',\n",
       " 'A2022276.1942.002',\n",
       " 'A2022276.2118.002',\n",
       " 'A2022276.2300.002',\n",
       " 'A2022277.0042.002',\n",
       " 'A2022277.0918.002',\n",
       " 'A2022277.1100.002',\n",
       " 'A2022277.1242.002',\n",
       " 'A2022277.1418.002',\n",
       " 'A2022277.1424.002',\n",
       " 'A2022277.1600.002',\n",
       " 'A2022277.1742.002',\n",
       " 'A2022277.1918.002',\n",
       " 'A2022277.1924.002',\n",
       " 'A2022277.2100.002',\n",
       " 'A2022277.2242.002',\n",
       " 'A2022278.0024.002',\n",
       " 'A2022278.0900.002',\n",
       " 'A2022278.1042.002',\n",
       " 'A2022278.1224.002',\n",
       " 'A2022278.1400.002',\n",
       " 'A2022278.1406.002',\n",
       " 'A2022278.1542.002',\n",
       " 'A2022278.1718.002',\n",
       " 'A2022278.1724.002',\n",
       " 'A2022278.1900.002',\n",
       " 'A2022278.1906.002',\n",
       " 'A2022278.2042.002',\n",
       " 'A2022278.2224.002']"
      ]
     },
     "execution_count": 39,
     "metadata": {},
     "output_type": "execute_result"
    }
   ],
   "source": [
    "# list of prefix\n",
    "fpath = sorted(glob('data/*.002.*.nc'))\n",
    "\n",
    "fileglob = []\n",
    "for f in fpath:\n",
    "    aux = f.split('.')[1:-1]\n",
    "    fileglob.append(f'{aux[0]}.{aux[1]}.{aux[2]}')\n",
    "fileglob = sorted(list(set(fileglob)))\n",
    "fileglob"
   ]
  },
  {
   "cell_type": "code",
   "execution_count": 40,
   "id": "44508e6b-6a1e-49e5-85df-22757e94fc12",
   "metadata": {
    "collapsed": true,
    "jupyter": {
     "outputs_hidden": true
    },
    "tags": []
   },
   "outputs": [
    {
     "name": "stdout",
     "output_type": "stream",
     "text": [
      "A2022274.0000.002\n"
     ]
    },
    {
     "name": "stderr",
     "output_type": "stream",
     "text": [
      "/home/jovyan/.conda/envs/sea-ice-oscillations/lib/python3.10/site-packages/dask/array/chunk.py:278: RuntimeWarning: invalid value encountered in cast\n",
      "  return x.astype(astype_dtype, **kwargs)\n"
     ]
    },
    {
     "name": "stdout",
     "output_type": "stream",
     "text": [
      "couldn't save A2022274.0000.002\n",
      "A2022274.0142.002\n"
     ]
    },
    {
     "name": "stderr",
     "output_type": "stream",
     "text": [
      "/home/jovyan/.conda/envs/sea-ice-oscillations/lib/python3.10/site-packages/dask/array/chunk.py:278: RuntimeWarning: invalid value encountered in cast\n",
      "  return x.astype(astype_dtype, **kwargs)\n"
     ]
    },
    {
     "name": "stdout",
     "output_type": "stream",
     "text": [
      "couldn't save A2022274.0142.002\n",
      "A2022274.0836.002\n"
     ]
    },
    {
     "name": "stderr",
     "output_type": "stream",
     "text": [
      "Failed to load DataID(name='I01', wavelength=WavelengthRange(min=0.6, central=0.64, max=0.68, unit='µm'), resolution=371, calibration=<calibration.reflectance>, modifiers=()) from <VIIRSL1BFileHandler: 'data/VNP02IMG.A2022274.0836.002.2022274175111.nc'>\n",
      "Traceback (most recent call last):\n",
      "  File \"/home/jovyan/.conda/envs/sea-ice-oscillations/lib/python3.10/site-packages/satpy/readers/yaml_reader.py\", line 699, in _load_dataset\n",
      "    projectable = fh.get_dataset(dsid, ds_info)\n",
      "  File \"/home/jovyan/.conda/envs/sea-ice-oscillations/lib/python3.10/site-packages/satpy/readers/viirs_l1b.py\", line 203, in get_dataset\n",
      "    metadata = self.get_metadata(dataset_id, ds_info)\n",
      "  File \"/home/jovyan/.conda/envs/sea-ice-oscillations/lib/python3.10/site-packages/satpy/readers/viirs_l1b.py\", line 182, in get_metadata\n",
      "    i = getattr(self[var_path], 'attrs', {})\n",
      "  File \"/home/jovyan/.conda/envs/sea-ice-oscillations/lib/python3.10/site-packages/satpy/readers/netcdf_utils.py\", line 279, in __getitem__\n",
      "    val = self.file_content[key]\n",
      "KeyError: 'observation_data/I01'\n",
      "Could not load dataset 'DataID(name='I01', wavelength=WavelengthRange(min=0.6, central=0.64, max=0.68, unit='µm'), resolution=371, calibration=<calibration.reflectance>, modifiers=())': \"Could not load DataID(name='I01', wavelength=WavelengthRange(min=0.6, central=0.64, max=0.68, unit='µm'), resolution=371, calibration=<calibration.reflectance>, modifiers=()) from any provided files\"\n",
      "Traceback (most recent call last):\n",
      "  File \"/home/jovyan/.conda/envs/sea-ice-oscillations/lib/python3.10/site-packages/satpy/readers/yaml_reader.py\", line 823, in _load_dataset_with_area\n",
      "    ds = self._load_dataset_data(file_handlers, dsid, **kwargs)\n",
      "  File \"/home/jovyan/.conda/envs/sea-ice-oscillations/lib/python3.10/site-packages/satpy/readers/yaml_reader.py\", line 723, in _load_dataset_data\n",
      "    proj = self._load_dataset(dsid, ds_info, file_handlers, **kwargs)\n",
      "  File \"/home/jovyan/.conda/envs/sea-ice-oscillations/lib/python3.10/site-packages/satpy/readers/yaml_reader.py\", line 708, in _load_dataset\n",
      "    raise KeyError(\n",
      "KeyError: \"Could not load DataID(name='I01', wavelength=WavelengthRange(min=0.6, central=0.64, max=0.68, unit='µm'), resolution=371, calibration=<calibration.reflectance>, modifiers=()) from any provided files\"\n",
      "Failed to load DataID(name='I03', wavelength=WavelengthRange(min=1.58, central=1.61, max=1.64, unit='µm'), resolution=371, calibration=<calibration.reflectance>, modifiers=()) from <VIIRSL1BFileHandler: 'data/VNP02IMG.A2022274.0836.002.2022274175111.nc'>\n",
      "Traceback (most recent call last):\n",
      "  File \"/home/jovyan/.conda/envs/sea-ice-oscillations/lib/python3.10/site-packages/satpy/readers/yaml_reader.py\", line 699, in _load_dataset\n",
      "    projectable = fh.get_dataset(dsid, ds_info)\n",
      "  File \"/home/jovyan/.conda/envs/sea-ice-oscillations/lib/python3.10/site-packages/satpy/readers/viirs_l1b.py\", line 203, in get_dataset\n",
      "    metadata = self.get_metadata(dataset_id, ds_info)\n",
      "  File \"/home/jovyan/.conda/envs/sea-ice-oscillations/lib/python3.10/site-packages/satpy/readers/viirs_l1b.py\", line 182, in get_metadata\n",
      "    i = getattr(self[var_path], 'attrs', {})\n",
      "  File \"/home/jovyan/.conda/envs/sea-ice-oscillations/lib/python3.10/site-packages/satpy/readers/netcdf_utils.py\", line 279, in __getitem__\n",
      "    val = self.file_content[key]\n",
      "KeyError: 'observation_data/I03'\n",
      "Could not load dataset 'DataID(name='I03', wavelength=WavelengthRange(min=1.58, central=1.61, max=1.64, unit='µm'), resolution=371, calibration=<calibration.reflectance>, modifiers=())': \"Could not load DataID(name='I03', wavelength=WavelengthRange(min=1.58, central=1.61, max=1.64, unit='µm'), resolution=371, calibration=<calibration.reflectance>, modifiers=()) from any provided files\"\n",
      "Traceback (most recent call last):\n",
      "  File \"/home/jovyan/.conda/envs/sea-ice-oscillations/lib/python3.10/site-packages/satpy/readers/yaml_reader.py\", line 823, in _load_dataset_with_area\n",
      "    ds = self._load_dataset_data(file_handlers, dsid, **kwargs)\n",
      "  File \"/home/jovyan/.conda/envs/sea-ice-oscillations/lib/python3.10/site-packages/satpy/readers/yaml_reader.py\", line 723, in _load_dataset_data\n",
      "    proj = self._load_dataset(dsid, ds_info, file_handlers, **kwargs)\n",
      "  File \"/home/jovyan/.conda/envs/sea-ice-oscillations/lib/python3.10/site-packages/satpy/readers/yaml_reader.py\", line 708, in _load_dataset\n",
      "    raise KeyError(\n",
      "KeyError: \"Could not load DataID(name='I03', wavelength=WavelengthRange(min=1.58, central=1.61, max=1.64, unit='µm'), resolution=371, calibration=<calibration.reflectance>, modifiers=()) from any provided files\"\n",
      "The following datasets were not created and may require resampling to be generated: DataID(name='I01', wavelength=WavelengthRange(min=0.6, central=0.64, max=0.68, unit='µm'), resolution=371, calibration=<calibration.reflectance>, modifiers=()), DataID(name='I03', wavelength=WavelengthRange(min=1.58, central=1.61, max=1.64, unit='µm'), resolution=371, calibration=<calibration.reflectance>, modifiers=())\n"
     ]
    },
    {
     "name": "stdout",
     "output_type": "stream",
     "text": [
      "couldn't save A2022274.0836.002\n",
      "A2022274.1012.002\n"
     ]
    },
    {
     "name": "stderr",
     "output_type": "stream",
     "text": [
      "/home/jovyan/.conda/envs/sea-ice-oscillations/lib/python3.10/site-packages/numpy/lib/nanfunctions.py:1577: RuntimeWarning: All-NaN slice encountered\n",
      "  result = np.apply_along_axis(_nanquantile_1d, axis, a, q,\n",
      "/home/jovyan/.conda/envs/sea-ice-oscillations/lib/python3.10/site-packages/dask/array/chunk.py:278: RuntimeWarning: invalid value encountered in cast\n",
      "  return x.astype(astype_dtype, **kwargs)\n"
     ]
    },
    {
     "name": "stdout",
     "output_type": "stream",
     "text": [
      "couldn't save A2022274.1012.002\n",
      "A2022274.1018.002\n"
     ]
    },
    {
     "name": "stderr",
     "output_type": "stream",
     "text": [
      "Failed to load DataID(name='I01', wavelength=WavelengthRange(min=0.6, central=0.64, max=0.68, unit='µm'), resolution=371, calibration=<calibration.reflectance>, modifiers=()) from <VIIRSL1BFileHandler: 'data/VNP02IMG.A2022274.1018.002.2022274193015.nc'>\n",
      "Traceback (most recent call last):\n",
      "  File \"/home/jovyan/.conda/envs/sea-ice-oscillations/lib/python3.10/site-packages/satpy/readers/yaml_reader.py\", line 699, in _load_dataset\n",
      "    projectable = fh.get_dataset(dsid, ds_info)\n",
      "  File \"/home/jovyan/.conda/envs/sea-ice-oscillations/lib/python3.10/site-packages/satpy/readers/viirs_l1b.py\", line 203, in get_dataset\n",
      "    metadata = self.get_metadata(dataset_id, ds_info)\n",
      "  File \"/home/jovyan/.conda/envs/sea-ice-oscillations/lib/python3.10/site-packages/satpy/readers/viirs_l1b.py\", line 182, in get_metadata\n",
      "    i = getattr(self[var_path], 'attrs', {})\n",
      "  File \"/home/jovyan/.conda/envs/sea-ice-oscillations/lib/python3.10/site-packages/satpy/readers/netcdf_utils.py\", line 279, in __getitem__\n",
      "    val = self.file_content[key]\n",
      "KeyError: 'observation_data/I01'\n",
      "Could not load dataset 'DataID(name='I01', wavelength=WavelengthRange(min=0.6, central=0.64, max=0.68, unit='µm'), resolution=371, calibration=<calibration.reflectance>, modifiers=())': \"Could not load DataID(name='I01', wavelength=WavelengthRange(min=0.6, central=0.64, max=0.68, unit='µm'), resolution=371, calibration=<calibration.reflectance>, modifiers=()) from any provided files\"\n",
      "Traceback (most recent call last):\n",
      "  File \"/home/jovyan/.conda/envs/sea-ice-oscillations/lib/python3.10/site-packages/satpy/readers/yaml_reader.py\", line 823, in _load_dataset_with_area\n",
      "    ds = self._load_dataset_data(file_handlers, dsid, **kwargs)\n",
      "  File \"/home/jovyan/.conda/envs/sea-ice-oscillations/lib/python3.10/site-packages/satpy/readers/yaml_reader.py\", line 723, in _load_dataset_data\n",
      "    proj = self._load_dataset(dsid, ds_info, file_handlers, **kwargs)\n",
      "  File \"/home/jovyan/.conda/envs/sea-ice-oscillations/lib/python3.10/site-packages/satpy/readers/yaml_reader.py\", line 708, in _load_dataset\n",
      "    raise KeyError(\n",
      "KeyError: \"Could not load DataID(name='I01', wavelength=WavelengthRange(min=0.6, central=0.64, max=0.68, unit='µm'), resolution=371, calibration=<calibration.reflectance>, modifiers=()) from any provided files\"\n",
      "Failed to load DataID(name='I03', wavelength=WavelengthRange(min=1.58, central=1.61, max=1.64, unit='µm'), resolution=371, calibration=<calibration.reflectance>, modifiers=()) from <VIIRSL1BFileHandler: 'data/VNP02IMG.A2022274.1018.002.2022274193015.nc'>\n",
      "Traceback (most recent call last):\n",
      "  File \"/home/jovyan/.conda/envs/sea-ice-oscillations/lib/python3.10/site-packages/satpy/readers/yaml_reader.py\", line 699, in _load_dataset\n",
      "    projectable = fh.get_dataset(dsid, ds_info)\n",
      "  File \"/home/jovyan/.conda/envs/sea-ice-oscillations/lib/python3.10/site-packages/satpy/readers/viirs_l1b.py\", line 203, in get_dataset\n",
      "    metadata = self.get_metadata(dataset_id, ds_info)\n",
      "  File \"/home/jovyan/.conda/envs/sea-ice-oscillations/lib/python3.10/site-packages/satpy/readers/viirs_l1b.py\", line 182, in get_metadata\n",
      "    i = getattr(self[var_path], 'attrs', {})\n",
      "  File \"/home/jovyan/.conda/envs/sea-ice-oscillations/lib/python3.10/site-packages/satpy/readers/netcdf_utils.py\", line 279, in __getitem__\n",
      "    val = self.file_content[key]\n",
      "KeyError: 'observation_data/I03'\n",
      "Could not load dataset 'DataID(name='I03', wavelength=WavelengthRange(min=1.58, central=1.61, max=1.64, unit='µm'), resolution=371, calibration=<calibration.reflectance>, modifiers=())': \"Could not load DataID(name='I03', wavelength=WavelengthRange(min=1.58, central=1.61, max=1.64, unit='µm'), resolution=371, calibration=<calibration.reflectance>, modifiers=()) from any provided files\"\n",
      "Traceback (most recent call last):\n",
      "  File \"/home/jovyan/.conda/envs/sea-ice-oscillations/lib/python3.10/site-packages/satpy/readers/yaml_reader.py\", line 823, in _load_dataset_with_area\n",
      "    ds = self._load_dataset_data(file_handlers, dsid, **kwargs)\n",
      "  File \"/home/jovyan/.conda/envs/sea-ice-oscillations/lib/python3.10/site-packages/satpy/readers/yaml_reader.py\", line 723, in _load_dataset_data\n",
      "    proj = self._load_dataset(dsid, ds_info, file_handlers, **kwargs)\n",
      "  File \"/home/jovyan/.conda/envs/sea-ice-oscillations/lib/python3.10/site-packages/satpy/readers/yaml_reader.py\", line 708, in _load_dataset\n",
      "    raise KeyError(\n",
      "KeyError: \"Could not load DataID(name='I03', wavelength=WavelengthRange(min=1.58, central=1.61, max=1.64, unit='µm'), resolution=371, calibration=<calibration.reflectance>, modifiers=()) from any provided files\"\n",
      "The following datasets were not created and may require resampling to be generated: DataID(name='I01', wavelength=WavelengthRange(min=0.6, central=0.64, max=0.68, unit='µm'), resolution=371, calibration=<calibration.reflectance>, modifiers=()), DataID(name='I03', wavelength=WavelengthRange(min=1.58, central=1.61, max=1.64, unit='µm'), resolution=371, calibration=<calibration.reflectance>, modifiers=())\n"
     ]
    },
    {
     "name": "stdout",
     "output_type": "stream",
     "text": [
      "couldn't save A2022274.1018.002\n",
      "A2022274.1154.002\n"
     ]
    },
    {
     "name": "stderr",
     "output_type": "stream",
     "text": [
      "/home/jovyan/.conda/envs/sea-ice-oscillations/lib/python3.10/site-packages/numpy/lib/nanfunctions.py:1577: RuntimeWarning: All-NaN slice encountered\n",
      "  result = np.apply_along_axis(_nanquantile_1d, axis, a, q,\n",
      "/home/jovyan/.conda/envs/sea-ice-oscillations/lib/python3.10/site-packages/dask/array/chunk.py:278: RuntimeWarning: invalid value encountered in cast\n",
      "  return x.astype(astype_dtype, **kwargs)\n"
     ]
    },
    {
     "name": "stdout",
     "output_type": "stream",
     "text": [
      "couldn't save A2022274.1154.002\n",
      "A2022274.1200.002\n"
     ]
    },
    {
     "name": "stderr",
     "output_type": "stream",
     "text": [
      "Failed to load DataID(name='I01', wavelength=WavelengthRange(min=0.6, central=0.64, max=0.68, unit='µm'), resolution=371, calibration=<calibration.reflectance>, modifiers=()) from <VIIRSL1BFileHandler: 'data/VNP02IMG.A2022274.1200.002.2022274210758.nc'>\n",
      "Traceback (most recent call last):\n",
      "  File \"/home/jovyan/.conda/envs/sea-ice-oscillations/lib/python3.10/site-packages/satpy/readers/yaml_reader.py\", line 699, in _load_dataset\n",
      "    projectable = fh.get_dataset(dsid, ds_info)\n",
      "  File \"/home/jovyan/.conda/envs/sea-ice-oscillations/lib/python3.10/site-packages/satpy/readers/viirs_l1b.py\", line 203, in get_dataset\n",
      "    metadata = self.get_metadata(dataset_id, ds_info)\n",
      "  File \"/home/jovyan/.conda/envs/sea-ice-oscillations/lib/python3.10/site-packages/satpy/readers/viirs_l1b.py\", line 182, in get_metadata\n",
      "    i = getattr(self[var_path], 'attrs', {})\n",
      "  File \"/home/jovyan/.conda/envs/sea-ice-oscillations/lib/python3.10/site-packages/satpy/readers/netcdf_utils.py\", line 279, in __getitem__\n",
      "    val = self.file_content[key]\n",
      "KeyError: 'observation_data/I01'\n",
      "Could not load dataset 'DataID(name='I01', wavelength=WavelengthRange(min=0.6, central=0.64, max=0.68, unit='µm'), resolution=371, calibration=<calibration.reflectance>, modifiers=())': \"Could not load DataID(name='I01', wavelength=WavelengthRange(min=0.6, central=0.64, max=0.68, unit='µm'), resolution=371, calibration=<calibration.reflectance>, modifiers=()) from any provided files\"\n",
      "Traceback (most recent call last):\n",
      "  File \"/home/jovyan/.conda/envs/sea-ice-oscillations/lib/python3.10/site-packages/satpy/readers/yaml_reader.py\", line 823, in _load_dataset_with_area\n",
      "    ds = self._load_dataset_data(file_handlers, dsid, **kwargs)\n",
      "  File \"/home/jovyan/.conda/envs/sea-ice-oscillations/lib/python3.10/site-packages/satpy/readers/yaml_reader.py\", line 723, in _load_dataset_data\n",
      "    proj = self._load_dataset(dsid, ds_info, file_handlers, **kwargs)\n",
      "  File \"/home/jovyan/.conda/envs/sea-ice-oscillations/lib/python3.10/site-packages/satpy/readers/yaml_reader.py\", line 708, in _load_dataset\n",
      "    raise KeyError(\n",
      "KeyError: \"Could not load DataID(name='I01', wavelength=WavelengthRange(min=0.6, central=0.64, max=0.68, unit='µm'), resolution=371, calibration=<calibration.reflectance>, modifiers=()) from any provided files\"\n",
      "Failed to load DataID(name='I03', wavelength=WavelengthRange(min=1.58, central=1.61, max=1.64, unit='µm'), resolution=371, calibration=<calibration.reflectance>, modifiers=()) from <VIIRSL1BFileHandler: 'data/VNP02IMG.A2022274.1200.002.2022274210758.nc'>\n",
      "Traceback (most recent call last):\n",
      "  File \"/home/jovyan/.conda/envs/sea-ice-oscillations/lib/python3.10/site-packages/satpy/readers/yaml_reader.py\", line 699, in _load_dataset\n",
      "    projectable = fh.get_dataset(dsid, ds_info)\n",
      "  File \"/home/jovyan/.conda/envs/sea-ice-oscillations/lib/python3.10/site-packages/satpy/readers/viirs_l1b.py\", line 203, in get_dataset\n",
      "    metadata = self.get_metadata(dataset_id, ds_info)\n",
      "  File \"/home/jovyan/.conda/envs/sea-ice-oscillations/lib/python3.10/site-packages/satpy/readers/viirs_l1b.py\", line 182, in get_metadata\n",
      "    i = getattr(self[var_path], 'attrs', {})\n",
      "  File \"/home/jovyan/.conda/envs/sea-ice-oscillations/lib/python3.10/site-packages/satpy/readers/netcdf_utils.py\", line 279, in __getitem__\n",
      "    val = self.file_content[key]\n",
      "KeyError: 'observation_data/I03'\n",
      "Could not load dataset 'DataID(name='I03', wavelength=WavelengthRange(min=1.58, central=1.61, max=1.64, unit='µm'), resolution=371, calibration=<calibration.reflectance>, modifiers=())': \"Could not load DataID(name='I03', wavelength=WavelengthRange(min=1.58, central=1.61, max=1.64, unit='µm'), resolution=371, calibration=<calibration.reflectance>, modifiers=()) from any provided files\"\n",
      "Traceback (most recent call last):\n",
      "  File \"/home/jovyan/.conda/envs/sea-ice-oscillations/lib/python3.10/site-packages/satpy/readers/yaml_reader.py\", line 823, in _load_dataset_with_area\n",
      "    ds = self._load_dataset_data(file_handlers, dsid, **kwargs)\n",
      "  File \"/home/jovyan/.conda/envs/sea-ice-oscillations/lib/python3.10/site-packages/satpy/readers/yaml_reader.py\", line 723, in _load_dataset_data\n",
      "    proj = self._load_dataset(dsid, ds_info, file_handlers, **kwargs)\n",
      "  File \"/home/jovyan/.conda/envs/sea-ice-oscillations/lib/python3.10/site-packages/satpy/readers/yaml_reader.py\", line 708, in _load_dataset\n",
      "    raise KeyError(\n",
      "KeyError: \"Could not load DataID(name='I03', wavelength=WavelengthRange(min=1.58, central=1.61, max=1.64, unit='µm'), resolution=371, calibration=<calibration.reflectance>, modifiers=()) from any provided files\"\n",
      "The following datasets were not created and may require resampling to be generated: DataID(name='I01', wavelength=WavelengthRange(min=0.6, central=0.64, max=0.68, unit='µm'), resolution=371, calibration=<calibration.reflectance>, modifiers=()), DataID(name='I03', wavelength=WavelengthRange(min=1.58, central=1.61, max=1.64, unit='µm'), resolution=371, calibration=<calibration.reflectance>, modifiers=())\n"
     ]
    },
    {
     "name": "stdout",
     "output_type": "stream",
     "text": [
      "couldn't save A2022274.1200.002\n",
      "A2022274.1336.002\n"
     ]
    },
    {
     "name": "stderr",
     "output_type": "stream",
     "text": [
      "/home/jovyan/.conda/envs/sea-ice-oscillations/lib/python3.10/site-packages/numpy/lib/nanfunctions.py:1577: RuntimeWarning: All-NaN slice encountered\n",
      "  result = np.apply_along_axis(_nanquantile_1d, axis, a, q,\n",
      "/home/jovyan/.conda/envs/sea-ice-oscillations/lib/python3.10/site-packages/dask/array/chunk.py:278: RuntimeWarning: invalid value encountered in cast\n",
      "  return x.astype(astype_dtype, **kwargs)\n"
     ]
    },
    {
     "name": "stdout",
     "output_type": "stream",
     "text": [
      "couldn't save A2022274.1336.002\n",
      "A2022274.1518.002\n"
     ]
    },
    {
     "name": "stderr",
     "output_type": "stream",
     "text": [
      "/home/jovyan/.conda/envs/sea-ice-oscillations/lib/python3.10/site-packages/dask/core.py:121: RuntimeWarning: invalid value encountered in divide\n",
      "  return func(*(_execute_task(a, cache) for a in args))\n",
      "/home/jovyan/.conda/envs/sea-ice-oscillations/lib/python3.10/site-packages/dask/array/chunk.py:278: RuntimeWarning: invalid value encountered in cast\n",
      "  return x.astype(astype_dtype, **kwargs)\n"
     ]
    },
    {
     "name": "stdout",
     "output_type": "stream",
     "text": [
      "couldn't save A2022274.1518.002\n",
      "A2022274.1654.002\n"
     ]
    },
    {
     "name": "stderr",
     "output_type": "stream",
     "text": [
      "/home/jovyan/.conda/envs/sea-ice-oscillations/lib/python3.10/site-packages/dask/array/chunk.py:278: RuntimeWarning: invalid value encountered in cast\n",
      "  return x.astype(astype_dtype, **kwargs)\n"
     ]
    },
    {
     "name": "stdout",
     "output_type": "stream",
     "text": [
      "couldn't save A2022274.1654.002\n",
      "A2022274.1700.002\n"
     ]
    },
    {
     "name": "stderr",
     "output_type": "stream",
     "text": [
      "/home/jovyan/.conda/envs/sea-ice-oscillations/lib/python3.10/site-packages/dask/array/chunk.py:278: RuntimeWarning: invalid value encountered in cast\n",
      "  return x.astype(astype_dtype, **kwargs)\n"
     ]
    },
    {
     "name": "stdout",
     "output_type": "stream",
     "text": [
      "couldn't save A2022274.1700.002\n",
      "A2022274.1836.002\n",
      "couldn't save A2022274.1836.002\n",
      "A2022274.2018.002\n",
      "couldn't save A2022274.2018.002\n",
      "A2022274.2154.002\n"
     ]
    },
    {
     "name": "stderr",
     "output_type": "stream",
     "text": [
      "/home/jovyan/.conda/envs/sea-ice-oscillations/lib/python3.10/site-packages/dask/array/chunk.py:278: RuntimeWarning: invalid value encountered in cast\n",
      "  return x.astype(astype_dtype, **kwargs)\n"
     ]
    },
    {
     "name": "stdout",
     "output_type": "stream",
     "text": [
      "couldn't save A2022274.2154.002\n",
      "A2022274.2200.002\n"
     ]
    },
    {
     "name": "stderr",
     "output_type": "stream",
     "text": [
      "/home/jovyan/.conda/envs/sea-ice-oscillations/lib/python3.10/site-packages/dask/array/chunk.py:278: RuntimeWarning: invalid value encountered in cast\n",
      "  return x.astype(astype_dtype, **kwargs)\n"
     ]
    },
    {
     "name": "stdout",
     "output_type": "stream",
     "text": [
      "couldn't save A2022274.2200.002\n",
      "A2022275.0118.002\n"
     ]
    },
    {
     "name": "stderr",
     "output_type": "stream",
     "text": [
      "/home/jovyan/.conda/envs/sea-ice-oscillations/lib/python3.10/site-packages/dask/array/chunk.py:278: RuntimeWarning: invalid value encountered in cast\n",
      "  return x.astype(astype_dtype, **kwargs)\n"
     ]
    },
    {
     "name": "stdout",
     "output_type": "stream",
     "text": [
      "couldn't save A2022275.0118.002\n",
      "A2022275.0124.002\n"
     ]
    },
    {
     "name": "stderr",
     "output_type": "stream",
     "text": [
      "/home/jovyan/.conda/envs/sea-ice-oscillations/lib/python3.10/site-packages/dask/array/chunk.py:278: RuntimeWarning: invalid value encountered in cast\n",
      "  return x.astype(astype_dtype, **kwargs)\n"
     ]
    },
    {
     "name": "stdout",
     "output_type": "stream",
     "text": [
      "couldn't save A2022275.0124.002\n",
      "A2022275.0954.002\n"
     ]
    },
    {
     "name": "stderr",
     "output_type": "stream",
     "text": [
      "/home/jovyan/.conda/envs/sea-ice-oscillations/lib/python3.10/site-packages/numpy/lib/nanfunctions.py:1577: RuntimeWarning: All-NaN slice encountered\n",
      "  result = np.apply_along_axis(_nanquantile_1d, axis, a, q,\n",
      "/home/jovyan/.conda/envs/sea-ice-oscillations/lib/python3.10/site-packages/dask/array/chunk.py:278: RuntimeWarning: invalid value encountered in cast\n",
      "  return x.astype(astype_dtype, **kwargs)\n"
     ]
    },
    {
     "name": "stdout",
     "output_type": "stream",
     "text": [
      "couldn't save A2022275.0954.002\n",
      "A2022275.1000.002\n"
     ]
    },
    {
     "name": "stderr",
     "output_type": "stream",
     "text": [
      "Failed to load DataID(name='I01', wavelength=WavelengthRange(min=0.6, central=0.64, max=0.68, unit='µm'), resolution=371, calibration=<calibration.reflectance>, modifiers=()) from <VIIRSL1BFileHandler: 'data/VNP02IMG.A2022275.1000.002.2022275185159.nc'>\n",
      "Traceback (most recent call last):\n",
      "  File \"/home/jovyan/.conda/envs/sea-ice-oscillations/lib/python3.10/site-packages/satpy/readers/yaml_reader.py\", line 699, in _load_dataset\n",
      "    projectable = fh.get_dataset(dsid, ds_info)\n",
      "  File \"/home/jovyan/.conda/envs/sea-ice-oscillations/lib/python3.10/site-packages/satpy/readers/viirs_l1b.py\", line 203, in get_dataset\n",
      "    metadata = self.get_metadata(dataset_id, ds_info)\n",
      "  File \"/home/jovyan/.conda/envs/sea-ice-oscillations/lib/python3.10/site-packages/satpy/readers/viirs_l1b.py\", line 182, in get_metadata\n",
      "    i = getattr(self[var_path], 'attrs', {})\n",
      "  File \"/home/jovyan/.conda/envs/sea-ice-oscillations/lib/python3.10/site-packages/satpy/readers/netcdf_utils.py\", line 279, in __getitem__\n",
      "    val = self.file_content[key]\n",
      "KeyError: 'observation_data/I01'\n",
      "Could not load dataset 'DataID(name='I01', wavelength=WavelengthRange(min=0.6, central=0.64, max=0.68, unit='µm'), resolution=371, calibration=<calibration.reflectance>, modifiers=())': \"Could not load DataID(name='I01', wavelength=WavelengthRange(min=0.6, central=0.64, max=0.68, unit='µm'), resolution=371, calibration=<calibration.reflectance>, modifiers=()) from any provided files\"\n",
      "Traceback (most recent call last):\n",
      "  File \"/home/jovyan/.conda/envs/sea-ice-oscillations/lib/python3.10/site-packages/satpy/readers/yaml_reader.py\", line 823, in _load_dataset_with_area\n",
      "    ds = self._load_dataset_data(file_handlers, dsid, **kwargs)\n",
      "  File \"/home/jovyan/.conda/envs/sea-ice-oscillations/lib/python3.10/site-packages/satpy/readers/yaml_reader.py\", line 723, in _load_dataset_data\n",
      "    proj = self._load_dataset(dsid, ds_info, file_handlers, **kwargs)\n",
      "  File \"/home/jovyan/.conda/envs/sea-ice-oscillations/lib/python3.10/site-packages/satpy/readers/yaml_reader.py\", line 708, in _load_dataset\n",
      "    raise KeyError(\n",
      "KeyError: \"Could not load DataID(name='I01', wavelength=WavelengthRange(min=0.6, central=0.64, max=0.68, unit='µm'), resolution=371, calibration=<calibration.reflectance>, modifiers=()) from any provided files\"\n",
      "Failed to load DataID(name='I03', wavelength=WavelengthRange(min=1.58, central=1.61, max=1.64, unit='µm'), resolution=371, calibration=<calibration.reflectance>, modifiers=()) from <VIIRSL1BFileHandler: 'data/VNP02IMG.A2022275.1000.002.2022275185159.nc'>\n",
      "Traceback (most recent call last):\n",
      "  File \"/home/jovyan/.conda/envs/sea-ice-oscillations/lib/python3.10/site-packages/satpy/readers/yaml_reader.py\", line 699, in _load_dataset\n",
      "    projectable = fh.get_dataset(dsid, ds_info)\n",
      "  File \"/home/jovyan/.conda/envs/sea-ice-oscillations/lib/python3.10/site-packages/satpy/readers/viirs_l1b.py\", line 203, in get_dataset\n",
      "    metadata = self.get_metadata(dataset_id, ds_info)\n",
      "  File \"/home/jovyan/.conda/envs/sea-ice-oscillations/lib/python3.10/site-packages/satpy/readers/viirs_l1b.py\", line 182, in get_metadata\n",
      "    i = getattr(self[var_path], 'attrs', {})\n",
      "  File \"/home/jovyan/.conda/envs/sea-ice-oscillations/lib/python3.10/site-packages/satpy/readers/netcdf_utils.py\", line 279, in __getitem__\n",
      "    val = self.file_content[key]\n",
      "KeyError: 'observation_data/I03'\n",
      "Could not load dataset 'DataID(name='I03', wavelength=WavelengthRange(min=1.58, central=1.61, max=1.64, unit='µm'), resolution=371, calibration=<calibration.reflectance>, modifiers=())': \"Could not load DataID(name='I03', wavelength=WavelengthRange(min=1.58, central=1.61, max=1.64, unit='µm'), resolution=371, calibration=<calibration.reflectance>, modifiers=()) from any provided files\"\n",
      "Traceback (most recent call last):\n",
      "  File \"/home/jovyan/.conda/envs/sea-ice-oscillations/lib/python3.10/site-packages/satpy/readers/yaml_reader.py\", line 823, in _load_dataset_with_area\n",
      "    ds = self._load_dataset_data(file_handlers, dsid, **kwargs)\n",
      "  File \"/home/jovyan/.conda/envs/sea-ice-oscillations/lib/python3.10/site-packages/satpy/readers/yaml_reader.py\", line 723, in _load_dataset_data\n",
      "    proj = self._load_dataset(dsid, ds_info, file_handlers, **kwargs)\n",
      "  File \"/home/jovyan/.conda/envs/sea-ice-oscillations/lib/python3.10/site-packages/satpy/readers/yaml_reader.py\", line 708, in _load_dataset\n",
      "    raise KeyError(\n",
      "KeyError: \"Could not load DataID(name='I03', wavelength=WavelengthRange(min=1.58, central=1.61, max=1.64, unit='µm'), resolution=371, calibration=<calibration.reflectance>, modifiers=()) from any provided files\"\n",
      "The following datasets were not created and may require resampling to be generated: DataID(name='I01', wavelength=WavelengthRange(min=0.6, central=0.64, max=0.68, unit='µm'), resolution=371, calibration=<calibration.reflectance>, modifiers=()), DataID(name='I03', wavelength=WavelengthRange(min=1.58, central=1.61, max=1.64, unit='µm'), resolution=371, calibration=<calibration.reflectance>, modifiers=())\n"
     ]
    },
    {
     "name": "stdout",
     "output_type": "stream",
     "text": [
      "couldn't save A2022275.1000.002\n",
      "A2022275.1136.002\n"
     ]
    },
    {
     "name": "stderr",
     "output_type": "stream",
     "text": [
      "/home/jovyan/.conda/envs/sea-ice-oscillations/lib/python3.10/site-packages/numpy/lib/nanfunctions.py:1577: RuntimeWarning: All-NaN slice encountered\n",
      "  result = np.apply_along_axis(_nanquantile_1d, axis, a, q,\n",
      "/home/jovyan/.conda/envs/sea-ice-oscillations/lib/python3.10/site-packages/dask/array/chunk.py:278: RuntimeWarning: invalid value encountered in cast\n",
      "  return x.astype(astype_dtype, **kwargs)\n"
     ]
    },
    {
     "name": "stdout",
     "output_type": "stream",
     "text": [
      "couldn't save A2022275.1136.002\n",
      "A2022275.1318.002\n"
     ]
    },
    {
     "name": "stderr",
     "output_type": "stream",
     "text": [
      "/home/jovyan/.conda/envs/sea-ice-oscillations/lib/python3.10/site-packages/numpy/lib/nanfunctions.py:1577: RuntimeWarning: All-NaN slice encountered\n",
      "  result = np.apply_along_axis(_nanquantile_1d, axis, a, q,\n",
      "/home/jovyan/.conda/envs/sea-ice-oscillations/lib/python3.10/site-packages/dask/array/chunk.py:278: RuntimeWarning: invalid value encountered in cast\n",
      "  return x.astype(astype_dtype, **kwargs)\n"
     ]
    },
    {
     "name": "stdout",
     "output_type": "stream",
     "text": [
      "couldn't save A2022275.1318.002\n",
      "A2022275.1500.002\n"
     ]
    },
    {
     "name": "stderr",
     "output_type": "stream",
     "text": [
      "/home/jovyan/.conda/envs/sea-ice-oscillations/lib/python3.10/site-packages/dask/core.py:121: RuntimeWarning: invalid value encountered in divide\n",
      "  return func(*(_execute_task(a, cache) for a in args))\n",
      "/home/jovyan/.conda/envs/sea-ice-oscillations/lib/python3.10/site-packages/dask/array/chunk.py:278: RuntimeWarning: invalid value encountered in cast\n",
      "  return x.astype(astype_dtype, **kwargs)\n"
     ]
    },
    {
     "name": "stdout",
     "output_type": "stream",
     "text": [
      "couldn't save A2022275.1500.002\n",
      "A2022275.1636.002\n"
     ]
    },
    {
     "name": "stderr",
     "output_type": "stream",
     "text": [
      "/home/jovyan/.conda/envs/sea-ice-oscillations/lib/python3.10/site-packages/dask/array/chunk.py:278: RuntimeWarning: invalid value encountered in cast\n",
      "  return x.astype(astype_dtype, **kwargs)\n"
     ]
    },
    {
     "name": "stdout",
     "output_type": "stream",
     "text": [
      "couldn't save A2022275.1636.002\n",
      "A2022275.1642.002\n"
     ]
    },
    {
     "name": "stderr",
     "output_type": "stream",
     "text": [
      "/home/jovyan/.conda/envs/sea-ice-oscillations/lib/python3.10/site-packages/dask/core.py:121: RuntimeWarning: invalid value encountered in divide\n",
      "  return func(*(_execute_task(a, cache) for a in args))\n",
      "/home/jovyan/.conda/envs/sea-ice-oscillations/lib/python3.10/site-packages/dask/array/chunk.py:278: RuntimeWarning: invalid value encountered in cast\n",
      "  return x.astype(astype_dtype, **kwargs)\n"
     ]
    },
    {
     "name": "stdout",
     "output_type": "stream",
     "text": [
      "couldn't save A2022275.1642.002\n",
      "A2022275.1818.002\n",
      "couldn't save A2022275.1818.002\n",
      "A2022275.2000.002\n",
      "couldn't save A2022275.2000.002\n",
      "A2022275.2136.002\n"
     ]
    },
    {
     "name": "stderr",
     "output_type": "stream",
     "text": [
      "/home/jovyan/.conda/envs/sea-ice-oscillations/lib/python3.10/site-packages/dask/array/chunk.py:278: RuntimeWarning: invalid value encountered in cast\n",
      "  return x.astype(astype_dtype, **kwargs)\n"
     ]
    },
    {
     "name": "stdout",
     "output_type": "stream",
     "text": [
      "couldn't save A2022275.2136.002\n",
      "A2022275.2142.002\n"
     ]
    },
    {
     "name": "stderr",
     "output_type": "stream",
     "text": [
      "/home/jovyan/.conda/envs/sea-ice-oscillations/lib/python3.10/site-packages/dask/array/chunk.py:278: RuntimeWarning: invalid value encountered in cast\n",
      "  return x.astype(astype_dtype, **kwargs)\n"
     ]
    },
    {
     "name": "stdout",
     "output_type": "stream",
     "text": [
      "couldn't save A2022275.2142.002\n",
      "A2022275.2318.002\n",
      "couldn't save A2022275.2318.002\n",
      "A2022276.0100.002\n"
     ]
    },
    {
     "name": "stderr",
     "output_type": "stream",
     "text": [
      "/home/jovyan/.conda/envs/sea-ice-oscillations/lib/python3.10/site-packages/dask/array/chunk.py:278: RuntimeWarning: invalid value encountered in cast\n",
      "  return x.astype(astype_dtype, **kwargs)\n"
     ]
    },
    {
     "name": "stdout",
     "output_type": "stream",
     "text": [
      "couldn't save A2022276.0100.002\n",
      "A2022276.0936.002\n"
     ]
    },
    {
     "name": "stderr",
     "output_type": "stream",
     "text": [
      "/home/jovyan/.conda/envs/sea-ice-oscillations/lib/python3.10/site-packages/numpy/lib/nanfunctions.py:1577: RuntimeWarning: All-NaN slice encountered\n",
      "  result = np.apply_along_axis(_nanquantile_1d, axis, a, q,\n",
      "/home/jovyan/.conda/envs/sea-ice-oscillations/lib/python3.10/site-packages/dask/array/chunk.py:278: RuntimeWarning: invalid value encountered in cast\n",
      "  return x.astype(astype_dtype, **kwargs)\n"
     ]
    },
    {
     "name": "stdout",
     "output_type": "stream",
     "text": [
      "couldn't save A2022276.0936.002\n",
      "A2022276.1118.002\n"
     ]
    },
    {
     "name": "stderr",
     "output_type": "stream",
     "text": [
      "/home/jovyan/.conda/envs/sea-ice-oscillations/lib/python3.10/site-packages/numpy/lib/nanfunctions.py:1577: RuntimeWarning: All-NaN slice encountered\n",
      "  result = np.apply_along_axis(_nanquantile_1d, axis, a, q,\n",
      "/home/jovyan/.conda/envs/sea-ice-oscillations/lib/python3.10/site-packages/dask/array/chunk.py:278: RuntimeWarning: invalid value encountered in cast\n",
      "  return x.astype(astype_dtype, **kwargs)\n"
     ]
    },
    {
     "name": "stdout",
     "output_type": "stream",
     "text": [
      "couldn't save A2022276.1118.002\n",
      "A2022276.1300.002\n"
     ]
    },
    {
     "name": "stderr",
     "output_type": "stream",
     "text": [
      "/home/jovyan/.conda/envs/sea-ice-oscillations/lib/python3.10/site-packages/numpy/lib/nanfunctions.py:1577: RuntimeWarning: All-NaN slice encountered\n",
      "  result = np.apply_along_axis(_nanquantile_1d, axis, a, q,\n",
      "/home/jovyan/.conda/envs/sea-ice-oscillations/lib/python3.10/site-packages/dask/array/chunk.py:278: RuntimeWarning: invalid value encountered in cast\n",
      "  return x.astype(astype_dtype, **kwargs)\n"
     ]
    },
    {
     "name": "stdout",
     "output_type": "stream",
     "text": [
      "couldn't save A2022276.1300.002\n",
      "A2022276.1436.002\n"
     ]
    },
    {
     "name": "stderr",
     "output_type": "stream",
     "text": [
      "/home/jovyan/.conda/envs/sea-ice-oscillations/lib/python3.10/site-packages/dask/array/chunk.py:278: RuntimeWarning: invalid value encountered in cast\n",
      "  return x.astype(astype_dtype, **kwargs)\n"
     ]
    },
    {
     "name": "stdout",
     "output_type": "stream",
     "text": [
      "couldn't save A2022276.1436.002\n",
      "A2022276.1442.002\n"
     ]
    },
    {
     "name": "stderr",
     "output_type": "stream",
     "text": [
      "/home/jovyan/.conda/envs/sea-ice-oscillations/lib/python3.10/site-packages/dask/core.py:121: RuntimeWarning: invalid value encountered in divide\n",
      "  return func(*(_execute_task(a, cache) for a in args))\n",
      "/home/jovyan/.conda/envs/sea-ice-oscillations/lib/python3.10/site-packages/dask/array/chunk.py:278: RuntimeWarning: invalid value encountered in cast\n",
      "  return x.astype(astype_dtype, **kwargs)\n"
     ]
    },
    {
     "name": "stdout",
     "output_type": "stream",
     "text": [
      "couldn't save A2022276.1442.002\n",
      "A2022276.1618.002\n"
     ]
    },
    {
     "name": "stderr",
     "output_type": "stream",
     "text": [
      "/home/jovyan/.conda/envs/sea-ice-oscillations/lib/python3.10/site-packages/dask/core.py:121: RuntimeWarning: invalid value encountered in divide\n",
      "  return func(*(_execute_task(a, cache) for a in args))\n",
      "/home/jovyan/.conda/envs/sea-ice-oscillations/lib/python3.10/site-packages/dask/array/chunk.py:278: RuntimeWarning: invalid value encountered in cast\n",
      "  return x.astype(astype_dtype, **kwargs)\n"
     ]
    },
    {
     "name": "stdout",
     "output_type": "stream",
     "text": [
      "couldn't save A2022276.1618.002\n",
      "A2022276.1624.002\n"
     ]
    },
    {
     "name": "stderr",
     "output_type": "stream",
     "text": [
      "Failed to load DataID(name='I01', wavelength=WavelengthRange(min=0.6, central=0.64, max=0.68, unit='µm'), resolution=371, calibration=<calibration.reflectance>, modifiers=()) from <VIIRSL1BFileHandler: 'data/VNP02IMG.A2022276.1624.002.2022277012831.nc'>\n",
      "Traceback (most recent call last):\n",
      "  File \"/home/jovyan/.conda/envs/sea-ice-oscillations/lib/python3.10/site-packages/satpy/readers/yaml_reader.py\", line 699, in _load_dataset\n",
      "    projectable = fh.get_dataset(dsid, ds_info)\n",
      "  File \"/home/jovyan/.conda/envs/sea-ice-oscillations/lib/python3.10/site-packages/satpy/readers/viirs_l1b.py\", line 203, in get_dataset\n",
      "    metadata = self.get_metadata(dataset_id, ds_info)\n",
      "  File \"/home/jovyan/.conda/envs/sea-ice-oscillations/lib/python3.10/site-packages/satpy/readers/viirs_l1b.py\", line 182, in get_metadata\n",
      "    i = getattr(self[var_path], 'attrs', {})\n",
      "  File \"/home/jovyan/.conda/envs/sea-ice-oscillations/lib/python3.10/site-packages/satpy/readers/netcdf_utils.py\", line 279, in __getitem__\n",
      "    val = self.file_content[key]\n",
      "KeyError: 'observation_data/I01'\n",
      "Could not load dataset 'DataID(name='I01', wavelength=WavelengthRange(min=0.6, central=0.64, max=0.68, unit='µm'), resolution=371, calibration=<calibration.reflectance>, modifiers=())': \"Could not load DataID(name='I01', wavelength=WavelengthRange(min=0.6, central=0.64, max=0.68, unit='µm'), resolution=371, calibration=<calibration.reflectance>, modifiers=()) from any provided files\"\n",
      "Traceback (most recent call last):\n",
      "  File \"/home/jovyan/.conda/envs/sea-ice-oscillations/lib/python3.10/site-packages/satpy/readers/yaml_reader.py\", line 823, in _load_dataset_with_area\n",
      "    ds = self._load_dataset_data(file_handlers, dsid, **kwargs)\n",
      "  File \"/home/jovyan/.conda/envs/sea-ice-oscillations/lib/python3.10/site-packages/satpy/readers/yaml_reader.py\", line 723, in _load_dataset_data\n",
      "    proj = self._load_dataset(dsid, ds_info, file_handlers, **kwargs)\n",
      "  File \"/home/jovyan/.conda/envs/sea-ice-oscillations/lib/python3.10/site-packages/satpy/readers/yaml_reader.py\", line 708, in _load_dataset\n",
      "    raise KeyError(\n",
      "KeyError: \"Could not load DataID(name='I01', wavelength=WavelengthRange(min=0.6, central=0.64, max=0.68, unit='µm'), resolution=371, calibration=<calibration.reflectance>, modifiers=()) from any provided files\"\n",
      "Failed to load DataID(name='I03', wavelength=WavelengthRange(min=1.58, central=1.61, max=1.64, unit='µm'), resolution=371, calibration=<calibration.reflectance>, modifiers=()) from <VIIRSL1BFileHandler: 'data/VNP02IMG.A2022276.1624.002.2022277012831.nc'>\n",
      "Traceback (most recent call last):\n",
      "  File \"/home/jovyan/.conda/envs/sea-ice-oscillations/lib/python3.10/site-packages/satpy/readers/yaml_reader.py\", line 699, in _load_dataset\n",
      "    projectable = fh.get_dataset(dsid, ds_info)\n",
      "  File \"/home/jovyan/.conda/envs/sea-ice-oscillations/lib/python3.10/site-packages/satpy/readers/viirs_l1b.py\", line 203, in get_dataset\n",
      "    metadata = self.get_metadata(dataset_id, ds_info)\n",
      "  File \"/home/jovyan/.conda/envs/sea-ice-oscillations/lib/python3.10/site-packages/satpy/readers/viirs_l1b.py\", line 182, in get_metadata\n",
      "    i = getattr(self[var_path], 'attrs', {})\n",
      "  File \"/home/jovyan/.conda/envs/sea-ice-oscillations/lib/python3.10/site-packages/satpy/readers/netcdf_utils.py\", line 279, in __getitem__\n",
      "    val = self.file_content[key]\n",
      "KeyError: 'observation_data/I03'\n",
      "Could not load dataset 'DataID(name='I03', wavelength=WavelengthRange(min=1.58, central=1.61, max=1.64, unit='µm'), resolution=371, calibration=<calibration.reflectance>, modifiers=())': \"Could not load DataID(name='I03', wavelength=WavelengthRange(min=1.58, central=1.61, max=1.64, unit='µm'), resolution=371, calibration=<calibration.reflectance>, modifiers=()) from any provided files\"\n",
      "Traceback (most recent call last):\n",
      "  File \"/home/jovyan/.conda/envs/sea-ice-oscillations/lib/python3.10/site-packages/satpy/readers/yaml_reader.py\", line 823, in _load_dataset_with_area\n",
      "    ds = self._load_dataset_data(file_handlers, dsid, **kwargs)\n",
      "  File \"/home/jovyan/.conda/envs/sea-ice-oscillations/lib/python3.10/site-packages/satpy/readers/yaml_reader.py\", line 723, in _load_dataset_data\n",
      "    proj = self._load_dataset(dsid, ds_info, file_handlers, **kwargs)\n",
      "  File \"/home/jovyan/.conda/envs/sea-ice-oscillations/lib/python3.10/site-packages/satpy/readers/yaml_reader.py\", line 708, in _load_dataset\n",
      "    raise KeyError(\n",
      "KeyError: \"Could not load DataID(name='I03', wavelength=WavelengthRange(min=1.58, central=1.61, max=1.64, unit='µm'), resolution=371, calibration=<calibration.reflectance>, modifiers=()) from any provided files\"\n",
      "The following datasets were not created and may require resampling to be generated: DataID(name='I01', wavelength=WavelengthRange(min=0.6, central=0.64, max=0.68, unit='µm'), resolution=371, calibration=<calibration.reflectance>, modifiers=()), DataID(name='I03', wavelength=WavelengthRange(min=1.58, central=1.61, max=1.64, unit='µm'), resolution=371, calibration=<calibration.reflectance>, modifiers=())\n"
     ]
    },
    {
     "name": "stdout",
     "output_type": "stream",
     "text": [
      "couldn't save A2022276.1624.002\n",
      "A2022276.1800.002\n",
      "couldn't save A2022276.1800.002\n",
      "A2022276.1936.002\n"
     ]
    },
    {
     "name": "stderr",
     "output_type": "stream",
     "text": [
      "/home/jovyan/.conda/envs/sea-ice-oscillations/lib/python3.10/site-packages/dask/array/chunk.py:278: RuntimeWarning: invalid value encountered in cast\n",
      "  return x.astype(astype_dtype, **kwargs)\n"
     ]
    },
    {
     "name": "stdout",
     "output_type": "stream",
     "text": [
      "couldn't save A2022276.1936.002\n",
      "A2022276.1942.002\n"
     ]
    },
    {
     "name": "stderr",
     "output_type": "stream",
     "text": [
      "/home/jovyan/.conda/envs/sea-ice-oscillations/lib/python3.10/site-packages/dask/array/chunk.py:278: RuntimeWarning: invalid value encountered in cast\n",
      "  return x.astype(astype_dtype, **kwargs)\n"
     ]
    },
    {
     "name": "stdout",
     "output_type": "stream",
     "text": [
      "couldn't save A2022276.1942.002\n",
      "A2022276.2118.002\n"
     ]
    },
    {
     "name": "stderr",
     "output_type": "stream",
     "text": [
      "/home/jovyan/.conda/envs/sea-ice-oscillations/lib/python3.10/site-packages/dask/array/chunk.py:278: RuntimeWarning: invalid value encountered in cast\n",
      "  return x.astype(astype_dtype, **kwargs)\n"
     ]
    },
    {
     "name": "stdout",
     "output_type": "stream",
     "text": [
      "couldn't save A2022276.2118.002\n",
      "A2022276.2300.002\n",
      "couldn't save A2022276.2300.002\n",
      "A2022277.0042.002\n"
     ]
    },
    {
     "name": "stderr",
     "output_type": "stream",
     "text": [
      "/home/jovyan/.conda/envs/sea-ice-oscillations/lib/python3.10/site-packages/dask/array/chunk.py:278: RuntimeWarning: invalid value encountered in cast\n",
      "  return x.astype(astype_dtype, **kwargs)\n"
     ]
    },
    {
     "name": "stdout",
     "output_type": "stream",
     "text": [
      "couldn't save A2022277.0042.002\n",
      "A2022277.0918.002\n"
     ]
    },
    {
     "name": "stderr",
     "output_type": "stream",
     "text": [
      "/home/jovyan/.conda/envs/sea-ice-oscillations/lib/python3.10/site-packages/numpy/lib/nanfunctions.py:1577: RuntimeWarning: All-NaN slice encountered\n",
      "  result = np.apply_along_axis(_nanquantile_1d, axis, a, q,\n",
      "/home/jovyan/.conda/envs/sea-ice-oscillations/lib/python3.10/site-packages/dask/array/chunk.py:278: RuntimeWarning: invalid value encountered in cast\n",
      "  return x.astype(astype_dtype, **kwargs)\n"
     ]
    },
    {
     "name": "stdout",
     "output_type": "stream",
     "text": [
      "couldn't save A2022277.0918.002\n",
      "A2022277.1100.002\n"
     ]
    },
    {
     "name": "stderr",
     "output_type": "stream",
     "text": [
      "/home/jovyan/.conda/envs/sea-ice-oscillations/lib/python3.10/site-packages/numpy/lib/nanfunctions.py:1577: RuntimeWarning: All-NaN slice encountered\n",
      "  result = np.apply_along_axis(_nanquantile_1d, axis, a, q,\n",
      "/home/jovyan/.conda/envs/sea-ice-oscillations/lib/python3.10/site-packages/dask/array/chunk.py:278: RuntimeWarning: invalid value encountered in cast\n",
      "  return x.astype(astype_dtype, **kwargs)\n"
     ]
    },
    {
     "name": "stdout",
     "output_type": "stream",
     "text": [
      "couldn't save A2022277.1100.002\n",
      "A2022277.1242.002\n"
     ]
    },
    {
     "name": "stderr",
     "output_type": "stream",
     "text": [
      "Failed to load DataID(name='I01', wavelength=WavelengthRange(min=0.6, central=0.64, max=0.68, unit='µm'), resolution=371, calibration=<calibration.reflectance>, modifiers=()) from <VIIRSL1BFileHandler: 'data/VNP02IMG.A2022277.1242.002.2022277213721.nc'>\n",
      "Traceback (most recent call last):\n",
      "  File \"/home/jovyan/.conda/envs/sea-ice-oscillations/lib/python3.10/site-packages/satpy/readers/yaml_reader.py\", line 699, in _load_dataset\n",
      "    projectable = fh.get_dataset(dsid, ds_info)\n",
      "  File \"/home/jovyan/.conda/envs/sea-ice-oscillations/lib/python3.10/site-packages/satpy/readers/viirs_l1b.py\", line 203, in get_dataset\n",
      "    metadata = self.get_metadata(dataset_id, ds_info)\n",
      "  File \"/home/jovyan/.conda/envs/sea-ice-oscillations/lib/python3.10/site-packages/satpy/readers/viirs_l1b.py\", line 182, in get_metadata\n",
      "    i = getattr(self[var_path], 'attrs', {})\n",
      "  File \"/home/jovyan/.conda/envs/sea-ice-oscillations/lib/python3.10/site-packages/satpy/readers/netcdf_utils.py\", line 279, in __getitem__\n",
      "    val = self.file_content[key]\n",
      "KeyError: 'observation_data/I01'\n",
      "Could not load dataset 'DataID(name='I01', wavelength=WavelengthRange(min=0.6, central=0.64, max=0.68, unit='µm'), resolution=371, calibration=<calibration.reflectance>, modifiers=())': \"Could not load DataID(name='I01', wavelength=WavelengthRange(min=0.6, central=0.64, max=0.68, unit='µm'), resolution=371, calibration=<calibration.reflectance>, modifiers=()) from any provided files\"\n",
      "Traceback (most recent call last):\n",
      "  File \"/home/jovyan/.conda/envs/sea-ice-oscillations/lib/python3.10/site-packages/satpy/readers/yaml_reader.py\", line 823, in _load_dataset_with_area\n",
      "    ds = self._load_dataset_data(file_handlers, dsid, **kwargs)\n",
      "  File \"/home/jovyan/.conda/envs/sea-ice-oscillations/lib/python3.10/site-packages/satpy/readers/yaml_reader.py\", line 723, in _load_dataset_data\n",
      "    proj = self._load_dataset(dsid, ds_info, file_handlers, **kwargs)\n",
      "  File \"/home/jovyan/.conda/envs/sea-ice-oscillations/lib/python3.10/site-packages/satpy/readers/yaml_reader.py\", line 708, in _load_dataset\n",
      "    raise KeyError(\n",
      "KeyError: \"Could not load DataID(name='I01', wavelength=WavelengthRange(min=0.6, central=0.64, max=0.68, unit='µm'), resolution=371, calibration=<calibration.reflectance>, modifiers=()) from any provided files\"\n",
      "Failed to load DataID(name='I03', wavelength=WavelengthRange(min=1.58, central=1.61, max=1.64, unit='µm'), resolution=371, calibration=<calibration.reflectance>, modifiers=()) from <VIIRSL1BFileHandler: 'data/VNP02IMG.A2022277.1242.002.2022277213721.nc'>\n",
      "Traceback (most recent call last):\n",
      "  File \"/home/jovyan/.conda/envs/sea-ice-oscillations/lib/python3.10/site-packages/satpy/readers/yaml_reader.py\", line 699, in _load_dataset\n",
      "    projectable = fh.get_dataset(dsid, ds_info)\n",
      "  File \"/home/jovyan/.conda/envs/sea-ice-oscillations/lib/python3.10/site-packages/satpy/readers/viirs_l1b.py\", line 203, in get_dataset\n",
      "    metadata = self.get_metadata(dataset_id, ds_info)\n",
      "  File \"/home/jovyan/.conda/envs/sea-ice-oscillations/lib/python3.10/site-packages/satpy/readers/viirs_l1b.py\", line 182, in get_metadata\n",
      "    i = getattr(self[var_path], 'attrs', {})\n",
      "  File \"/home/jovyan/.conda/envs/sea-ice-oscillations/lib/python3.10/site-packages/satpy/readers/netcdf_utils.py\", line 279, in __getitem__\n",
      "    val = self.file_content[key]\n",
      "KeyError: 'observation_data/I03'\n",
      "Could not load dataset 'DataID(name='I03', wavelength=WavelengthRange(min=1.58, central=1.61, max=1.64, unit='µm'), resolution=371, calibration=<calibration.reflectance>, modifiers=())': \"Could not load DataID(name='I03', wavelength=WavelengthRange(min=1.58, central=1.61, max=1.64, unit='µm'), resolution=371, calibration=<calibration.reflectance>, modifiers=()) from any provided files\"\n",
      "Traceback (most recent call last):\n",
      "  File \"/home/jovyan/.conda/envs/sea-ice-oscillations/lib/python3.10/site-packages/satpy/readers/yaml_reader.py\", line 823, in _load_dataset_with_area\n",
      "    ds = self._load_dataset_data(file_handlers, dsid, **kwargs)\n",
      "  File \"/home/jovyan/.conda/envs/sea-ice-oscillations/lib/python3.10/site-packages/satpy/readers/yaml_reader.py\", line 723, in _load_dataset_data\n",
      "    proj = self._load_dataset(dsid, ds_info, file_handlers, **kwargs)\n",
      "  File \"/home/jovyan/.conda/envs/sea-ice-oscillations/lib/python3.10/site-packages/satpy/readers/yaml_reader.py\", line 708, in _load_dataset\n",
      "    raise KeyError(\n",
      "KeyError: \"Could not load DataID(name='I03', wavelength=WavelengthRange(min=1.58, central=1.61, max=1.64, unit='µm'), resolution=371, calibration=<calibration.reflectance>, modifiers=()) from any provided files\"\n",
      "The following datasets were not created and may require resampling to be generated: DataID(name='I01', wavelength=WavelengthRange(min=0.6, central=0.64, max=0.68, unit='µm'), resolution=371, calibration=<calibration.reflectance>, modifiers=()), DataID(name='I03', wavelength=WavelengthRange(min=1.58, central=1.61, max=1.64, unit='µm'), resolution=371, calibration=<calibration.reflectance>, modifiers=())\n"
     ]
    },
    {
     "name": "stdout",
     "output_type": "stream",
     "text": [
      "couldn't save A2022277.1242.002\n",
      "A2022277.1418.002\n"
     ]
    },
    {
     "name": "stderr",
     "output_type": "stream",
     "text": [
      "/home/jovyan/.conda/envs/sea-ice-oscillations/lib/python3.10/site-packages/dask/core.py:121: RuntimeWarning: invalid value encountered in divide\n",
      "  return func(*(_execute_task(a, cache) for a in args))\n",
      "/home/jovyan/.conda/envs/sea-ice-oscillations/lib/python3.10/site-packages/dask/array/chunk.py:278: RuntimeWarning: invalid value encountered in cast\n",
      "  return x.astype(astype_dtype, **kwargs)\n"
     ]
    },
    {
     "name": "stdout",
     "output_type": "stream",
     "text": [
      "couldn't save A2022277.1418.002\n",
      "A2022277.1424.002\n"
     ]
    },
    {
     "name": "stderr",
     "output_type": "stream",
     "text": [
      "Failed to load DataID(name='I01', wavelength=WavelengthRange(min=0.6, central=0.64, max=0.68, unit='µm'), resolution=371, calibration=<calibration.reflectance>, modifiers=()) from <VIIRSL1BFileHandler: 'data/VNP02IMG.A2022277.1424.002.2022277231901.nc'>\n",
      "Traceback (most recent call last):\n",
      "  File \"/home/jovyan/.conda/envs/sea-ice-oscillations/lib/python3.10/site-packages/satpy/readers/yaml_reader.py\", line 699, in _load_dataset\n",
      "    projectable = fh.get_dataset(dsid, ds_info)\n",
      "  File \"/home/jovyan/.conda/envs/sea-ice-oscillations/lib/python3.10/site-packages/satpy/readers/viirs_l1b.py\", line 203, in get_dataset\n",
      "    metadata = self.get_metadata(dataset_id, ds_info)\n",
      "  File \"/home/jovyan/.conda/envs/sea-ice-oscillations/lib/python3.10/site-packages/satpy/readers/viirs_l1b.py\", line 182, in get_metadata\n",
      "    i = getattr(self[var_path], 'attrs', {})\n",
      "  File \"/home/jovyan/.conda/envs/sea-ice-oscillations/lib/python3.10/site-packages/satpy/readers/netcdf_utils.py\", line 279, in __getitem__\n",
      "    val = self.file_content[key]\n",
      "KeyError: 'observation_data/I01'\n",
      "Could not load dataset 'DataID(name='I01', wavelength=WavelengthRange(min=0.6, central=0.64, max=0.68, unit='µm'), resolution=371, calibration=<calibration.reflectance>, modifiers=())': \"Could not load DataID(name='I01', wavelength=WavelengthRange(min=0.6, central=0.64, max=0.68, unit='µm'), resolution=371, calibration=<calibration.reflectance>, modifiers=()) from any provided files\"\n",
      "Traceback (most recent call last):\n",
      "  File \"/home/jovyan/.conda/envs/sea-ice-oscillations/lib/python3.10/site-packages/satpy/readers/yaml_reader.py\", line 823, in _load_dataset_with_area\n",
      "    ds = self._load_dataset_data(file_handlers, dsid, **kwargs)\n",
      "  File \"/home/jovyan/.conda/envs/sea-ice-oscillations/lib/python3.10/site-packages/satpy/readers/yaml_reader.py\", line 723, in _load_dataset_data\n",
      "    proj = self._load_dataset(dsid, ds_info, file_handlers, **kwargs)\n",
      "  File \"/home/jovyan/.conda/envs/sea-ice-oscillations/lib/python3.10/site-packages/satpy/readers/yaml_reader.py\", line 708, in _load_dataset\n",
      "    raise KeyError(\n",
      "KeyError: \"Could not load DataID(name='I01', wavelength=WavelengthRange(min=0.6, central=0.64, max=0.68, unit='µm'), resolution=371, calibration=<calibration.reflectance>, modifiers=()) from any provided files\"\n",
      "Failed to load DataID(name='I03', wavelength=WavelengthRange(min=1.58, central=1.61, max=1.64, unit='µm'), resolution=371, calibration=<calibration.reflectance>, modifiers=()) from <VIIRSL1BFileHandler: 'data/VNP02IMG.A2022277.1424.002.2022277231901.nc'>\n",
      "Traceback (most recent call last):\n",
      "  File \"/home/jovyan/.conda/envs/sea-ice-oscillations/lib/python3.10/site-packages/satpy/readers/yaml_reader.py\", line 699, in _load_dataset\n",
      "    projectable = fh.get_dataset(dsid, ds_info)\n",
      "  File \"/home/jovyan/.conda/envs/sea-ice-oscillations/lib/python3.10/site-packages/satpy/readers/viirs_l1b.py\", line 203, in get_dataset\n",
      "    metadata = self.get_metadata(dataset_id, ds_info)\n",
      "  File \"/home/jovyan/.conda/envs/sea-ice-oscillations/lib/python3.10/site-packages/satpy/readers/viirs_l1b.py\", line 182, in get_metadata\n",
      "    i = getattr(self[var_path], 'attrs', {})\n",
      "  File \"/home/jovyan/.conda/envs/sea-ice-oscillations/lib/python3.10/site-packages/satpy/readers/netcdf_utils.py\", line 279, in __getitem__\n",
      "    val = self.file_content[key]\n",
      "KeyError: 'observation_data/I03'\n",
      "Could not load dataset 'DataID(name='I03', wavelength=WavelengthRange(min=1.58, central=1.61, max=1.64, unit='µm'), resolution=371, calibration=<calibration.reflectance>, modifiers=())': \"Could not load DataID(name='I03', wavelength=WavelengthRange(min=1.58, central=1.61, max=1.64, unit='µm'), resolution=371, calibration=<calibration.reflectance>, modifiers=()) from any provided files\"\n",
      "Traceback (most recent call last):\n",
      "  File \"/home/jovyan/.conda/envs/sea-ice-oscillations/lib/python3.10/site-packages/satpy/readers/yaml_reader.py\", line 823, in _load_dataset_with_area\n",
      "    ds = self._load_dataset_data(file_handlers, dsid, **kwargs)\n",
      "  File \"/home/jovyan/.conda/envs/sea-ice-oscillations/lib/python3.10/site-packages/satpy/readers/yaml_reader.py\", line 723, in _load_dataset_data\n",
      "    proj = self._load_dataset(dsid, ds_info, file_handlers, **kwargs)\n",
      "  File \"/home/jovyan/.conda/envs/sea-ice-oscillations/lib/python3.10/site-packages/satpy/readers/yaml_reader.py\", line 708, in _load_dataset\n",
      "    raise KeyError(\n",
      "KeyError: \"Could not load DataID(name='I03', wavelength=WavelengthRange(min=1.58, central=1.61, max=1.64, unit='µm'), resolution=371, calibration=<calibration.reflectance>, modifiers=()) from any provided files\"\n",
      "The following datasets were not created and may require resampling to be generated: DataID(name='I01', wavelength=WavelengthRange(min=0.6, central=0.64, max=0.68, unit='µm'), resolution=371, calibration=<calibration.reflectance>, modifiers=()), DataID(name='I03', wavelength=WavelengthRange(min=1.58, central=1.61, max=1.64, unit='µm'), resolution=371, calibration=<calibration.reflectance>, modifiers=())\n"
     ]
    },
    {
     "name": "stdout",
     "output_type": "stream",
     "text": [
      "couldn't save A2022277.1424.002\n",
      "A2022277.1600.002\n"
     ]
    },
    {
     "name": "stderr",
     "output_type": "stream",
     "text": [
      "/home/jovyan/.conda/envs/sea-ice-oscillations/lib/python3.10/site-packages/dask/core.py:121: RuntimeWarning: invalid value encountered in divide\n",
      "  return func(*(_execute_task(a, cache) for a in args))\n",
      "/home/jovyan/.conda/envs/sea-ice-oscillations/lib/python3.10/site-packages/dask/array/chunk.py:278: RuntimeWarning: invalid value encountered in cast\n",
      "  return x.astype(astype_dtype, **kwargs)\n"
     ]
    },
    {
     "name": "stdout",
     "output_type": "stream",
     "text": [
      "couldn't save A2022277.1600.002\n",
      "A2022277.1742.002\n",
      "couldn't save A2022277.1742.002\n",
      "A2022277.1918.002\n"
     ]
    },
    {
     "name": "stderr",
     "output_type": "stream",
     "text": [
      "/home/jovyan/.conda/envs/sea-ice-oscillations/lib/python3.10/site-packages/dask/array/chunk.py:278: RuntimeWarning: invalid value encountered in cast\n",
      "  return x.astype(astype_dtype, **kwargs)\n"
     ]
    },
    {
     "name": "stdout",
     "output_type": "stream",
     "text": [
      "couldn't save A2022277.1918.002\n",
      "A2022277.1924.002\n"
     ]
    },
    {
     "name": "stderr",
     "output_type": "stream",
     "text": [
      "/home/jovyan/.conda/envs/sea-ice-oscillations/lib/python3.10/site-packages/dask/array/chunk.py:278: RuntimeWarning: invalid value encountered in cast\n",
      "  return x.astype(astype_dtype, **kwargs)\n"
     ]
    },
    {
     "name": "stdout",
     "output_type": "stream",
     "text": [
      "couldn't save A2022277.1924.002\n",
      "A2022277.2100.002\n",
      "couldn't save A2022277.2100.002\n",
      "A2022277.2242.002\n",
      "couldn't save A2022277.2242.002\n",
      "A2022278.0024.002\n"
     ]
    },
    {
     "name": "stderr",
     "output_type": "stream",
     "text": [
      "/home/jovyan/.conda/envs/sea-ice-oscillations/lib/python3.10/site-packages/dask/array/chunk.py:278: RuntimeWarning: invalid value encountered in cast\n",
      "  return x.astype(astype_dtype, **kwargs)\n"
     ]
    },
    {
     "name": "stdout",
     "output_type": "stream",
     "text": [
      "couldn't save A2022278.0024.002\n",
      "A2022278.0900.002\n"
     ]
    },
    {
     "name": "stderr",
     "output_type": "stream",
     "text": [
      "Failed to load DataID(name='I01', wavelength=WavelengthRange(min=0.6, central=0.64, max=0.68, unit='µm'), resolution=371, calibration=<calibration.reflectance>, modifiers=()) from <VIIRSL1BFileHandler: 'data/VNP02IMG.A2022278.0900.002.2022278162312.nc'>\n",
      "Traceback (most recent call last):\n",
      "  File \"/home/jovyan/.conda/envs/sea-ice-oscillations/lib/python3.10/site-packages/satpy/readers/yaml_reader.py\", line 699, in _load_dataset\n",
      "    projectable = fh.get_dataset(dsid, ds_info)\n",
      "  File \"/home/jovyan/.conda/envs/sea-ice-oscillations/lib/python3.10/site-packages/satpy/readers/viirs_l1b.py\", line 203, in get_dataset\n",
      "    metadata = self.get_metadata(dataset_id, ds_info)\n",
      "  File \"/home/jovyan/.conda/envs/sea-ice-oscillations/lib/python3.10/site-packages/satpy/readers/viirs_l1b.py\", line 182, in get_metadata\n",
      "    i = getattr(self[var_path], 'attrs', {})\n",
      "  File \"/home/jovyan/.conda/envs/sea-ice-oscillations/lib/python3.10/site-packages/satpy/readers/netcdf_utils.py\", line 279, in __getitem__\n",
      "    val = self.file_content[key]\n",
      "KeyError: 'observation_data/I01'\n",
      "Could not load dataset 'DataID(name='I01', wavelength=WavelengthRange(min=0.6, central=0.64, max=0.68, unit='µm'), resolution=371, calibration=<calibration.reflectance>, modifiers=())': \"Could not load DataID(name='I01', wavelength=WavelengthRange(min=0.6, central=0.64, max=0.68, unit='µm'), resolution=371, calibration=<calibration.reflectance>, modifiers=()) from any provided files\"\n",
      "Traceback (most recent call last):\n",
      "  File \"/home/jovyan/.conda/envs/sea-ice-oscillations/lib/python3.10/site-packages/satpy/readers/yaml_reader.py\", line 823, in _load_dataset_with_area\n",
      "    ds = self._load_dataset_data(file_handlers, dsid, **kwargs)\n",
      "  File \"/home/jovyan/.conda/envs/sea-ice-oscillations/lib/python3.10/site-packages/satpy/readers/yaml_reader.py\", line 723, in _load_dataset_data\n",
      "    proj = self._load_dataset(dsid, ds_info, file_handlers, **kwargs)\n",
      "  File \"/home/jovyan/.conda/envs/sea-ice-oscillations/lib/python3.10/site-packages/satpy/readers/yaml_reader.py\", line 708, in _load_dataset\n",
      "    raise KeyError(\n",
      "KeyError: \"Could not load DataID(name='I01', wavelength=WavelengthRange(min=0.6, central=0.64, max=0.68, unit='µm'), resolution=371, calibration=<calibration.reflectance>, modifiers=()) from any provided files\"\n",
      "Failed to load DataID(name='I03', wavelength=WavelengthRange(min=1.58, central=1.61, max=1.64, unit='µm'), resolution=371, calibration=<calibration.reflectance>, modifiers=()) from <VIIRSL1BFileHandler: 'data/VNP02IMG.A2022278.0900.002.2022278162312.nc'>\n",
      "Traceback (most recent call last):\n",
      "  File \"/home/jovyan/.conda/envs/sea-ice-oscillations/lib/python3.10/site-packages/satpy/readers/yaml_reader.py\", line 699, in _load_dataset\n",
      "    projectable = fh.get_dataset(dsid, ds_info)\n",
      "  File \"/home/jovyan/.conda/envs/sea-ice-oscillations/lib/python3.10/site-packages/satpy/readers/viirs_l1b.py\", line 203, in get_dataset\n",
      "    metadata = self.get_metadata(dataset_id, ds_info)\n",
      "  File \"/home/jovyan/.conda/envs/sea-ice-oscillations/lib/python3.10/site-packages/satpy/readers/viirs_l1b.py\", line 182, in get_metadata\n",
      "    i = getattr(self[var_path], 'attrs', {})\n",
      "  File \"/home/jovyan/.conda/envs/sea-ice-oscillations/lib/python3.10/site-packages/satpy/readers/netcdf_utils.py\", line 279, in __getitem__\n",
      "    val = self.file_content[key]\n",
      "KeyError: 'observation_data/I03'\n",
      "Could not load dataset 'DataID(name='I03', wavelength=WavelengthRange(min=1.58, central=1.61, max=1.64, unit='µm'), resolution=371, calibration=<calibration.reflectance>, modifiers=())': \"Could not load DataID(name='I03', wavelength=WavelengthRange(min=1.58, central=1.61, max=1.64, unit='µm'), resolution=371, calibration=<calibration.reflectance>, modifiers=()) from any provided files\"\n",
      "Traceback (most recent call last):\n",
      "  File \"/home/jovyan/.conda/envs/sea-ice-oscillations/lib/python3.10/site-packages/satpy/readers/yaml_reader.py\", line 823, in _load_dataset_with_area\n",
      "    ds = self._load_dataset_data(file_handlers, dsid, **kwargs)\n",
      "  File \"/home/jovyan/.conda/envs/sea-ice-oscillations/lib/python3.10/site-packages/satpy/readers/yaml_reader.py\", line 723, in _load_dataset_data\n",
      "    proj = self._load_dataset(dsid, ds_info, file_handlers, **kwargs)\n",
      "  File \"/home/jovyan/.conda/envs/sea-ice-oscillations/lib/python3.10/site-packages/satpy/readers/yaml_reader.py\", line 708, in _load_dataset\n",
      "    raise KeyError(\n",
      "KeyError: \"Could not load DataID(name='I03', wavelength=WavelengthRange(min=1.58, central=1.61, max=1.64, unit='µm'), resolution=371, calibration=<calibration.reflectance>, modifiers=()) from any provided files\"\n",
      "The following datasets were not created and may require resampling to be generated: DataID(name='I01', wavelength=WavelengthRange(min=0.6, central=0.64, max=0.68, unit='µm'), resolution=371, calibration=<calibration.reflectance>, modifiers=()), DataID(name='I03', wavelength=WavelengthRange(min=1.58, central=1.61, max=1.64, unit='µm'), resolution=371, calibration=<calibration.reflectance>, modifiers=())\n"
     ]
    },
    {
     "name": "stdout",
     "output_type": "stream",
     "text": [
      "couldn't save A2022278.0900.002\n",
      "A2022278.1042.002\n"
     ]
    },
    {
     "name": "stderr",
     "output_type": "stream",
     "text": [
      "Required file type 'vgeoi' not found or loaded for 'i_lat'\n",
      "Required file type 'vgeoi' not found or loaded for 'i_lon'\n",
      "Failed to load DataID(name='I01', wavelength=WavelengthRange(min=0.6, central=0.64, max=0.68, unit='µm'), resolution=371, calibration=<calibration.reflectance>, modifiers=()) from <VIIRSL1BFileHandler: 'data/VNP02IMG.A2022278.1042.002.2022278174919.nc'>\n",
      "Traceback (most recent call last):\n",
      "  File \"/home/jovyan/.conda/envs/sea-ice-oscillations/lib/python3.10/site-packages/satpy/readers/yaml_reader.py\", line 699, in _load_dataset\n",
      "    projectable = fh.get_dataset(dsid, ds_info)\n",
      "  File \"/home/jovyan/.conda/envs/sea-ice-oscillations/lib/python3.10/site-packages/satpy/readers/viirs_l1b.py\", line 203, in get_dataset\n",
      "    metadata = self.get_metadata(dataset_id, ds_info)\n",
      "  File \"/home/jovyan/.conda/envs/sea-ice-oscillations/lib/python3.10/site-packages/satpy/readers/viirs_l1b.py\", line 182, in get_metadata\n",
      "    i = getattr(self[var_path], 'attrs', {})\n",
      "  File \"/home/jovyan/.conda/envs/sea-ice-oscillations/lib/python3.10/site-packages/satpy/readers/netcdf_utils.py\", line 279, in __getitem__\n",
      "    val = self.file_content[key]\n",
      "KeyError: 'observation_data/I01'\n",
      "Could not load dataset 'DataID(name='I01', wavelength=WavelengthRange(min=0.6, central=0.64, max=0.68, unit='µm'), resolution=371, calibration=<calibration.reflectance>, modifiers=())': \"Could not load DataID(name='I01', wavelength=WavelengthRange(min=0.6, central=0.64, max=0.68, unit='µm'), resolution=371, calibration=<calibration.reflectance>, modifiers=()) from any provided files\"\n",
      "Traceback (most recent call last):\n",
      "  File \"/home/jovyan/.conda/envs/sea-ice-oscillations/lib/python3.10/site-packages/satpy/readers/yaml_reader.py\", line 823, in _load_dataset_with_area\n",
      "    ds = self._load_dataset_data(file_handlers, dsid, **kwargs)\n",
      "  File \"/home/jovyan/.conda/envs/sea-ice-oscillations/lib/python3.10/site-packages/satpy/readers/yaml_reader.py\", line 723, in _load_dataset_data\n",
      "    proj = self._load_dataset(dsid, ds_info, file_handlers, **kwargs)\n",
      "  File \"/home/jovyan/.conda/envs/sea-ice-oscillations/lib/python3.10/site-packages/satpy/readers/yaml_reader.py\", line 708, in _load_dataset\n",
      "    raise KeyError(\n",
      "KeyError: \"Could not load DataID(name='I01', wavelength=WavelengthRange(min=0.6, central=0.64, max=0.68, unit='µm'), resolution=371, calibration=<calibration.reflectance>, modifiers=()) from any provided files\"\n",
      "Failed to load DataID(name='I03', wavelength=WavelengthRange(min=1.58, central=1.61, max=1.64, unit='µm'), resolution=371, calibration=<calibration.reflectance>, modifiers=()) from <VIIRSL1BFileHandler: 'data/VNP02IMG.A2022278.1042.002.2022278174919.nc'>\n",
      "Traceback (most recent call last):\n",
      "  File \"/home/jovyan/.conda/envs/sea-ice-oscillations/lib/python3.10/site-packages/satpy/readers/yaml_reader.py\", line 699, in _load_dataset\n",
      "    projectable = fh.get_dataset(dsid, ds_info)\n",
      "  File \"/home/jovyan/.conda/envs/sea-ice-oscillations/lib/python3.10/site-packages/satpy/readers/viirs_l1b.py\", line 203, in get_dataset\n",
      "    metadata = self.get_metadata(dataset_id, ds_info)\n",
      "  File \"/home/jovyan/.conda/envs/sea-ice-oscillations/lib/python3.10/site-packages/satpy/readers/viirs_l1b.py\", line 182, in get_metadata\n",
      "    i = getattr(self[var_path], 'attrs', {})\n",
      "  File \"/home/jovyan/.conda/envs/sea-ice-oscillations/lib/python3.10/site-packages/satpy/readers/netcdf_utils.py\", line 279, in __getitem__\n",
      "    val = self.file_content[key]\n",
      "KeyError: 'observation_data/I03'\n",
      "Could not load dataset 'DataID(name='I03', wavelength=WavelengthRange(min=1.58, central=1.61, max=1.64, unit='µm'), resolution=371, calibration=<calibration.reflectance>, modifiers=())': \"Could not load DataID(name='I03', wavelength=WavelengthRange(min=1.58, central=1.61, max=1.64, unit='µm'), resolution=371, calibration=<calibration.reflectance>, modifiers=()) from any provided files\"\n",
      "Traceback (most recent call last):\n",
      "  File \"/home/jovyan/.conda/envs/sea-ice-oscillations/lib/python3.10/site-packages/satpy/readers/yaml_reader.py\", line 823, in _load_dataset_with_area\n",
      "    ds = self._load_dataset_data(file_handlers, dsid, **kwargs)\n",
      "  File \"/home/jovyan/.conda/envs/sea-ice-oscillations/lib/python3.10/site-packages/satpy/readers/yaml_reader.py\", line 723, in _load_dataset_data\n",
      "    proj = self._load_dataset(dsid, ds_info, file_handlers, **kwargs)\n",
      "  File \"/home/jovyan/.conda/envs/sea-ice-oscillations/lib/python3.10/site-packages/satpy/readers/yaml_reader.py\", line 708, in _load_dataset\n",
      "    raise KeyError(\n",
      "KeyError: \"Could not load DataID(name='I03', wavelength=WavelengthRange(min=1.58, central=1.61, max=1.64, unit='µm'), resolution=371, calibration=<calibration.reflectance>, modifiers=()) from any provided files\"\n",
      "The following datasets were not created and may require resampling to be generated: DataID(name='I01', wavelength=WavelengthRange(min=0.6, central=0.64, max=0.68, unit='µm'), resolution=371, calibration=<calibration.reflectance>, modifiers=()), DataID(name='I03', wavelength=WavelengthRange(min=1.58, central=1.61, max=1.64, unit='µm'), resolution=371, calibration=<calibration.reflectance>, modifiers=())\n"
     ]
    },
    {
     "name": "stdout",
     "output_type": "stream",
     "text": [
      "couldn't save A2022278.1042.002\n",
      "A2022278.1224.002\n"
     ]
    },
    {
     "name": "stderr",
     "output_type": "stream",
     "text": [
      "Failed to load DataID(name='I01', wavelength=WavelengthRange(min=0.6, central=0.64, max=0.68, unit='µm'), resolution=371, calibration=<calibration.reflectance>, modifiers=()) from <VIIRSL1BFileHandler: 'data/VNP02IMG.A2022278.1224.002.2022278205840.nc'>\n",
      "Traceback (most recent call last):\n",
      "  File \"/home/jovyan/.conda/envs/sea-ice-oscillations/lib/python3.10/site-packages/satpy/readers/yaml_reader.py\", line 699, in _load_dataset\n",
      "    projectable = fh.get_dataset(dsid, ds_info)\n",
      "  File \"/home/jovyan/.conda/envs/sea-ice-oscillations/lib/python3.10/site-packages/satpy/readers/viirs_l1b.py\", line 203, in get_dataset\n",
      "    metadata = self.get_metadata(dataset_id, ds_info)\n",
      "  File \"/home/jovyan/.conda/envs/sea-ice-oscillations/lib/python3.10/site-packages/satpy/readers/viirs_l1b.py\", line 182, in get_metadata\n",
      "    i = getattr(self[var_path], 'attrs', {})\n",
      "  File \"/home/jovyan/.conda/envs/sea-ice-oscillations/lib/python3.10/site-packages/satpy/readers/netcdf_utils.py\", line 279, in __getitem__\n",
      "    val = self.file_content[key]\n",
      "KeyError: 'observation_data/I01'\n",
      "Could not load dataset 'DataID(name='I01', wavelength=WavelengthRange(min=0.6, central=0.64, max=0.68, unit='µm'), resolution=371, calibration=<calibration.reflectance>, modifiers=())': \"Could not load DataID(name='I01', wavelength=WavelengthRange(min=0.6, central=0.64, max=0.68, unit='µm'), resolution=371, calibration=<calibration.reflectance>, modifiers=()) from any provided files\"\n",
      "Traceback (most recent call last):\n",
      "  File \"/home/jovyan/.conda/envs/sea-ice-oscillations/lib/python3.10/site-packages/satpy/readers/yaml_reader.py\", line 823, in _load_dataset_with_area\n",
      "    ds = self._load_dataset_data(file_handlers, dsid, **kwargs)\n",
      "  File \"/home/jovyan/.conda/envs/sea-ice-oscillations/lib/python3.10/site-packages/satpy/readers/yaml_reader.py\", line 723, in _load_dataset_data\n",
      "    proj = self._load_dataset(dsid, ds_info, file_handlers, **kwargs)\n",
      "  File \"/home/jovyan/.conda/envs/sea-ice-oscillations/lib/python3.10/site-packages/satpy/readers/yaml_reader.py\", line 708, in _load_dataset\n",
      "    raise KeyError(\n",
      "KeyError: \"Could not load DataID(name='I01', wavelength=WavelengthRange(min=0.6, central=0.64, max=0.68, unit='µm'), resolution=371, calibration=<calibration.reflectance>, modifiers=()) from any provided files\"\n",
      "Failed to load DataID(name='I03', wavelength=WavelengthRange(min=1.58, central=1.61, max=1.64, unit='µm'), resolution=371, calibration=<calibration.reflectance>, modifiers=()) from <VIIRSL1BFileHandler: 'data/VNP02IMG.A2022278.1224.002.2022278205840.nc'>\n",
      "Traceback (most recent call last):\n",
      "  File \"/home/jovyan/.conda/envs/sea-ice-oscillations/lib/python3.10/site-packages/satpy/readers/yaml_reader.py\", line 699, in _load_dataset\n",
      "    projectable = fh.get_dataset(dsid, ds_info)\n",
      "  File \"/home/jovyan/.conda/envs/sea-ice-oscillations/lib/python3.10/site-packages/satpy/readers/viirs_l1b.py\", line 203, in get_dataset\n",
      "    metadata = self.get_metadata(dataset_id, ds_info)\n",
      "  File \"/home/jovyan/.conda/envs/sea-ice-oscillations/lib/python3.10/site-packages/satpy/readers/viirs_l1b.py\", line 182, in get_metadata\n",
      "    i = getattr(self[var_path], 'attrs', {})\n",
      "  File \"/home/jovyan/.conda/envs/sea-ice-oscillations/lib/python3.10/site-packages/satpy/readers/netcdf_utils.py\", line 279, in __getitem__\n",
      "    val = self.file_content[key]\n",
      "KeyError: 'observation_data/I03'\n",
      "Could not load dataset 'DataID(name='I03', wavelength=WavelengthRange(min=1.58, central=1.61, max=1.64, unit='µm'), resolution=371, calibration=<calibration.reflectance>, modifiers=())': \"Could not load DataID(name='I03', wavelength=WavelengthRange(min=1.58, central=1.61, max=1.64, unit='µm'), resolution=371, calibration=<calibration.reflectance>, modifiers=()) from any provided files\"\n",
      "Traceback (most recent call last):\n",
      "  File \"/home/jovyan/.conda/envs/sea-ice-oscillations/lib/python3.10/site-packages/satpy/readers/yaml_reader.py\", line 823, in _load_dataset_with_area\n",
      "    ds = self._load_dataset_data(file_handlers, dsid, **kwargs)\n",
      "  File \"/home/jovyan/.conda/envs/sea-ice-oscillations/lib/python3.10/site-packages/satpy/readers/yaml_reader.py\", line 723, in _load_dataset_data\n",
      "    proj = self._load_dataset(dsid, ds_info, file_handlers, **kwargs)\n",
      "  File \"/home/jovyan/.conda/envs/sea-ice-oscillations/lib/python3.10/site-packages/satpy/readers/yaml_reader.py\", line 708, in _load_dataset\n",
      "    raise KeyError(\n",
      "KeyError: \"Could not load DataID(name='I03', wavelength=WavelengthRange(min=1.58, central=1.61, max=1.64, unit='µm'), resolution=371, calibration=<calibration.reflectance>, modifiers=()) from any provided files\"\n",
      "The following datasets were not created and may require resampling to be generated: DataID(name='I01', wavelength=WavelengthRange(min=0.6, central=0.64, max=0.68, unit='µm'), resolution=371, calibration=<calibration.reflectance>, modifiers=()), DataID(name='I03', wavelength=WavelengthRange(min=1.58, central=1.61, max=1.64, unit='µm'), resolution=371, calibration=<calibration.reflectance>, modifiers=())\n"
     ]
    },
    {
     "name": "stdout",
     "output_type": "stream",
     "text": [
      "couldn't save A2022278.1224.002\n",
      "A2022278.1400.002\n"
     ]
    },
    {
     "name": "stderr",
     "output_type": "stream",
     "text": [
      "/home/jovyan/.conda/envs/sea-ice-oscillations/lib/python3.10/site-packages/numpy/lib/nanfunctions.py:1577: RuntimeWarning: All-NaN slice encountered\n",
      "  result = np.apply_along_axis(_nanquantile_1d, axis, a, q,\n",
      "/home/jovyan/.conda/envs/sea-ice-oscillations/lib/python3.10/site-packages/dask/array/chunk.py:278: RuntimeWarning: invalid value encountered in cast\n",
      "  return x.astype(astype_dtype, **kwargs)\n"
     ]
    },
    {
     "name": "stdout",
     "output_type": "stream",
     "text": [
      "couldn't save A2022278.1400.002\n",
      "A2022278.1406.002\n"
     ]
    },
    {
     "name": "stderr",
     "output_type": "stream",
     "text": [
      "Failed to load DataID(name='I01', wavelength=WavelengthRange(min=0.6, central=0.64, max=0.68, unit='µm'), resolution=371, calibration=<calibration.reflectance>, modifiers=()) from <VIIRSL1BFileHandler: 'data/VNP02IMG.A2022278.1406.002.2022278224053.nc'>\n",
      "Traceback (most recent call last):\n",
      "  File \"/home/jovyan/.conda/envs/sea-ice-oscillations/lib/python3.10/site-packages/satpy/readers/yaml_reader.py\", line 699, in _load_dataset\n",
      "    projectable = fh.get_dataset(dsid, ds_info)\n",
      "  File \"/home/jovyan/.conda/envs/sea-ice-oscillations/lib/python3.10/site-packages/satpy/readers/viirs_l1b.py\", line 203, in get_dataset\n",
      "    metadata = self.get_metadata(dataset_id, ds_info)\n",
      "  File \"/home/jovyan/.conda/envs/sea-ice-oscillations/lib/python3.10/site-packages/satpy/readers/viirs_l1b.py\", line 182, in get_metadata\n",
      "    i = getattr(self[var_path], 'attrs', {})\n",
      "  File \"/home/jovyan/.conda/envs/sea-ice-oscillations/lib/python3.10/site-packages/satpy/readers/netcdf_utils.py\", line 279, in __getitem__\n",
      "    val = self.file_content[key]\n",
      "KeyError: 'observation_data/I01'\n",
      "Could not load dataset 'DataID(name='I01', wavelength=WavelengthRange(min=0.6, central=0.64, max=0.68, unit='µm'), resolution=371, calibration=<calibration.reflectance>, modifiers=())': \"Could not load DataID(name='I01', wavelength=WavelengthRange(min=0.6, central=0.64, max=0.68, unit='µm'), resolution=371, calibration=<calibration.reflectance>, modifiers=()) from any provided files\"\n",
      "Traceback (most recent call last):\n",
      "  File \"/home/jovyan/.conda/envs/sea-ice-oscillations/lib/python3.10/site-packages/satpy/readers/yaml_reader.py\", line 823, in _load_dataset_with_area\n",
      "    ds = self._load_dataset_data(file_handlers, dsid, **kwargs)\n",
      "  File \"/home/jovyan/.conda/envs/sea-ice-oscillations/lib/python3.10/site-packages/satpy/readers/yaml_reader.py\", line 723, in _load_dataset_data\n",
      "    proj = self._load_dataset(dsid, ds_info, file_handlers, **kwargs)\n",
      "  File \"/home/jovyan/.conda/envs/sea-ice-oscillations/lib/python3.10/site-packages/satpy/readers/yaml_reader.py\", line 708, in _load_dataset\n",
      "    raise KeyError(\n",
      "KeyError: \"Could not load DataID(name='I01', wavelength=WavelengthRange(min=0.6, central=0.64, max=0.68, unit='µm'), resolution=371, calibration=<calibration.reflectance>, modifiers=()) from any provided files\"\n",
      "Failed to load DataID(name='I03', wavelength=WavelengthRange(min=1.58, central=1.61, max=1.64, unit='µm'), resolution=371, calibration=<calibration.reflectance>, modifiers=()) from <VIIRSL1BFileHandler: 'data/VNP02IMG.A2022278.1406.002.2022278224053.nc'>\n",
      "Traceback (most recent call last):\n",
      "  File \"/home/jovyan/.conda/envs/sea-ice-oscillations/lib/python3.10/site-packages/satpy/readers/yaml_reader.py\", line 699, in _load_dataset\n",
      "    projectable = fh.get_dataset(dsid, ds_info)\n",
      "  File \"/home/jovyan/.conda/envs/sea-ice-oscillations/lib/python3.10/site-packages/satpy/readers/viirs_l1b.py\", line 203, in get_dataset\n",
      "    metadata = self.get_metadata(dataset_id, ds_info)\n",
      "  File \"/home/jovyan/.conda/envs/sea-ice-oscillations/lib/python3.10/site-packages/satpy/readers/viirs_l1b.py\", line 182, in get_metadata\n",
      "    i = getattr(self[var_path], 'attrs', {})\n",
      "  File \"/home/jovyan/.conda/envs/sea-ice-oscillations/lib/python3.10/site-packages/satpy/readers/netcdf_utils.py\", line 279, in __getitem__\n",
      "    val = self.file_content[key]\n",
      "KeyError: 'observation_data/I03'\n",
      "Could not load dataset 'DataID(name='I03', wavelength=WavelengthRange(min=1.58, central=1.61, max=1.64, unit='µm'), resolution=371, calibration=<calibration.reflectance>, modifiers=())': \"Could not load DataID(name='I03', wavelength=WavelengthRange(min=1.58, central=1.61, max=1.64, unit='µm'), resolution=371, calibration=<calibration.reflectance>, modifiers=()) from any provided files\"\n",
      "Traceback (most recent call last):\n",
      "  File \"/home/jovyan/.conda/envs/sea-ice-oscillations/lib/python3.10/site-packages/satpy/readers/yaml_reader.py\", line 823, in _load_dataset_with_area\n",
      "    ds = self._load_dataset_data(file_handlers, dsid, **kwargs)\n",
      "  File \"/home/jovyan/.conda/envs/sea-ice-oscillations/lib/python3.10/site-packages/satpy/readers/yaml_reader.py\", line 723, in _load_dataset_data\n",
      "    proj = self._load_dataset(dsid, ds_info, file_handlers, **kwargs)\n",
      "  File \"/home/jovyan/.conda/envs/sea-ice-oscillations/lib/python3.10/site-packages/satpy/readers/yaml_reader.py\", line 708, in _load_dataset\n",
      "    raise KeyError(\n",
      "KeyError: \"Could not load DataID(name='I03', wavelength=WavelengthRange(min=1.58, central=1.61, max=1.64, unit='µm'), resolution=371, calibration=<calibration.reflectance>, modifiers=()) from any provided files\"\n",
      "The following datasets were not created and may require resampling to be generated: DataID(name='I01', wavelength=WavelengthRange(min=0.6, central=0.64, max=0.68, unit='µm'), resolution=371, calibration=<calibration.reflectance>, modifiers=()), DataID(name='I03', wavelength=WavelengthRange(min=1.58, central=1.61, max=1.64, unit='µm'), resolution=371, calibration=<calibration.reflectance>, modifiers=())\n"
     ]
    },
    {
     "name": "stdout",
     "output_type": "stream",
     "text": [
      "couldn't save A2022278.1406.002\n",
      "A2022278.1542.002\n"
     ]
    },
    {
     "name": "stderr",
     "output_type": "stream",
     "text": [
      "/home/jovyan/.conda/envs/sea-ice-oscillations/lib/python3.10/site-packages/dask/core.py:121: RuntimeWarning: invalid value encountered in divide\n",
      "  return func(*(_execute_task(a, cache) for a in args))\n",
      "/home/jovyan/.conda/envs/sea-ice-oscillations/lib/python3.10/site-packages/dask/array/chunk.py:278: RuntimeWarning: invalid value encountered in cast\n",
      "  return x.astype(astype_dtype, **kwargs)\n"
     ]
    },
    {
     "name": "stdout",
     "output_type": "stream",
     "text": [
      "couldn't save A2022278.1542.002\n",
      "A2022278.1718.002\n"
     ]
    },
    {
     "name": "stderr",
     "output_type": "stream",
     "text": [
      "/home/jovyan/.conda/envs/sea-ice-oscillations/lib/python3.10/site-packages/numpy/lib/nanfunctions.py:1577: RuntimeWarning: All-NaN slice encountered\n",
      "  result = np.apply_along_axis(_nanquantile_1d, axis, a, q,\n",
      "/home/jovyan/.conda/envs/sea-ice-oscillations/lib/python3.10/site-packages/dask/array/chunk.py:278: RuntimeWarning: invalid value encountered in cast\n",
      "  return x.astype(astype_dtype, **kwargs)\n"
     ]
    },
    {
     "name": "stdout",
     "output_type": "stream",
     "text": [
      "couldn't save A2022278.1718.002\n",
      "A2022278.1724.002\n",
      "couldn't save A2022278.1724.002\n",
      "A2022278.1900.002\n"
     ]
    },
    {
     "name": "stderr",
     "output_type": "stream",
     "text": [
      "/home/jovyan/.conda/envs/sea-ice-oscillations/lib/python3.10/site-packages/dask/array/chunk.py:278: RuntimeWarning: invalid value encountered in cast\n",
      "  return x.astype(astype_dtype, **kwargs)\n"
     ]
    },
    {
     "name": "stdout",
     "output_type": "stream",
     "text": [
      "couldn't save A2022278.1900.002\n",
      "A2022278.1906.002\n"
     ]
    },
    {
     "name": "stderr",
     "output_type": "stream",
     "text": [
      "/home/jovyan/.conda/envs/sea-ice-oscillations/lib/python3.10/site-packages/dask/array/chunk.py:278: RuntimeWarning: invalid value encountered in cast\n",
      "  return x.astype(astype_dtype, **kwargs)\n"
     ]
    },
    {
     "name": "stdout",
     "output_type": "stream",
     "text": [
      "couldn't save A2022278.1906.002\n",
      "A2022278.2042.002\n",
      "couldn't save A2022278.2042.002\n",
      "A2022278.2224.002\n",
      "couldn't save A2022278.2224.002\n"
     ]
    }
   ],
   "source": [
    "# extracting dataset\n",
    "for f in fileglob:\n",
    "    print(f)\n",
    "    scn = Scene(filenames=glob('data/*VNP*' + f + '*nc'), reader='viirs_l1b')\n",
    "    # scn.load(['true_color_lowres'])\n",
    "    try:\n",
    "        scn.load(['I01','I03'])\n",
    "    except:\n",
    "        continue\n",
    "\n",
    "\n",
    "    try:\n",
    "        local_scene=scn.resample(my_area)\n",
    "        local_scene['seaice'] = (local_scene['I01']-local_scene['I03'])/(local_scene['I01']+local_scene['I03'])\n",
    "\n",
    "        local_scene.save_dataset('seaice', filename=f + '.png')\n",
    "        png2jpg('seaice', filename=f + '.png')\n",
    "        print('seaice', filename=f + '.png' + ' saved')\n",
    "    except:\n",
    "        print(f\"couldn't save {f}\")\n",
    "\n"
   ]
  },
  {
   "cell_type": "code",
   "execution_count": 36,
   "id": "d97809b9-1a45-4aef-b890-d5a091ca02f1",
   "metadata": {
    "tags": []
   },
   "outputs": [],
   "source": []
  }
 ],
 "metadata": {
  "kernelspec": {
   "display_name": "Python [conda env:.conda-sea-ice-oscillations]",
   "language": "python",
   "name": "conda-env-.conda-sea-ice-oscillations-py"
  },
  "language_info": {
   "codemirror_mode": {
    "name": "ipython",
    "version": 3
   },
   "file_extension": ".py",
   "mimetype": "text/x-python",
   "name": "python",
   "nbconvert_exporter": "python",
   "pygments_lexer": "ipython3",
   "version": "3.10.12"
  }
 },
 "nbformat": 4,
 "nbformat_minor": 5
}
