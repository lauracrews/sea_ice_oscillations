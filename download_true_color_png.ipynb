{
 "cells": [
  {
   "cell_type": "code",
   "execution_count": 1,
   "id": "d3202378-8047-4ce1-98db-78b2cf38a88f",
   "metadata": {
    "tags": []
   },
   "outputs": [
    {
     "name": "stderr",
     "output_type": "stream",
     "text": [
      "/home/jovyan/.conda/envs/sea-ice-oscillations/lib/python3.10/site-packages/tqdm/auto.py:21: TqdmWarning: IProgress not found. Please update jupyter and ipywidgets. See https://ipywidgets.readthedocs.io/en/stable/user_install.html\n",
      "  from .autonotebook import tqdm as notebook_tqdm\n"
     ]
    }
   ],
   "source": [
    "from glob import glob\n",
    "import urllib\n",
    "import earthaccess\n",
    "from satpy.scene import Scene\n",
    "from datatree import open_datatree\n",
    "from pyresample import create_area_def\n"
   ]
  },
  {
   "cell_type": "code",
   "execution_count": 2,
   "id": "bedabb55-b91b-471c-b9f9-a969484d1fa0",
   "metadata": {
    "tags": []
   },
   "outputs": [],
   "source": [
    "# functions to download data (just organizing stuff)\n",
    "def download_files():\n",
    "    for short_name in [\"VNP02MOD\", \"VNP02IMG\", \"VNP02DNB\", \"VNP03MOD\", \"VNP03IMG\", \"VNP03DNB\"]:\n",
    "        results = earthaccess.search_data(\n",
    "        short_name=short_name, \n",
    "        cloud_hosted=True, \n",
    "        bounding_box=(-160.0, 73.0, -130.0, 77.0),\n",
    "        temporal=(\"2022-10-01\", \"2022-10-07\"),\n",
    "        count=30)\n",
    "        earthaccess.download(results, './')\n",
    "        \n",
    "def print_day_night():\n",
    "    for file in glob('*VNP*nc'):\n",
    "        dt = open_datatree(file)\n",
    "        print(file,dt.attrs['DayNightFlag'])\n",
    "\n",
    "def png2jpg(fileprefix):\n",
    "    ''' converts a file from a png to a jpg. \n",
    "    Expects a parameter fileprefix, which is the filename without an extension'''\n",
    "    im1 = Image.open(fileprefix + '.png')\n",
    "    rgb_im = im1.convert('RGB')\n",
    "    rgb_im.save(fileprefix + '.jpg')        \n",
    "\n",
    "# resampling area\n",
    "my_area = create_area_def('my_area', {'proj': 'lcc', 'lon_0': -155, 'lat_0': 73, 'lat_1': 77},\n",
    "                          width=1000, height=1000,\n",
    "                          area_extent=[-160, 73, -130, 77], units='degrees')\n"
   ]
  },
  {
   "cell_type": "code",
   "execution_count": 3,
   "id": "f97f030b-af4d-4fd4-8eac-f57957c181aa",
   "metadata": {
    "tags": []
   },
   "outputs": [],
   "source": [
    "# earthaccess.login()\n",
    "# download_files()"
   ]
  },
  {
   "cell_type": "code",
   "execution_count": 4,
   "id": "c64d657c-aa35-4e96-8469-3ecf814bfa0e",
   "metadata": {
    "tags": []
   },
   "outputs": [
    {
     "data": {
      "text/plain": [
       "['A2022274.0000.001',\n",
       " 'A2022274.0000.002',\n",
       " 'A2022274.0142.001',\n",
       " 'A2022274.0142.002',\n",
       " 'A2022274.0836.001',\n",
       " 'A2022274.0836.002',\n",
       " 'A2022274.1012.001',\n",
       " 'A2022274.1012.002',\n",
       " 'A2022274.1018.001',\n",
       " 'A2022274.1018.002',\n",
       " 'A2022274.1154.001',\n",
       " 'A2022274.1154.002',\n",
       " 'A2022274.1200.001',\n",
       " 'A2022274.1200.002',\n",
       " 'A2022274.1336.001',\n",
       " 'A2022274.1336.002',\n",
       " 'A2022274.1518.001',\n",
       " 'A2022274.1518.002',\n",
       " 'A2022274.1654.001',\n",
       " 'A2022274.1654.002',\n",
       " 'A2022274.1700.001',\n",
       " 'A2022274.1700.002',\n",
       " 'A2022274.1836.001',\n",
       " 'A2022274.1836.002',\n",
       " 'A2022274.2018.001',\n",
       " 'A2022274.2018.002',\n",
       " 'A2022274.2154.001',\n",
       " 'A2022274.2154.002',\n",
       " 'A2022274.2200.001',\n",
       " 'A2022274.2200.002',\n",
       " 'A2022280.0124.001',\n",
       " 'A2022280.0124.002',\n",
       " 'A2022280.0130.001',\n",
       " 'A2022280.0130.002',\n",
       " 'A2022280.0818.001',\n",
       " 'A2022280.0818.002',\n",
       " 'A2022280.1000.001',\n",
       " 'A2022280.1000.002',\n",
       " 'A2022280.1006.001',\n",
       " 'A2022280.1006.002',\n",
       " 'A2022280.1142.001',\n",
       " 'A2022280.1142.002',\n",
       " 'A2022280.1324.001',\n",
       " 'A2022280.1324.002',\n",
       " 'A2022280.1506.001',\n",
       " 'A2022280.1506.002',\n",
       " 'A2022280.1642.001',\n",
       " 'A2022280.1642.002',\n",
       " 'A2022280.1648.001',\n",
       " 'A2022280.1648.002',\n",
       " 'A2022280.1824.001',\n",
       " 'A2022280.1824.002',\n",
       " 'A2022280.2006.001',\n",
       " 'A2022280.2006.002',\n",
       " 'A2022280.2142.001',\n",
       " 'A2022280.2142.002',\n",
       " 'A2022280.2148.001',\n",
       " 'A2022280.2148.002',\n",
       " 'A2022280.2324.001',\n",
       " 'A2022280.2324.002',\n",
       " 'A2022280.2330.001',\n",
       " 'A2022280.2330.002']"
      ]
     },
     "execution_count": 4,
     "metadata": {},
     "output_type": "execute_result"
    }
   ],
   "source": [
    "fpath = sorted(glob('*nc'))\n",
    "\n",
    "fileglob = []\n",
    "for f in fpath:\n",
    "    aux = f.split('.')[1:-1]\n",
    "    fileglob.append(f'{aux[0]}.{aux[1]}.{aux[2]}')\n",
    "fileglob = sorted(list(set(fileglob)))\n",
    "fileglob"
   ]
  },
  {
   "cell_type": "code",
   "execution_count": 13,
   "id": "44508e6b-6a1e-49e5-85df-22757e94fc12",
   "metadata": {
    "tags": []
   },
   "outputs": [
    {
     "name": "stderr",
     "output_type": "stream",
     "text": [
      "/home/jovyan/.conda/envs/sea-ice-oscillations/lib/python3.10/site-packages/dask/core.py:121: RuntimeWarning: invalid value encountered in divide\n",
      "  return func(*(_execute_task(a, cache) for a in args))\n",
      "/home/jovyan/.conda/envs/sea-ice-oscillations/lib/python3.10/site-packages/dask/array/chunk.py:278: RuntimeWarning: invalid value encountered in cast\n",
      "  return x.astype(astype_dtype, **kwargs)\n"
     ]
    },
    {
     "name": "stdout",
     "output_type": "stream",
     "text": [
      "couldn't save A2022274.0000.001\n"
     ]
    },
    {
     "name": "stderr",
     "output_type": "stream",
     "text": [
      "/home/jovyan/.conda/envs/sea-ice-oscillations/lib/python3.10/site-packages/dask/core.py:121: RuntimeWarning: invalid value encountered in divide\n",
      "  return func(*(_execute_task(a, cache) for a in args))\n",
      "/home/jovyan/.conda/envs/sea-ice-oscillations/lib/python3.10/site-packages/dask/array/chunk.py:278: RuntimeWarning: invalid value encountered in cast\n",
      "  return x.astype(astype_dtype, **kwargs)\n"
     ]
    },
    {
     "name": "stdout",
     "output_type": "stream",
     "text": [
      "couldn't save A2022274.0000.002\n"
     ]
    },
    {
     "name": "stderr",
     "output_type": "stream",
     "text": [
      "/home/jovyan/.conda/envs/sea-ice-oscillations/lib/python3.10/site-packages/dask/core.py:121: RuntimeWarning: invalid value encountered in divide\n",
      "  return func(*(_execute_task(a, cache) for a in args))\n",
      "/home/jovyan/.conda/envs/sea-ice-oscillations/lib/python3.10/site-packages/dask/array/chunk.py:278: RuntimeWarning: invalid value encountered in cast\n",
      "  return x.astype(astype_dtype, **kwargs)\n"
     ]
    },
    {
     "name": "stdout",
     "output_type": "stream",
     "text": [
      "couldn't save A2022274.0142.001\n"
     ]
    },
    {
     "name": "stderr",
     "output_type": "stream",
     "text": [
      "/home/jovyan/.conda/envs/sea-ice-oscillations/lib/python3.10/site-packages/dask/core.py:121: RuntimeWarning: invalid value encountered in divide\n",
      "  return func(*(_execute_task(a, cache) for a in args))\n",
      "/home/jovyan/.conda/envs/sea-ice-oscillations/lib/python3.10/site-packages/dask/array/chunk.py:278: RuntimeWarning: invalid value encountered in cast\n",
      "  return x.astype(astype_dtype, **kwargs)\n"
     ]
    },
    {
     "name": "stdout",
     "output_type": "stream",
     "text": [
      "couldn't save A2022274.0142.002\n"
     ]
    },
    {
     "name": "stderr",
     "output_type": "stream",
     "text": [
      "Failed to load DataID(name='I01', wavelength=WavelengthRange(min=0.6, central=0.64, max=0.68, unit='µm'), resolution=371, calibration=<calibration.reflectance>, modifiers=()) from <VIIRSL1BFileHandler: 'VNP02IMG.A2022274.0836.001.2022274150328.nc'>\n",
      "Traceback (most recent call last):\n",
      "  File \"/home/jovyan/.conda/envs/sea-ice-oscillations/lib/python3.10/site-packages/satpy/readers/yaml_reader.py\", line 699, in _load_dataset\n",
      "    projectable = fh.get_dataset(dsid, ds_info)\n",
      "  File \"/home/jovyan/.conda/envs/sea-ice-oscillations/lib/python3.10/site-packages/satpy/readers/viirs_l1b.py\", line 203, in get_dataset\n",
      "    metadata = self.get_metadata(dataset_id, ds_info)\n",
      "  File \"/home/jovyan/.conda/envs/sea-ice-oscillations/lib/python3.10/site-packages/satpy/readers/viirs_l1b.py\", line 182, in get_metadata\n",
      "    i = getattr(self[var_path], 'attrs', {})\n",
      "  File \"/home/jovyan/.conda/envs/sea-ice-oscillations/lib/python3.10/site-packages/satpy/readers/netcdf_utils.py\", line 279, in __getitem__\n",
      "    val = self.file_content[key]\n",
      "KeyError: 'observation_data/I01'\n",
      "Could not load dataset 'DataID(name='I01', wavelength=WavelengthRange(min=0.6, central=0.64, max=0.68, unit='µm'), resolution=371, calibration=<calibration.reflectance>, modifiers=())': \"Could not load DataID(name='I01', wavelength=WavelengthRange(min=0.6, central=0.64, max=0.68, unit='µm'), resolution=371, calibration=<calibration.reflectance>, modifiers=()) from any provided files\"\n",
      "Traceback (most recent call last):\n",
      "  File \"/home/jovyan/.conda/envs/sea-ice-oscillations/lib/python3.10/site-packages/satpy/readers/yaml_reader.py\", line 823, in _load_dataset_with_area\n",
      "    ds = self._load_dataset_data(file_handlers, dsid, **kwargs)\n",
      "  File \"/home/jovyan/.conda/envs/sea-ice-oscillations/lib/python3.10/site-packages/satpy/readers/yaml_reader.py\", line 723, in _load_dataset_data\n",
      "    proj = self._load_dataset(dsid, ds_info, file_handlers, **kwargs)\n",
      "  File \"/home/jovyan/.conda/envs/sea-ice-oscillations/lib/python3.10/site-packages/satpy/readers/yaml_reader.py\", line 708, in _load_dataset\n",
      "    raise KeyError(\n",
      "KeyError: \"Could not load DataID(name='I01', wavelength=WavelengthRange(min=0.6, central=0.64, max=0.68, unit='µm'), resolution=371, calibration=<calibration.reflectance>, modifiers=()) from any provided files\"\n",
      "Failed to load DataID(name='I03', wavelength=WavelengthRange(min=1.58, central=1.61, max=1.64, unit='µm'), resolution=371, calibration=<calibration.reflectance>, modifiers=()) from <VIIRSL1BFileHandler: 'VNP02IMG.A2022274.0836.001.2022274150328.nc'>\n",
      "Traceback (most recent call last):\n",
      "  File \"/home/jovyan/.conda/envs/sea-ice-oscillations/lib/python3.10/site-packages/satpy/readers/yaml_reader.py\", line 699, in _load_dataset\n",
      "    projectable = fh.get_dataset(dsid, ds_info)\n",
      "  File \"/home/jovyan/.conda/envs/sea-ice-oscillations/lib/python3.10/site-packages/satpy/readers/viirs_l1b.py\", line 203, in get_dataset\n",
      "    metadata = self.get_metadata(dataset_id, ds_info)\n",
      "  File \"/home/jovyan/.conda/envs/sea-ice-oscillations/lib/python3.10/site-packages/satpy/readers/viirs_l1b.py\", line 182, in get_metadata\n",
      "    i = getattr(self[var_path], 'attrs', {})\n",
      "  File \"/home/jovyan/.conda/envs/sea-ice-oscillations/lib/python3.10/site-packages/satpy/readers/netcdf_utils.py\", line 279, in __getitem__\n",
      "    val = self.file_content[key]\n",
      "KeyError: 'observation_data/I03'\n",
      "Could not load dataset 'DataID(name='I03', wavelength=WavelengthRange(min=1.58, central=1.61, max=1.64, unit='µm'), resolution=371, calibration=<calibration.reflectance>, modifiers=())': \"Could not load DataID(name='I03', wavelength=WavelengthRange(min=1.58, central=1.61, max=1.64, unit='µm'), resolution=371, calibration=<calibration.reflectance>, modifiers=()) from any provided files\"\n",
      "Traceback (most recent call last):\n",
      "  File \"/home/jovyan/.conda/envs/sea-ice-oscillations/lib/python3.10/site-packages/satpy/readers/yaml_reader.py\", line 823, in _load_dataset_with_area\n",
      "    ds = self._load_dataset_data(file_handlers, dsid, **kwargs)\n",
      "  File \"/home/jovyan/.conda/envs/sea-ice-oscillations/lib/python3.10/site-packages/satpy/readers/yaml_reader.py\", line 723, in _load_dataset_data\n",
      "    proj = self._load_dataset(dsid, ds_info, file_handlers, **kwargs)\n",
      "  File \"/home/jovyan/.conda/envs/sea-ice-oscillations/lib/python3.10/site-packages/satpy/readers/yaml_reader.py\", line 708, in _load_dataset\n",
      "    raise KeyError(\n",
      "KeyError: \"Could not load DataID(name='I03', wavelength=WavelengthRange(min=1.58, central=1.61, max=1.64, unit='µm'), resolution=371, calibration=<calibration.reflectance>, modifiers=()) from any provided files\"\n",
      "The following datasets were not created and may require resampling to be generated: DataID(name='I01', wavelength=WavelengthRange(min=0.6, central=0.64, max=0.68, unit='µm'), resolution=371, calibration=<calibration.reflectance>, modifiers=()), DataID(name='I03', wavelength=WavelengthRange(min=1.58, central=1.61, max=1.64, unit='µm'), resolution=371, calibration=<calibration.reflectance>, modifiers=())\n",
      "Failed to load DataID(name='I01', wavelength=WavelengthRange(min=0.6, central=0.64, max=0.68, unit='µm'), resolution=371, calibration=<calibration.reflectance>, modifiers=()) from <VIIRSL1BFileHandler: 'VNP02IMG.A2022274.0836.002.2022274175111.nc'>\n",
      "Traceback (most recent call last):\n",
      "  File \"/home/jovyan/.conda/envs/sea-ice-oscillations/lib/python3.10/site-packages/satpy/readers/yaml_reader.py\", line 699, in _load_dataset\n",
      "    projectable = fh.get_dataset(dsid, ds_info)\n",
      "  File \"/home/jovyan/.conda/envs/sea-ice-oscillations/lib/python3.10/site-packages/satpy/readers/viirs_l1b.py\", line 203, in get_dataset\n",
      "    metadata = self.get_metadata(dataset_id, ds_info)\n",
      "  File \"/home/jovyan/.conda/envs/sea-ice-oscillations/lib/python3.10/site-packages/satpy/readers/viirs_l1b.py\", line 182, in get_metadata\n",
      "    i = getattr(self[var_path], 'attrs', {})\n",
      "  File \"/home/jovyan/.conda/envs/sea-ice-oscillations/lib/python3.10/site-packages/satpy/readers/netcdf_utils.py\", line 279, in __getitem__\n",
      "    val = self.file_content[key]\n",
      "KeyError: 'observation_data/I01'\n",
      "Could not load dataset 'DataID(name='I01', wavelength=WavelengthRange(min=0.6, central=0.64, max=0.68, unit='µm'), resolution=371, calibration=<calibration.reflectance>, modifiers=())': \"Could not load DataID(name='I01', wavelength=WavelengthRange(min=0.6, central=0.64, max=0.68, unit='µm'), resolution=371, calibration=<calibration.reflectance>, modifiers=()) from any provided files\"\n",
      "Traceback (most recent call last):\n",
      "  File \"/home/jovyan/.conda/envs/sea-ice-oscillations/lib/python3.10/site-packages/satpy/readers/yaml_reader.py\", line 823, in _load_dataset_with_area\n",
      "    ds = self._load_dataset_data(file_handlers, dsid, **kwargs)\n",
      "  File \"/home/jovyan/.conda/envs/sea-ice-oscillations/lib/python3.10/site-packages/satpy/readers/yaml_reader.py\", line 723, in _load_dataset_data\n",
      "    proj = self._load_dataset(dsid, ds_info, file_handlers, **kwargs)\n",
      "  File \"/home/jovyan/.conda/envs/sea-ice-oscillations/lib/python3.10/site-packages/satpy/readers/yaml_reader.py\", line 708, in _load_dataset\n",
      "    raise KeyError(\n",
      "KeyError: \"Could not load DataID(name='I01', wavelength=WavelengthRange(min=0.6, central=0.64, max=0.68, unit='µm'), resolution=371, calibration=<calibration.reflectance>, modifiers=()) from any provided files\"\n",
      "Failed to load DataID(name='I03', wavelength=WavelengthRange(min=1.58, central=1.61, max=1.64, unit='µm'), resolution=371, calibration=<calibration.reflectance>, modifiers=()) from <VIIRSL1BFileHandler: 'VNP02IMG.A2022274.0836.002.2022274175111.nc'>\n",
      "Traceback (most recent call last):\n",
      "  File \"/home/jovyan/.conda/envs/sea-ice-oscillations/lib/python3.10/site-packages/satpy/readers/yaml_reader.py\", line 699, in _load_dataset\n",
      "    projectable = fh.get_dataset(dsid, ds_info)\n",
      "  File \"/home/jovyan/.conda/envs/sea-ice-oscillations/lib/python3.10/site-packages/satpy/readers/viirs_l1b.py\", line 203, in get_dataset\n",
      "    metadata = self.get_metadata(dataset_id, ds_info)\n",
      "  File \"/home/jovyan/.conda/envs/sea-ice-oscillations/lib/python3.10/site-packages/satpy/readers/viirs_l1b.py\", line 182, in get_metadata\n",
      "    i = getattr(self[var_path], 'attrs', {})\n",
      "  File \"/home/jovyan/.conda/envs/sea-ice-oscillations/lib/python3.10/site-packages/satpy/readers/netcdf_utils.py\", line 279, in __getitem__\n",
      "    val = self.file_content[key]\n",
      "KeyError: 'observation_data/I03'\n",
      "Could not load dataset 'DataID(name='I03', wavelength=WavelengthRange(min=1.58, central=1.61, max=1.64, unit='µm'), resolution=371, calibration=<calibration.reflectance>, modifiers=())': \"Could not load DataID(name='I03', wavelength=WavelengthRange(min=1.58, central=1.61, max=1.64, unit='µm'), resolution=371, calibration=<calibration.reflectance>, modifiers=()) from any provided files\"\n",
      "Traceback (most recent call last):\n",
      "  File \"/home/jovyan/.conda/envs/sea-ice-oscillations/lib/python3.10/site-packages/satpy/readers/yaml_reader.py\", line 823, in _load_dataset_with_area\n",
      "    ds = self._load_dataset_data(file_handlers, dsid, **kwargs)\n",
      "  File \"/home/jovyan/.conda/envs/sea-ice-oscillations/lib/python3.10/site-packages/satpy/readers/yaml_reader.py\", line 723, in _load_dataset_data\n",
      "    proj = self._load_dataset(dsid, ds_info, file_handlers, **kwargs)\n",
      "  File \"/home/jovyan/.conda/envs/sea-ice-oscillations/lib/python3.10/site-packages/satpy/readers/yaml_reader.py\", line 708, in _load_dataset\n",
      "    raise KeyError(\n",
      "KeyError: \"Could not load DataID(name='I03', wavelength=WavelengthRange(min=1.58, central=1.61, max=1.64, unit='µm'), resolution=371, calibration=<calibration.reflectance>, modifiers=()) from any provided files\"\n",
      "The following datasets were not created and may require resampling to be generated: DataID(name='I01', wavelength=WavelengthRange(min=0.6, central=0.64, max=0.68, unit='µm'), resolution=371, calibration=<calibration.reflectance>, modifiers=()), DataID(name='I03', wavelength=WavelengthRange(min=1.58, central=1.61, max=1.64, unit='µm'), resolution=371, calibration=<calibration.reflectance>, modifiers=())\n",
      "/home/jovyan/.conda/envs/sea-ice-oscillations/lib/python3.10/site-packages/dask/core.py:121: RuntimeWarning: invalid value encountered in divide\n",
      "  return func(*(_execute_task(a, cache) for a in args))\n",
      "/home/jovyan/.conda/envs/sea-ice-oscillations/lib/python3.10/site-packages/dask/array/chunk.py:278: RuntimeWarning: invalid value encountered in cast\n",
      "  return x.astype(astype_dtype, **kwargs)\n"
     ]
    },
    {
     "name": "stdout",
     "output_type": "stream",
     "text": [
      "couldn't save A2022274.1012.001\n"
     ]
    },
    {
     "name": "stderr",
     "output_type": "stream",
     "text": [
      "/home/jovyan/.conda/envs/sea-ice-oscillations/lib/python3.10/site-packages/dask/core.py:121: RuntimeWarning: invalid value encountered in divide\n",
      "  return func(*(_execute_task(a, cache) for a in args))\n",
      "/home/jovyan/.conda/envs/sea-ice-oscillations/lib/python3.10/site-packages/dask/array/chunk.py:278: RuntimeWarning: invalid value encountered in cast\n",
      "  return x.astype(astype_dtype, **kwargs)\n"
     ]
    },
    {
     "name": "stdout",
     "output_type": "stream",
     "text": [
      "couldn't save A2022274.1012.002\n"
     ]
    },
    {
     "name": "stderr",
     "output_type": "stream",
     "text": [
      "Failed to load DataID(name='I01', wavelength=WavelengthRange(min=0.6, central=0.64, max=0.68, unit='µm'), resolution=371, calibration=<calibration.reflectance>, modifiers=()) from <VIIRSL1BFileHandler: 'VNP02IMG.A2022274.1018.001.2022274180512.nc'>\n",
      "Traceback (most recent call last):\n",
      "  File \"/home/jovyan/.conda/envs/sea-ice-oscillations/lib/python3.10/site-packages/satpy/readers/yaml_reader.py\", line 699, in _load_dataset\n",
      "    projectable = fh.get_dataset(dsid, ds_info)\n",
      "  File \"/home/jovyan/.conda/envs/sea-ice-oscillations/lib/python3.10/site-packages/satpy/readers/viirs_l1b.py\", line 203, in get_dataset\n",
      "    metadata = self.get_metadata(dataset_id, ds_info)\n",
      "  File \"/home/jovyan/.conda/envs/sea-ice-oscillations/lib/python3.10/site-packages/satpy/readers/viirs_l1b.py\", line 182, in get_metadata\n",
      "    i = getattr(self[var_path], 'attrs', {})\n",
      "  File \"/home/jovyan/.conda/envs/sea-ice-oscillations/lib/python3.10/site-packages/satpy/readers/netcdf_utils.py\", line 279, in __getitem__\n",
      "    val = self.file_content[key]\n",
      "KeyError: 'observation_data/I01'\n",
      "Could not load dataset 'DataID(name='I01', wavelength=WavelengthRange(min=0.6, central=0.64, max=0.68, unit='µm'), resolution=371, calibration=<calibration.reflectance>, modifiers=())': \"Could not load DataID(name='I01', wavelength=WavelengthRange(min=0.6, central=0.64, max=0.68, unit='µm'), resolution=371, calibration=<calibration.reflectance>, modifiers=()) from any provided files\"\n",
      "Traceback (most recent call last):\n",
      "  File \"/home/jovyan/.conda/envs/sea-ice-oscillations/lib/python3.10/site-packages/satpy/readers/yaml_reader.py\", line 823, in _load_dataset_with_area\n",
      "    ds = self._load_dataset_data(file_handlers, dsid, **kwargs)\n",
      "  File \"/home/jovyan/.conda/envs/sea-ice-oscillations/lib/python3.10/site-packages/satpy/readers/yaml_reader.py\", line 723, in _load_dataset_data\n",
      "    proj = self._load_dataset(dsid, ds_info, file_handlers, **kwargs)\n",
      "  File \"/home/jovyan/.conda/envs/sea-ice-oscillations/lib/python3.10/site-packages/satpy/readers/yaml_reader.py\", line 708, in _load_dataset\n",
      "    raise KeyError(\n",
      "KeyError: \"Could not load DataID(name='I01', wavelength=WavelengthRange(min=0.6, central=0.64, max=0.68, unit='µm'), resolution=371, calibration=<calibration.reflectance>, modifiers=()) from any provided files\"\n",
      "Failed to load DataID(name='I03', wavelength=WavelengthRange(min=1.58, central=1.61, max=1.64, unit='µm'), resolution=371, calibration=<calibration.reflectance>, modifiers=()) from <VIIRSL1BFileHandler: 'VNP02IMG.A2022274.1018.001.2022274180512.nc'>\n",
      "Traceback (most recent call last):\n",
      "  File \"/home/jovyan/.conda/envs/sea-ice-oscillations/lib/python3.10/site-packages/satpy/readers/yaml_reader.py\", line 699, in _load_dataset\n",
      "    projectable = fh.get_dataset(dsid, ds_info)\n",
      "  File \"/home/jovyan/.conda/envs/sea-ice-oscillations/lib/python3.10/site-packages/satpy/readers/viirs_l1b.py\", line 203, in get_dataset\n",
      "    metadata = self.get_metadata(dataset_id, ds_info)\n",
      "  File \"/home/jovyan/.conda/envs/sea-ice-oscillations/lib/python3.10/site-packages/satpy/readers/viirs_l1b.py\", line 182, in get_metadata\n",
      "    i = getattr(self[var_path], 'attrs', {})\n",
      "  File \"/home/jovyan/.conda/envs/sea-ice-oscillations/lib/python3.10/site-packages/satpy/readers/netcdf_utils.py\", line 279, in __getitem__\n",
      "    val = self.file_content[key]\n",
      "KeyError: 'observation_data/I03'\n",
      "Could not load dataset 'DataID(name='I03', wavelength=WavelengthRange(min=1.58, central=1.61, max=1.64, unit='µm'), resolution=371, calibration=<calibration.reflectance>, modifiers=())': \"Could not load DataID(name='I03', wavelength=WavelengthRange(min=1.58, central=1.61, max=1.64, unit='µm'), resolution=371, calibration=<calibration.reflectance>, modifiers=()) from any provided files\"\n",
      "Traceback (most recent call last):\n",
      "  File \"/home/jovyan/.conda/envs/sea-ice-oscillations/lib/python3.10/site-packages/satpy/readers/yaml_reader.py\", line 823, in _load_dataset_with_area\n",
      "    ds = self._load_dataset_data(file_handlers, dsid, **kwargs)\n",
      "  File \"/home/jovyan/.conda/envs/sea-ice-oscillations/lib/python3.10/site-packages/satpy/readers/yaml_reader.py\", line 723, in _load_dataset_data\n",
      "    proj = self._load_dataset(dsid, ds_info, file_handlers, **kwargs)\n",
      "  File \"/home/jovyan/.conda/envs/sea-ice-oscillations/lib/python3.10/site-packages/satpy/readers/yaml_reader.py\", line 708, in _load_dataset\n",
      "    raise KeyError(\n",
      "KeyError: \"Could not load DataID(name='I03', wavelength=WavelengthRange(min=1.58, central=1.61, max=1.64, unit='µm'), resolution=371, calibration=<calibration.reflectance>, modifiers=()) from any provided files\"\n",
      "The following datasets were not created and may require resampling to be generated: DataID(name='I01', wavelength=WavelengthRange(min=0.6, central=0.64, max=0.68, unit='µm'), resolution=371, calibration=<calibration.reflectance>, modifiers=()), DataID(name='I03', wavelength=WavelengthRange(min=1.58, central=1.61, max=1.64, unit='µm'), resolution=371, calibration=<calibration.reflectance>, modifiers=())\n",
      "Failed to load DataID(name='I01', wavelength=WavelengthRange(min=0.6, central=0.64, max=0.68, unit='µm'), resolution=371, calibration=<calibration.reflectance>, modifiers=()) from <VIIRSL1BFileHandler: 'VNP02IMG.A2022274.1018.002.2022274193015.nc'>\n",
      "Traceback (most recent call last):\n",
      "  File \"/home/jovyan/.conda/envs/sea-ice-oscillations/lib/python3.10/site-packages/satpy/readers/yaml_reader.py\", line 699, in _load_dataset\n",
      "    projectable = fh.get_dataset(dsid, ds_info)\n",
      "  File \"/home/jovyan/.conda/envs/sea-ice-oscillations/lib/python3.10/site-packages/satpy/readers/viirs_l1b.py\", line 203, in get_dataset\n",
      "    metadata = self.get_metadata(dataset_id, ds_info)\n",
      "  File \"/home/jovyan/.conda/envs/sea-ice-oscillations/lib/python3.10/site-packages/satpy/readers/viirs_l1b.py\", line 182, in get_metadata\n",
      "    i = getattr(self[var_path], 'attrs', {})\n",
      "  File \"/home/jovyan/.conda/envs/sea-ice-oscillations/lib/python3.10/site-packages/satpy/readers/netcdf_utils.py\", line 279, in __getitem__\n",
      "    val = self.file_content[key]\n",
      "KeyError: 'observation_data/I01'\n",
      "Could not load dataset 'DataID(name='I01', wavelength=WavelengthRange(min=0.6, central=0.64, max=0.68, unit='µm'), resolution=371, calibration=<calibration.reflectance>, modifiers=())': \"Could not load DataID(name='I01', wavelength=WavelengthRange(min=0.6, central=0.64, max=0.68, unit='µm'), resolution=371, calibration=<calibration.reflectance>, modifiers=()) from any provided files\"\n",
      "Traceback (most recent call last):\n",
      "  File \"/home/jovyan/.conda/envs/sea-ice-oscillations/lib/python3.10/site-packages/satpy/readers/yaml_reader.py\", line 823, in _load_dataset_with_area\n",
      "    ds = self._load_dataset_data(file_handlers, dsid, **kwargs)\n",
      "  File \"/home/jovyan/.conda/envs/sea-ice-oscillations/lib/python3.10/site-packages/satpy/readers/yaml_reader.py\", line 723, in _load_dataset_data\n",
      "    proj = self._load_dataset(dsid, ds_info, file_handlers, **kwargs)\n",
      "  File \"/home/jovyan/.conda/envs/sea-ice-oscillations/lib/python3.10/site-packages/satpy/readers/yaml_reader.py\", line 708, in _load_dataset\n",
      "    raise KeyError(\n",
      "KeyError: \"Could not load DataID(name='I01', wavelength=WavelengthRange(min=0.6, central=0.64, max=0.68, unit='µm'), resolution=371, calibration=<calibration.reflectance>, modifiers=()) from any provided files\"\n",
      "Failed to load DataID(name='I03', wavelength=WavelengthRange(min=1.58, central=1.61, max=1.64, unit='µm'), resolution=371, calibration=<calibration.reflectance>, modifiers=()) from <VIIRSL1BFileHandler: 'VNP02IMG.A2022274.1018.002.2022274193015.nc'>\n",
      "Traceback (most recent call last):\n",
      "  File \"/home/jovyan/.conda/envs/sea-ice-oscillations/lib/python3.10/site-packages/satpy/readers/yaml_reader.py\", line 699, in _load_dataset\n",
      "    projectable = fh.get_dataset(dsid, ds_info)\n",
      "  File \"/home/jovyan/.conda/envs/sea-ice-oscillations/lib/python3.10/site-packages/satpy/readers/viirs_l1b.py\", line 203, in get_dataset\n",
      "    metadata = self.get_metadata(dataset_id, ds_info)\n",
      "  File \"/home/jovyan/.conda/envs/sea-ice-oscillations/lib/python3.10/site-packages/satpy/readers/viirs_l1b.py\", line 182, in get_metadata\n",
      "    i = getattr(self[var_path], 'attrs', {})\n",
      "  File \"/home/jovyan/.conda/envs/sea-ice-oscillations/lib/python3.10/site-packages/satpy/readers/netcdf_utils.py\", line 279, in __getitem__\n",
      "    val = self.file_content[key]\n",
      "KeyError: 'observation_data/I03'\n",
      "Could not load dataset 'DataID(name='I03', wavelength=WavelengthRange(min=1.58, central=1.61, max=1.64, unit='µm'), resolution=371, calibration=<calibration.reflectance>, modifiers=())': \"Could not load DataID(name='I03', wavelength=WavelengthRange(min=1.58, central=1.61, max=1.64, unit='µm'), resolution=371, calibration=<calibration.reflectance>, modifiers=()) from any provided files\"\n",
      "Traceback (most recent call last):\n",
      "  File \"/home/jovyan/.conda/envs/sea-ice-oscillations/lib/python3.10/site-packages/satpy/readers/yaml_reader.py\", line 823, in _load_dataset_with_area\n",
      "    ds = self._load_dataset_data(file_handlers, dsid, **kwargs)\n",
      "  File \"/home/jovyan/.conda/envs/sea-ice-oscillations/lib/python3.10/site-packages/satpy/readers/yaml_reader.py\", line 723, in _load_dataset_data\n",
      "    proj = self._load_dataset(dsid, ds_info, file_handlers, **kwargs)\n",
      "  File \"/home/jovyan/.conda/envs/sea-ice-oscillations/lib/python3.10/site-packages/satpy/readers/yaml_reader.py\", line 708, in _load_dataset\n",
      "    raise KeyError(\n",
      "KeyError: \"Could not load DataID(name='I03', wavelength=WavelengthRange(min=1.58, central=1.61, max=1.64, unit='µm'), resolution=371, calibration=<calibration.reflectance>, modifiers=()) from any provided files\"\n",
      "The following datasets were not created and may require resampling to be generated: DataID(name='I01', wavelength=WavelengthRange(min=0.6, central=0.64, max=0.68, unit='µm'), resolution=371, calibration=<calibration.reflectance>, modifiers=()), DataID(name='I03', wavelength=WavelengthRange(min=1.58, central=1.61, max=1.64, unit='µm'), resolution=371, calibration=<calibration.reflectance>, modifiers=())\n",
      "/home/jovyan/.conda/envs/sea-ice-oscillations/lib/python3.10/site-packages/dask/core.py:121: RuntimeWarning: invalid value encountered in divide\n",
      "  return func(*(_execute_task(a, cache) for a in args))\n",
      "/home/jovyan/.conda/envs/sea-ice-oscillations/lib/python3.10/site-packages/dask/array/chunk.py:278: RuntimeWarning: invalid value encountered in cast\n",
      "  return x.astype(astype_dtype, **kwargs)\n"
     ]
    },
    {
     "name": "stdout",
     "output_type": "stream",
     "text": [
      "couldn't save A2022274.1154.001\n"
     ]
    },
    {
     "name": "stderr",
     "output_type": "stream",
     "text": [
      "/home/jovyan/.conda/envs/sea-ice-oscillations/lib/python3.10/site-packages/dask/core.py:121: RuntimeWarning: invalid value encountered in divide\n",
      "  return func(*(_execute_task(a, cache) for a in args))\n",
      "/home/jovyan/.conda/envs/sea-ice-oscillations/lib/python3.10/site-packages/dask/array/chunk.py:278: RuntimeWarning: invalid value encountered in cast\n",
      "  return x.astype(astype_dtype, **kwargs)\n"
     ]
    },
    {
     "name": "stdout",
     "output_type": "stream",
     "text": [
      "couldn't save A2022274.1154.002\n"
     ]
    },
    {
     "name": "stderr",
     "output_type": "stream",
     "text": [
      "Failed to load DataID(name='I01', wavelength=WavelengthRange(min=0.6, central=0.64, max=0.68, unit='µm'), resolution=371, calibration=<calibration.reflectance>, modifiers=()) from <VIIRSL1BFileHandler: 'VNP02IMG.A2022274.1200.001.2022274192943.nc'>\n",
      "Traceback (most recent call last):\n",
      "  File \"/home/jovyan/.conda/envs/sea-ice-oscillations/lib/python3.10/site-packages/satpy/readers/yaml_reader.py\", line 699, in _load_dataset\n",
      "    projectable = fh.get_dataset(dsid, ds_info)\n",
      "  File \"/home/jovyan/.conda/envs/sea-ice-oscillations/lib/python3.10/site-packages/satpy/readers/viirs_l1b.py\", line 203, in get_dataset\n",
      "    metadata = self.get_metadata(dataset_id, ds_info)\n",
      "  File \"/home/jovyan/.conda/envs/sea-ice-oscillations/lib/python3.10/site-packages/satpy/readers/viirs_l1b.py\", line 182, in get_metadata\n",
      "    i = getattr(self[var_path], 'attrs', {})\n",
      "  File \"/home/jovyan/.conda/envs/sea-ice-oscillations/lib/python3.10/site-packages/satpy/readers/netcdf_utils.py\", line 279, in __getitem__\n",
      "    val = self.file_content[key]\n",
      "KeyError: 'observation_data/I01'\n",
      "Could not load dataset 'DataID(name='I01', wavelength=WavelengthRange(min=0.6, central=0.64, max=0.68, unit='µm'), resolution=371, calibration=<calibration.reflectance>, modifiers=())': \"Could not load DataID(name='I01', wavelength=WavelengthRange(min=0.6, central=0.64, max=0.68, unit='µm'), resolution=371, calibration=<calibration.reflectance>, modifiers=()) from any provided files\"\n",
      "Traceback (most recent call last):\n",
      "  File \"/home/jovyan/.conda/envs/sea-ice-oscillations/lib/python3.10/site-packages/satpy/readers/yaml_reader.py\", line 823, in _load_dataset_with_area\n",
      "    ds = self._load_dataset_data(file_handlers, dsid, **kwargs)\n",
      "  File \"/home/jovyan/.conda/envs/sea-ice-oscillations/lib/python3.10/site-packages/satpy/readers/yaml_reader.py\", line 723, in _load_dataset_data\n",
      "    proj = self._load_dataset(dsid, ds_info, file_handlers, **kwargs)\n",
      "  File \"/home/jovyan/.conda/envs/sea-ice-oscillations/lib/python3.10/site-packages/satpy/readers/yaml_reader.py\", line 708, in _load_dataset\n",
      "    raise KeyError(\n",
      "KeyError: \"Could not load DataID(name='I01', wavelength=WavelengthRange(min=0.6, central=0.64, max=0.68, unit='µm'), resolution=371, calibration=<calibration.reflectance>, modifiers=()) from any provided files\"\n",
      "Failed to load DataID(name='I03', wavelength=WavelengthRange(min=1.58, central=1.61, max=1.64, unit='µm'), resolution=371, calibration=<calibration.reflectance>, modifiers=()) from <VIIRSL1BFileHandler: 'VNP02IMG.A2022274.1200.001.2022274192943.nc'>\n",
      "Traceback (most recent call last):\n",
      "  File \"/home/jovyan/.conda/envs/sea-ice-oscillations/lib/python3.10/site-packages/satpy/readers/yaml_reader.py\", line 699, in _load_dataset\n",
      "    projectable = fh.get_dataset(dsid, ds_info)\n",
      "  File \"/home/jovyan/.conda/envs/sea-ice-oscillations/lib/python3.10/site-packages/satpy/readers/viirs_l1b.py\", line 203, in get_dataset\n",
      "    metadata = self.get_metadata(dataset_id, ds_info)\n",
      "  File \"/home/jovyan/.conda/envs/sea-ice-oscillations/lib/python3.10/site-packages/satpy/readers/viirs_l1b.py\", line 182, in get_metadata\n",
      "    i = getattr(self[var_path], 'attrs', {})\n",
      "  File \"/home/jovyan/.conda/envs/sea-ice-oscillations/lib/python3.10/site-packages/satpy/readers/netcdf_utils.py\", line 279, in __getitem__\n",
      "    val = self.file_content[key]\n",
      "KeyError: 'observation_data/I03'\n",
      "Could not load dataset 'DataID(name='I03', wavelength=WavelengthRange(min=1.58, central=1.61, max=1.64, unit='µm'), resolution=371, calibration=<calibration.reflectance>, modifiers=())': \"Could not load DataID(name='I03', wavelength=WavelengthRange(min=1.58, central=1.61, max=1.64, unit='µm'), resolution=371, calibration=<calibration.reflectance>, modifiers=()) from any provided files\"\n",
      "Traceback (most recent call last):\n",
      "  File \"/home/jovyan/.conda/envs/sea-ice-oscillations/lib/python3.10/site-packages/satpy/readers/yaml_reader.py\", line 823, in _load_dataset_with_area\n",
      "    ds = self._load_dataset_data(file_handlers, dsid, **kwargs)\n",
      "  File \"/home/jovyan/.conda/envs/sea-ice-oscillations/lib/python3.10/site-packages/satpy/readers/yaml_reader.py\", line 723, in _load_dataset_data\n",
      "    proj = self._load_dataset(dsid, ds_info, file_handlers, **kwargs)\n",
      "  File \"/home/jovyan/.conda/envs/sea-ice-oscillations/lib/python3.10/site-packages/satpy/readers/yaml_reader.py\", line 708, in _load_dataset\n",
      "    raise KeyError(\n",
      "KeyError: \"Could not load DataID(name='I03', wavelength=WavelengthRange(min=1.58, central=1.61, max=1.64, unit='µm'), resolution=371, calibration=<calibration.reflectance>, modifiers=()) from any provided files\"\n",
      "The following datasets were not created and may require resampling to be generated: DataID(name='I01', wavelength=WavelengthRange(min=0.6, central=0.64, max=0.68, unit='µm'), resolution=371, calibration=<calibration.reflectance>, modifiers=()), DataID(name='I03', wavelength=WavelengthRange(min=1.58, central=1.61, max=1.64, unit='µm'), resolution=371, calibration=<calibration.reflectance>, modifiers=())\n",
      "Failed to load DataID(name='I01', wavelength=WavelengthRange(min=0.6, central=0.64, max=0.68, unit='µm'), resolution=371, calibration=<calibration.reflectance>, modifiers=()) from <VIIRSL1BFileHandler: 'VNP02IMG.A2022274.1200.002.2022274210758.nc'>\n",
      "Traceback (most recent call last):\n",
      "  File \"/home/jovyan/.conda/envs/sea-ice-oscillations/lib/python3.10/site-packages/satpy/readers/yaml_reader.py\", line 699, in _load_dataset\n",
      "    projectable = fh.get_dataset(dsid, ds_info)\n",
      "  File \"/home/jovyan/.conda/envs/sea-ice-oscillations/lib/python3.10/site-packages/satpy/readers/viirs_l1b.py\", line 203, in get_dataset\n",
      "    metadata = self.get_metadata(dataset_id, ds_info)\n",
      "  File \"/home/jovyan/.conda/envs/sea-ice-oscillations/lib/python3.10/site-packages/satpy/readers/viirs_l1b.py\", line 182, in get_metadata\n",
      "    i = getattr(self[var_path], 'attrs', {})\n",
      "  File \"/home/jovyan/.conda/envs/sea-ice-oscillations/lib/python3.10/site-packages/satpy/readers/netcdf_utils.py\", line 279, in __getitem__\n",
      "    val = self.file_content[key]\n",
      "KeyError: 'observation_data/I01'\n",
      "Could not load dataset 'DataID(name='I01', wavelength=WavelengthRange(min=0.6, central=0.64, max=0.68, unit='µm'), resolution=371, calibration=<calibration.reflectance>, modifiers=())': \"Could not load DataID(name='I01', wavelength=WavelengthRange(min=0.6, central=0.64, max=0.68, unit='µm'), resolution=371, calibration=<calibration.reflectance>, modifiers=()) from any provided files\"\n",
      "Traceback (most recent call last):\n",
      "  File \"/home/jovyan/.conda/envs/sea-ice-oscillations/lib/python3.10/site-packages/satpy/readers/yaml_reader.py\", line 823, in _load_dataset_with_area\n",
      "    ds = self._load_dataset_data(file_handlers, dsid, **kwargs)\n",
      "  File \"/home/jovyan/.conda/envs/sea-ice-oscillations/lib/python3.10/site-packages/satpy/readers/yaml_reader.py\", line 723, in _load_dataset_data\n",
      "    proj = self._load_dataset(dsid, ds_info, file_handlers, **kwargs)\n",
      "  File \"/home/jovyan/.conda/envs/sea-ice-oscillations/lib/python3.10/site-packages/satpy/readers/yaml_reader.py\", line 708, in _load_dataset\n",
      "    raise KeyError(\n",
      "KeyError: \"Could not load DataID(name='I01', wavelength=WavelengthRange(min=0.6, central=0.64, max=0.68, unit='µm'), resolution=371, calibration=<calibration.reflectance>, modifiers=()) from any provided files\"\n",
      "Failed to load DataID(name='I03', wavelength=WavelengthRange(min=1.58, central=1.61, max=1.64, unit='µm'), resolution=371, calibration=<calibration.reflectance>, modifiers=()) from <VIIRSL1BFileHandler: 'VNP02IMG.A2022274.1200.002.2022274210758.nc'>\n",
      "Traceback (most recent call last):\n",
      "  File \"/home/jovyan/.conda/envs/sea-ice-oscillations/lib/python3.10/site-packages/satpy/readers/yaml_reader.py\", line 699, in _load_dataset\n",
      "    projectable = fh.get_dataset(dsid, ds_info)\n",
      "  File \"/home/jovyan/.conda/envs/sea-ice-oscillations/lib/python3.10/site-packages/satpy/readers/viirs_l1b.py\", line 203, in get_dataset\n",
      "    metadata = self.get_metadata(dataset_id, ds_info)\n",
      "  File \"/home/jovyan/.conda/envs/sea-ice-oscillations/lib/python3.10/site-packages/satpy/readers/viirs_l1b.py\", line 182, in get_metadata\n",
      "    i = getattr(self[var_path], 'attrs', {})\n",
      "  File \"/home/jovyan/.conda/envs/sea-ice-oscillations/lib/python3.10/site-packages/satpy/readers/netcdf_utils.py\", line 279, in __getitem__\n",
      "    val = self.file_content[key]\n",
      "KeyError: 'observation_data/I03'\n",
      "Could not load dataset 'DataID(name='I03', wavelength=WavelengthRange(min=1.58, central=1.61, max=1.64, unit='µm'), resolution=371, calibration=<calibration.reflectance>, modifiers=())': \"Could not load DataID(name='I03', wavelength=WavelengthRange(min=1.58, central=1.61, max=1.64, unit='µm'), resolution=371, calibration=<calibration.reflectance>, modifiers=()) from any provided files\"\n",
      "Traceback (most recent call last):\n",
      "  File \"/home/jovyan/.conda/envs/sea-ice-oscillations/lib/python3.10/site-packages/satpy/readers/yaml_reader.py\", line 823, in _load_dataset_with_area\n",
      "    ds = self._load_dataset_data(file_handlers, dsid, **kwargs)\n",
      "  File \"/home/jovyan/.conda/envs/sea-ice-oscillations/lib/python3.10/site-packages/satpy/readers/yaml_reader.py\", line 723, in _load_dataset_data\n",
      "    proj = self._load_dataset(dsid, ds_info, file_handlers, **kwargs)\n",
      "  File \"/home/jovyan/.conda/envs/sea-ice-oscillations/lib/python3.10/site-packages/satpy/readers/yaml_reader.py\", line 708, in _load_dataset\n",
      "    raise KeyError(\n",
      "KeyError: \"Could not load DataID(name='I03', wavelength=WavelengthRange(min=1.58, central=1.61, max=1.64, unit='µm'), resolution=371, calibration=<calibration.reflectance>, modifiers=()) from any provided files\"\n",
      "The following datasets were not created and may require resampling to be generated: DataID(name='I01', wavelength=WavelengthRange(min=0.6, central=0.64, max=0.68, unit='µm'), resolution=371, calibration=<calibration.reflectance>, modifiers=()), DataID(name='I03', wavelength=WavelengthRange(min=1.58, central=1.61, max=1.64, unit='µm'), resolution=371, calibration=<calibration.reflectance>, modifiers=())\n",
      "/home/jovyan/.conda/envs/sea-ice-oscillations/lib/python3.10/site-packages/dask/core.py:121: RuntimeWarning: invalid value encountered in divide\n",
      "  return func(*(_execute_task(a, cache) for a in args))\n",
      "/home/jovyan/.conda/envs/sea-ice-oscillations/lib/python3.10/site-packages/dask/array/chunk.py:278: RuntimeWarning: invalid value encountered in cast\n",
      "  return x.astype(astype_dtype, **kwargs)\n"
     ]
    },
    {
     "name": "stdout",
     "output_type": "stream",
     "text": [
      "couldn't save A2022274.1336.001\n"
     ]
    },
    {
     "name": "stderr",
     "output_type": "stream",
     "text": [
      "/home/jovyan/.conda/envs/sea-ice-oscillations/lib/python3.10/site-packages/dask/core.py:121: RuntimeWarning: invalid value encountered in divide\n",
      "  return func(*(_execute_task(a, cache) for a in args))\n",
      "/home/jovyan/.conda/envs/sea-ice-oscillations/lib/python3.10/site-packages/dask/array/chunk.py:278: RuntimeWarning: invalid value encountered in cast\n",
      "  return x.astype(astype_dtype, **kwargs)\n"
     ]
    },
    {
     "name": "stdout",
     "output_type": "stream",
     "text": [
      "couldn't save A2022274.1336.002\n"
     ]
    },
    {
     "name": "stderr",
     "output_type": "stream",
     "text": [
      "/home/jovyan/.conda/envs/sea-ice-oscillations/lib/python3.10/site-packages/dask/core.py:121: RuntimeWarning: invalid value encountered in divide\n",
      "  return func(*(_execute_task(a, cache) for a in args))\n",
      "/home/jovyan/.conda/envs/sea-ice-oscillations/lib/python3.10/site-packages/dask/array/chunk.py:278: RuntimeWarning: invalid value encountered in cast\n",
      "  return x.astype(astype_dtype, **kwargs)\n"
     ]
    },
    {
     "name": "stdout",
     "output_type": "stream",
     "text": [
      "couldn't save A2022274.1518.001\n"
     ]
    },
    {
     "name": "stderr",
     "output_type": "stream",
     "text": [
      "/home/jovyan/.conda/envs/sea-ice-oscillations/lib/python3.10/site-packages/dask/core.py:121: RuntimeWarning: invalid value encountered in divide\n",
      "  return func(*(_execute_task(a, cache) for a in args))\n",
      "/home/jovyan/.conda/envs/sea-ice-oscillations/lib/python3.10/site-packages/dask/array/chunk.py:278: RuntimeWarning: invalid value encountered in cast\n",
      "  return x.astype(astype_dtype, **kwargs)\n"
     ]
    },
    {
     "name": "stdout",
     "output_type": "stream",
     "text": [
      "couldn't save A2022274.1518.002\n"
     ]
    },
    {
     "name": "stderr",
     "output_type": "stream",
     "text": [
      "/home/jovyan/.conda/envs/sea-ice-oscillations/lib/python3.10/site-packages/dask/core.py:121: RuntimeWarning: invalid value encountered in divide\n",
      "  return func(*(_execute_task(a, cache) for a in args))\n",
      "/home/jovyan/.conda/envs/sea-ice-oscillations/lib/python3.10/site-packages/dask/array/chunk.py:278: RuntimeWarning: invalid value encountered in cast\n",
      "  return x.astype(astype_dtype, **kwargs)\n"
     ]
    },
    {
     "name": "stdout",
     "output_type": "stream",
     "text": [
      "couldn't save A2022274.1654.001\n"
     ]
    },
    {
     "name": "stderr",
     "output_type": "stream",
     "text": [
      "/home/jovyan/.conda/envs/sea-ice-oscillations/lib/python3.10/site-packages/dask/core.py:121: RuntimeWarning: invalid value encountered in divide\n",
      "  return func(*(_execute_task(a, cache) for a in args))\n",
      "/home/jovyan/.conda/envs/sea-ice-oscillations/lib/python3.10/site-packages/dask/array/chunk.py:278: RuntimeWarning: invalid value encountered in cast\n",
      "  return x.astype(astype_dtype, **kwargs)\n"
     ]
    },
    {
     "name": "stdout",
     "output_type": "stream",
     "text": [
      "couldn't save A2022274.1654.002\n"
     ]
    },
    {
     "name": "stderr",
     "output_type": "stream",
     "text": [
      "/home/jovyan/.conda/envs/sea-ice-oscillations/lib/python3.10/site-packages/dask/core.py:121: RuntimeWarning: invalid value encountered in divide\n",
      "  return func(*(_execute_task(a, cache) for a in args))\n",
      "/home/jovyan/.conda/envs/sea-ice-oscillations/lib/python3.10/site-packages/dask/array/chunk.py:278: RuntimeWarning: invalid value encountered in cast\n",
      "  return x.astype(astype_dtype, **kwargs)\n"
     ]
    },
    {
     "name": "stdout",
     "output_type": "stream",
     "text": [
      "couldn't save A2022274.1700.001\n"
     ]
    },
    {
     "name": "stderr",
     "output_type": "stream",
     "text": [
      "/home/jovyan/.conda/envs/sea-ice-oscillations/lib/python3.10/site-packages/dask/core.py:121: RuntimeWarning: invalid value encountered in divide\n",
      "  return func(*(_execute_task(a, cache) for a in args))\n",
      "/home/jovyan/.conda/envs/sea-ice-oscillations/lib/python3.10/site-packages/dask/array/chunk.py:278: RuntimeWarning: invalid value encountered in cast\n",
      "  return x.astype(astype_dtype, **kwargs)\n"
     ]
    },
    {
     "name": "stdout",
     "output_type": "stream",
     "text": [
      "couldn't save A2022274.1700.002\n"
     ]
    },
    {
     "name": "stderr",
     "output_type": "stream",
     "text": [
      "/home/jovyan/.conda/envs/sea-ice-oscillations/lib/python3.10/site-packages/dask/core.py:121: RuntimeWarning: invalid value encountered in divide\n",
      "  return func(*(_execute_task(a, cache) for a in args))\n",
      "/home/jovyan/.conda/envs/sea-ice-oscillations/lib/python3.10/site-packages/dask/array/chunk.py:278: RuntimeWarning: invalid value encountered in cast\n",
      "  return x.astype(astype_dtype, **kwargs)\n"
     ]
    },
    {
     "name": "stdout",
     "output_type": "stream",
     "text": [
      "couldn't save A2022274.1836.001\n"
     ]
    },
    {
     "name": "stderr",
     "output_type": "stream",
     "text": [
      "/home/jovyan/.conda/envs/sea-ice-oscillations/lib/python3.10/site-packages/dask/core.py:121: RuntimeWarning: invalid value encountered in divide\n",
      "  return func(*(_execute_task(a, cache) for a in args))\n",
      "/home/jovyan/.conda/envs/sea-ice-oscillations/lib/python3.10/site-packages/dask/array/chunk.py:278: RuntimeWarning: invalid value encountered in cast\n",
      "  return x.astype(astype_dtype, **kwargs)\n"
     ]
    },
    {
     "name": "stdout",
     "output_type": "stream",
     "text": [
      "couldn't save A2022274.1836.002\n"
     ]
    },
    {
     "name": "stderr",
     "output_type": "stream",
     "text": [
      "/home/jovyan/.conda/envs/sea-ice-oscillations/lib/python3.10/site-packages/dask/core.py:121: RuntimeWarning: invalid value encountered in divide\n",
      "  return func(*(_execute_task(a, cache) for a in args))\n",
      "/home/jovyan/.conda/envs/sea-ice-oscillations/lib/python3.10/site-packages/dask/array/chunk.py:278: RuntimeWarning: invalid value encountered in cast\n",
      "  return x.astype(astype_dtype, **kwargs)\n"
     ]
    },
    {
     "name": "stdout",
     "output_type": "stream",
     "text": [
      "couldn't save A2022274.2018.001\n"
     ]
    },
    {
     "name": "stderr",
     "output_type": "stream",
     "text": [
      "/home/jovyan/.conda/envs/sea-ice-oscillations/lib/python3.10/site-packages/dask/core.py:121: RuntimeWarning: invalid value encountered in divide\n",
      "  return func(*(_execute_task(a, cache) for a in args))\n",
      "/home/jovyan/.conda/envs/sea-ice-oscillations/lib/python3.10/site-packages/dask/array/chunk.py:278: RuntimeWarning: invalid value encountered in cast\n",
      "  return x.astype(astype_dtype, **kwargs)\n"
     ]
    },
    {
     "name": "stdout",
     "output_type": "stream",
     "text": [
      "couldn't save A2022274.2018.002\n"
     ]
    },
    {
     "name": "stderr",
     "output_type": "stream",
     "text": [
      "/home/jovyan/.conda/envs/sea-ice-oscillations/lib/python3.10/site-packages/dask/array/chunk.py:278: RuntimeWarning: invalid value encountered in cast\n",
      "  return x.astype(astype_dtype, **kwargs)\n"
     ]
    },
    {
     "name": "stdout",
     "output_type": "stream",
     "text": [
      "couldn't save A2022274.2154.001\n"
     ]
    },
    {
     "name": "stderr",
     "output_type": "stream",
     "text": [
      "/home/jovyan/.conda/envs/sea-ice-oscillations/lib/python3.10/site-packages/dask/array/chunk.py:278: RuntimeWarning: invalid value encountered in cast\n",
      "  return x.astype(astype_dtype, **kwargs)\n"
     ]
    },
    {
     "name": "stdout",
     "output_type": "stream",
     "text": [
      "couldn't save A2022274.2154.002\n"
     ]
    },
    {
     "name": "stderr",
     "output_type": "stream",
     "text": [
      "/home/jovyan/.conda/envs/sea-ice-oscillations/lib/python3.10/site-packages/dask/core.py:121: RuntimeWarning: invalid value encountered in divide\n",
      "  return func(*(_execute_task(a, cache) for a in args))\n",
      "/home/jovyan/.conda/envs/sea-ice-oscillations/lib/python3.10/site-packages/dask/array/chunk.py:278: RuntimeWarning: invalid value encountered in cast\n",
      "  return x.astype(astype_dtype, **kwargs)\n"
     ]
    },
    {
     "name": "stdout",
     "output_type": "stream",
     "text": [
      "couldn't save A2022274.2200.001\n"
     ]
    },
    {
     "name": "stderr",
     "output_type": "stream",
     "text": [
      "/home/jovyan/.conda/envs/sea-ice-oscillations/lib/python3.10/site-packages/dask/core.py:121: RuntimeWarning: invalid value encountered in divide\n",
      "  return func(*(_execute_task(a, cache) for a in args))\n",
      "/home/jovyan/.conda/envs/sea-ice-oscillations/lib/python3.10/site-packages/dask/array/chunk.py:278: RuntimeWarning: invalid value encountered in cast\n",
      "  return x.astype(astype_dtype, **kwargs)\n"
     ]
    },
    {
     "name": "stdout",
     "output_type": "stream",
     "text": [
      "couldn't save A2022274.2200.002\n"
     ]
    },
    {
     "name": "stderr",
     "output_type": "stream",
     "text": [
      "/home/jovyan/.conda/envs/sea-ice-oscillations/lib/python3.10/site-packages/dask/array/chunk.py:278: RuntimeWarning: invalid value encountered in cast\n",
      "  return x.astype(astype_dtype, **kwargs)\n"
     ]
    },
    {
     "name": "stdout",
     "output_type": "stream",
     "text": [
      "couldn't save A2022280.0124.001\n"
     ]
    },
    {
     "name": "stderr",
     "output_type": "stream",
     "text": [
      "/home/jovyan/.conda/envs/sea-ice-oscillations/lib/python3.10/site-packages/dask/array/chunk.py:278: RuntimeWarning: invalid value encountered in cast\n",
      "  return x.astype(astype_dtype, **kwargs)\n"
     ]
    },
    {
     "name": "stdout",
     "output_type": "stream",
     "text": [
      "couldn't save A2022280.0124.002\n"
     ]
    },
    {
     "name": "stderr",
     "output_type": "stream",
     "text": [
      "/home/jovyan/.conda/envs/sea-ice-oscillations/lib/python3.10/site-packages/dask/core.py:121: RuntimeWarning: invalid value encountered in divide\n",
      "  return func(*(_execute_task(a, cache) for a in args))\n",
      "/home/jovyan/.conda/envs/sea-ice-oscillations/lib/python3.10/site-packages/dask/array/chunk.py:278: RuntimeWarning: invalid value encountered in cast\n",
      "  return x.astype(astype_dtype, **kwargs)\n"
     ]
    },
    {
     "name": "stdout",
     "output_type": "stream",
     "text": [
      "couldn't save A2022280.0130.001\n"
     ]
    },
    {
     "name": "stderr",
     "output_type": "stream",
     "text": [
      "/home/jovyan/.conda/envs/sea-ice-oscillations/lib/python3.10/site-packages/dask/core.py:121: RuntimeWarning: invalid value encountered in divide\n",
      "  return func(*(_execute_task(a, cache) for a in args))\n",
      "/home/jovyan/.conda/envs/sea-ice-oscillations/lib/python3.10/site-packages/dask/array/chunk.py:278: RuntimeWarning: invalid value encountered in cast\n",
      "  return x.astype(astype_dtype, **kwargs)\n",
      "Required file type 'vgeoi' not found or loaded for 'i_lat'\n",
      "Required file type 'vgeoi' not found or loaded for 'i_lon'\n",
      "Required file type 'vl1bi' not found or loaded for 'I01'\n",
      "Required file type 'vl1bi' not found or loaded for 'I03'\n",
      "The following datasets were not created and may require resampling to be generated: DataID(name='I01', wavelength=WavelengthRange(min=0.6, central=0.64, max=0.68, unit='µm'), resolution=371, calibration=<calibration.reflectance>, modifiers=()), DataID(name='I03', wavelength=WavelengthRange(min=1.58, central=1.61, max=1.64, unit='µm'), resolution=371, calibration=<calibration.reflectance>, modifiers=())\n",
      "Required file type 'vgeoi' not found or loaded for 'i_lat'\n",
      "Required file type 'vgeoi' not found or loaded for 'i_lon'\n",
      "Required file type 'vl1bi' not found or loaded for 'I01'\n",
      "Required file type 'vl1bi' not found or loaded for 'I03'\n",
      "The following datasets were not created and may require resampling to be generated: DataID(name='I01', wavelength=WavelengthRange(min=0.6, central=0.64, max=0.68, unit='µm'), resolution=371, calibration=<calibration.reflectance>, modifiers=()), DataID(name='I03', wavelength=WavelengthRange(min=1.58, central=1.61, max=1.64, unit='µm'), resolution=371, calibration=<calibration.reflectance>, modifiers=())\n"
     ]
    },
    {
     "name": "stdout",
     "output_type": "stream",
     "text": [
      "couldn't save A2022280.0130.002\n"
     ]
    },
    {
     "name": "stderr",
     "output_type": "stream",
     "text": [
      "/home/jovyan/.conda/envs/sea-ice-oscillations/lib/python3.10/site-packages/dask/core.py:121: RuntimeWarning: invalid value encountered in divide\n",
      "  return func(*(_execute_task(a, cache) for a in args))\n",
      "/home/jovyan/.conda/envs/sea-ice-oscillations/lib/python3.10/site-packages/dask/array/chunk.py:278: RuntimeWarning: invalid value encountered in cast\n",
      "  return x.astype(astype_dtype, **kwargs)\n"
     ]
    },
    {
     "name": "stdout",
     "output_type": "stream",
     "text": [
      "couldn't save A2022280.1000.001\n"
     ]
    },
    {
     "name": "stderr",
     "output_type": "stream",
     "text": [
      "/home/jovyan/.conda/envs/sea-ice-oscillations/lib/python3.10/site-packages/dask/core.py:121: RuntimeWarning: invalid value encountered in divide\n",
      "  return func(*(_execute_task(a, cache) for a in args))\n",
      "/home/jovyan/.conda/envs/sea-ice-oscillations/lib/python3.10/site-packages/dask/array/chunk.py:278: RuntimeWarning: invalid value encountered in cast\n",
      "  return x.astype(astype_dtype, **kwargs)\n"
     ]
    },
    {
     "name": "stdout",
     "output_type": "stream",
     "text": [
      "couldn't save A2022280.1000.002\n"
     ]
    },
    {
     "name": "stderr",
     "output_type": "stream",
     "text": [
      "Failed to load DataID(name='I01', wavelength=WavelengthRange(min=0.6, central=0.64, max=0.68, unit='µm'), resolution=371, calibration=<calibration.reflectance>, modifiers=()) from <VIIRSL1BFileHandler: 'VNP02IMG.A2022280.1006.001.2022280180434.nc'>\n",
      "Traceback (most recent call last):\n",
      "  File \"/home/jovyan/.conda/envs/sea-ice-oscillations/lib/python3.10/site-packages/satpy/readers/yaml_reader.py\", line 699, in _load_dataset\n",
      "    projectable = fh.get_dataset(dsid, ds_info)\n",
      "  File \"/home/jovyan/.conda/envs/sea-ice-oscillations/lib/python3.10/site-packages/satpy/readers/viirs_l1b.py\", line 203, in get_dataset\n",
      "    metadata = self.get_metadata(dataset_id, ds_info)\n",
      "  File \"/home/jovyan/.conda/envs/sea-ice-oscillations/lib/python3.10/site-packages/satpy/readers/viirs_l1b.py\", line 182, in get_metadata\n",
      "    i = getattr(self[var_path], 'attrs', {})\n",
      "  File \"/home/jovyan/.conda/envs/sea-ice-oscillations/lib/python3.10/site-packages/satpy/readers/netcdf_utils.py\", line 279, in __getitem__\n",
      "    val = self.file_content[key]\n",
      "KeyError: 'observation_data/I01'\n",
      "Could not load dataset 'DataID(name='I01', wavelength=WavelengthRange(min=0.6, central=0.64, max=0.68, unit='µm'), resolution=371, calibration=<calibration.reflectance>, modifiers=())': \"Could not load DataID(name='I01', wavelength=WavelengthRange(min=0.6, central=0.64, max=0.68, unit='µm'), resolution=371, calibration=<calibration.reflectance>, modifiers=()) from any provided files\"\n",
      "Traceback (most recent call last):\n",
      "  File \"/home/jovyan/.conda/envs/sea-ice-oscillations/lib/python3.10/site-packages/satpy/readers/yaml_reader.py\", line 823, in _load_dataset_with_area\n",
      "    ds = self._load_dataset_data(file_handlers, dsid, **kwargs)\n",
      "  File \"/home/jovyan/.conda/envs/sea-ice-oscillations/lib/python3.10/site-packages/satpy/readers/yaml_reader.py\", line 723, in _load_dataset_data\n",
      "    proj = self._load_dataset(dsid, ds_info, file_handlers, **kwargs)\n",
      "  File \"/home/jovyan/.conda/envs/sea-ice-oscillations/lib/python3.10/site-packages/satpy/readers/yaml_reader.py\", line 708, in _load_dataset\n",
      "    raise KeyError(\n",
      "KeyError: \"Could not load DataID(name='I01', wavelength=WavelengthRange(min=0.6, central=0.64, max=0.68, unit='µm'), resolution=371, calibration=<calibration.reflectance>, modifiers=()) from any provided files\"\n",
      "Failed to load DataID(name='I03', wavelength=WavelengthRange(min=1.58, central=1.61, max=1.64, unit='µm'), resolution=371, calibration=<calibration.reflectance>, modifiers=()) from <VIIRSL1BFileHandler: 'VNP02IMG.A2022280.1006.001.2022280180434.nc'>\n",
      "Traceback (most recent call last):\n",
      "  File \"/home/jovyan/.conda/envs/sea-ice-oscillations/lib/python3.10/site-packages/satpy/readers/yaml_reader.py\", line 699, in _load_dataset\n",
      "    projectable = fh.get_dataset(dsid, ds_info)\n",
      "  File \"/home/jovyan/.conda/envs/sea-ice-oscillations/lib/python3.10/site-packages/satpy/readers/viirs_l1b.py\", line 203, in get_dataset\n",
      "    metadata = self.get_metadata(dataset_id, ds_info)\n",
      "  File \"/home/jovyan/.conda/envs/sea-ice-oscillations/lib/python3.10/site-packages/satpy/readers/viirs_l1b.py\", line 182, in get_metadata\n",
      "    i = getattr(self[var_path], 'attrs', {})\n",
      "  File \"/home/jovyan/.conda/envs/sea-ice-oscillations/lib/python3.10/site-packages/satpy/readers/netcdf_utils.py\", line 279, in __getitem__\n",
      "    val = self.file_content[key]\n",
      "KeyError: 'observation_data/I03'\n",
      "Could not load dataset 'DataID(name='I03', wavelength=WavelengthRange(min=1.58, central=1.61, max=1.64, unit='µm'), resolution=371, calibration=<calibration.reflectance>, modifiers=())': \"Could not load DataID(name='I03', wavelength=WavelengthRange(min=1.58, central=1.61, max=1.64, unit='µm'), resolution=371, calibration=<calibration.reflectance>, modifiers=()) from any provided files\"\n",
      "Traceback (most recent call last):\n",
      "  File \"/home/jovyan/.conda/envs/sea-ice-oscillations/lib/python3.10/site-packages/satpy/readers/yaml_reader.py\", line 823, in _load_dataset_with_area\n",
      "    ds = self._load_dataset_data(file_handlers, dsid, **kwargs)\n",
      "  File \"/home/jovyan/.conda/envs/sea-ice-oscillations/lib/python3.10/site-packages/satpy/readers/yaml_reader.py\", line 723, in _load_dataset_data\n",
      "    proj = self._load_dataset(dsid, ds_info, file_handlers, **kwargs)\n",
      "  File \"/home/jovyan/.conda/envs/sea-ice-oscillations/lib/python3.10/site-packages/satpy/readers/yaml_reader.py\", line 708, in _load_dataset\n",
      "    raise KeyError(\n",
      "KeyError: \"Could not load DataID(name='I03', wavelength=WavelengthRange(min=1.58, central=1.61, max=1.64, unit='µm'), resolution=371, calibration=<calibration.reflectance>, modifiers=()) from any provided files\"\n",
      "The following datasets were not created and may require resampling to be generated: DataID(name='I01', wavelength=WavelengthRange(min=0.6, central=0.64, max=0.68, unit='µm'), resolution=371, calibration=<calibration.reflectance>, modifiers=()), DataID(name='I03', wavelength=WavelengthRange(min=1.58, central=1.61, max=1.64, unit='µm'), resolution=371, calibration=<calibration.reflectance>, modifiers=())\n",
      "Failed to load DataID(name='I01', wavelength=WavelengthRange(min=0.6, central=0.64, max=0.68, unit='µm'), resolution=371, calibration=<calibration.reflectance>, modifiers=()) from <VIIRSL1BFileHandler: 'VNP02IMG.A2022280.1006.002.2022280191323.nc'>\n",
      "Traceback (most recent call last):\n",
      "  File \"/home/jovyan/.conda/envs/sea-ice-oscillations/lib/python3.10/site-packages/satpy/readers/yaml_reader.py\", line 699, in _load_dataset\n",
      "    projectable = fh.get_dataset(dsid, ds_info)\n",
      "  File \"/home/jovyan/.conda/envs/sea-ice-oscillations/lib/python3.10/site-packages/satpy/readers/viirs_l1b.py\", line 203, in get_dataset\n",
      "    metadata = self.get_metadata(dataset_id, ds_info)\n",
      "  File \"/home/jovyan/.conda/envs/sea-ice-oscillations/lib/python3.10/site-packages/satpy/readers/viirs_l1b.py\", line 182, in get_metadata\n",
      "    i = getattr(self[var_path], 'attrs', {})\n",
      "  File \"/home/jovyan/.conda/envs/sea-ice-oscillations/lib/python3.10/site-packages/satpy/readers/netcdf_utils.py\", line 279, in __getitem__\n",
      "    val = self.file_content[key]\n",
      "KeyError: 'observation_data/I01'\n",
      "Could not load dataset 'DataID(name='I01', wavelength=WavelengthRange(min=0.6, central=0.64, max=0.68, unit='µm'), resolution=371, calibration=<calibration.reflectance>, modifiers=())': \"Could not load DataID(name='I01', wavelength=WavelengthRange(min=0.6, central=0.64, max=0.68, unit='µm'), resolution=371, calibration=<calibration.reflectance>, modifiers=()) from any provided files\"\n",
      "Traceback (most recent call last):\n",
      "  File \"/home/jovyan/.conda/envs/sea-ice-oscillations/lib/python3.10/site-packages/satpy/readers/yaml_reader.py\", line 823, in _load_dataset_with_area\n",
      "    ds = self._load_dataset_data(file_handlers, dsid, **kwargs)\n",
      "  File \"/home/jovyan/.conda/envs/sea-ice-oscillations/lib/python3.10/site-packages/satpy/readers/yaml_reader.py\", line 723, in _load_dataset_data\n",
      "    proj = self._load_dataset(dsid, ds_info, file_handlers, **kwargs)\n",
      "  File \"/home/jovyan/.conda/envs/sea-ice-oscillations/lib/python3.10/site-packages/satpy/readers/yaml_reader.py\", line 708, in _load_dataset\n",
      "    raise KeyError(\n",
      "KeyError: \"Could not load DataID(name='I01', wavelength=WavelengthRange(min=0.6, central=0.64, max=0.68, unit='µm'), resolution=371, calibration=<calibration.reflectance>, modifiers=()) from any provided files\"\n",
      "Failed to load DataID(name='I03', wavelength=WavelengthRange(min=1.58, central=1.61, max=1.64, unit='µm'), resolution=371, calibration=<calibration.reflectance>, modifiers=()) from <VIIRSL1BFileHandler: 'VNP02IMG.A2022280.1006.002.2022280191323.nc'>\n",
      "Traceback (most recent call last):\n",
      "  File \"/home/jovyan/.conda/envs/sea-ice-oscillations/lib/python3.10/site-packages/satpy/readers/yaml_reader.py\", line 699, in _load_dataset\n",
      "    projectable = fh.get_dataset(dsid, ds_info)\n",
      "  File \"/home/jovyan/.conda/envs/sea-ice-oscillations/lib/python3.10/site-packages/satpy/readers/viirs_l1b.py\", line 203, in get_dataset\n",
      "    metadata = self.get_metadata(dataset_id, ds_info)\n",
      "  File \"/home/jovyan/.conda/envs/sea-ice-oscillations/lib/python3.10/site-packages/satpy/readers/viirs_l1b.py\", line 182, in get_metadata\n",
      "    i = getattr(self[var_path], 'attrs', {})\n",
      "  File \"/home/jovyan/.conda/envs/sea-ice-oscillations/lib/python3.10/site-packages/satpy/readers/netcdf_utils.py\", line 279, in __getitem__\n",
      "    val = self.file_content[key]\n",
      "KeyError: 'observation_data/I03'\n",
      "Could not load dataset 'DataID(name='I03', wavelength=WavelengthRange(min=1.58, central=1.61, max=1.64, unit='µm'), resolution=371, calibration=<calibration.reflectance>, modifiers=())': \"Could not load DataID(name='I03', wavelength=WavelengthRange(min=1.58, central=1.61, max=1.64, unit='µm'), resolution=371, calibration=<calibration.reflectance>, modifiers=()) from any provided files\"\n",
      "Traceback (most recent call last):\n",
      "  File \"/home/jovyan/.conda/envs/sea-ice-oscillations/lib/python3.10/site-packages/satpy/readers/yaml_reader.py\", line 823, in _load_dataset_with_area\n",
      "    ds = self._load_dataset_data(file_handlers, dsid, **kwargs)\n",
      "  File \"/home/jovyan/.conda/envs/sea-ice-oscillations/lib/python3.10/site-packages/satpy/readers/yaml_reader.py\", line 723, in _load_dataset_data\n",
      "    proj = self._load_dataset(dsid, ds_info, file_handlers, **kwargs)\n",
      "  File \"/home/jovyan/.conda/envs/sea-ice-oscillations/lib/python3.10/site-packages/satpy/readers/yaml_reader.py\", line 708, in _load_dataset\n",
      "    raise KeyError(\n",
      "KeyError: \"Could not load DataID(name='I03', wavelength=WavelengthRange(min=1.58, central=1.61, max=1.64, unit='µm'), resolution=371, calibration=<calibration.reflectance>, modifiers=()) from any provided files\"\n",
      "The following datasets were not created and may require resampling to be generated: DataID(name='I01', wavelength=WavelengthRange(min=0.6, central=0.64, max=0.68, unit='µm'), resolution=371, calibration=<calibration.reflectance>, modifiers=()), DataID(name='I03', wavelength=WavelengthRange(min=1.58, central=1.61, max=1.64, unit='µm'), resolution=371, calibration=<calibration.reflectance>, modifiers=())\n",
      "/home/jovyan/.conda/envs/sea-ice-oscillations/lib/python3.10/site-packages/dask/core.py:121: RuntimeWarning: invalid value encountered in divide\n",
      "  return func(*(_execute_task(a, cache) for a in args))\n",
      "/home/jovyan/.conda/envs/sea-ice-oscillations/lib/python3.10/site-packages/dask/array/chunk.py:278: RuntimeWarning: invalid value encountered in cast\n",
      "  return x.astype(astype_dtype, **kwargs)\n"
     ]
    },
    {
     "name": "stdout",
     "output_type": "stream",
     "text": [
      "couldn't save A2022280.1142.001\n"
     ]
    },
    {
     "name": "stderr",
     "output_type": "stream",
     "text": [
      "/home/jovyan/.conda/envs/sea-ice-oscillations/lib/python3.10/site-packages/dask/core.py:121: RuntimeWarning: invalid value encountered in divide\n",
      "  return func(*(_execute_task(a, cache) for a in args))\n",
      "/home/jovyan/.conda/envs/sea-ice-oscillations/lib/python3.10/site-packages/dask/array/chunk.py:278: RuntimeWarning: invalid value encountered in cast\n",
      "  return x.astype(astype_dtype, **kwargs)\n"
     ]
    },
    {
     "name": "stdout",
     "output_type": "stream",
     "text": [
      "couldn't save A2022280.1142.002\n"
     ]
    },
    {
     "name": "stderr",
     "output_type": "stream",
     "text": [
      "/home/jovyan/.conda/envs/sea-ice-oscillations/lib/python3.10/site-packages/dask/core.py:121: RuntimeWarning: invalid value encountered in divide\n",
      "  return func(*(_execute_task(a, cache) for a in args))\n",
      "/home/jovyan/.conda/envs/sea-ice-oscillations/lib/python3.10/site-packages/dask/array/chunk.py:278: RuntimeWarning: invalid value encountered in cast\n",
      "  return x.astype(astype_dtype, **kwargs)\n"
     ]
    },
    {
     "name": "stdout",
     "output_type": "stream",
     "text": [
      "couldn't save A2022280.1324.001\n"
     ]
    },
    {
     "name": "stderr",
     "output_type": "stream",
     "text": [
      "/home/jovyan/.conda/envs/sea-ice-oscillations/lib/python3.10/site-packages/dask/core.py:121: RuntimeWarning: invalid value encountered in divide\n",
      "  return func(*(_execute_task(a, cache) for a in args))\n",
      "/home/jovyan/.conda/envs/sea-ice-oscillations/lib/python3.10/site-packages/dask/array/chunk.py:278: RuntimeWarning: invalid value encountered in cast\n",
      "  return x.astype(astype_dtype, **kwargs)\n"
     ]
    },
    {
     "name": "stdout",
     "output_type": "stream",
     "text": [
      "couldn't save A2022280.1324.002\n"
     ]
    },
    {
     "name": "stderr",
     "output_type": "stream",
     "text": [
      "/home/jovyan/.conda/envs/sea-ice-oscillations/lib/python3.10/site-packages/dask/core.py:121: RuntimeWarning: invalid value encountered in divide\n",
      "  return func(*(_execute_task(a, cache) for a in args))\n",
      "/home/jovyan/.conda/envs/sea-ice-oscillations/lib/python3.10/site-packages/dask/array/chunk.py:278: RuntimeWarning: invalid value encountered in cast\n",
      "  return x.astype(astype_dtype, **kwargs)\n"
     ]
    },
    {
     "name": "stdout",
     "output_type": "stream",
     "text": [
      "couldn't save A2022280.1506.001\n"
     ]
    },
    {
     "name": "stderr",
     "output_type": "stream",
     "text": [
      "/home/jovyan/.conda/envs/sea-ice-oscillations/lib/python3.10/site-packages/dask/core.py:121: RuntimeWarning: invalid value encountered in divide\n",
      "  return func(*(_execute_task(a, cache) for a in args))\n",
      "/home/jovyan/.conda/envs/sea-ice-oscillations/lib/python3.10/site-packages/dask/array/chunk.py:278: RuntimeWarning: invalid value encountered in cast\n",
      "  return x.astype(astype_dtype, **kwargs)\n"
     ]
    },
    {
     "name": "stdout",
     "output_type": "stream",
     "text": [
      "couldn't save A2022280.1506.002\n"
     ]
    },
    {
     "name": "stderr",
     "output_type": "stream",
     "text": [
      "/home/jovyan/.conda/envs/sea-ice-oscillations/lib/python3.10/site-packages/dask/core.py:121: RuntimeWarning: invalid value encountered in divide\n",
      "  return func(*(_execute_task(a, cache) for a in args))\n",
      "/home/jovyan/.conda/envs/sea-ice-oscillations/lib/python3.10/site-packages/dask/array/chunk.py:278: RuntimeWarning: invalid value encountered in cast\n",
      "  return x.astype(astype_dtype, **kwargs)\n"
     ]
    },
    {
     "name": "stdout",
     "output_type": "stream",
     "text": [
      "couldn't save A2022280.1642.001\n"
     ]
    },
    {
     "name": "stderr",
     "output_type": "stream",
     "text": [
      "/home/jovyan/.conda/envs/sea-ice-oscillations/lib/python3.10/site-packages/dask/core.py:121: RuntimeWarning: invalid value encountered in divide\n",
      "  return func(*(_execute_task(a, cache) for a in args))\n",
      "/home/jovyan/.conda/envs/sea-ice-oscillations/lib/python3.10/site-packages/dask/array/chunk.py:278: RuntimeWarning: invalid value encountered in cast\n",
      "  return x.astype(astype_dtype, **kwargs)\n"
     ]
    },
    {
     "name": "stdout",
     "output_type": "stream",
     "text": [
      "couldn't save A2022280.1642.002\n"
     ]
    },
    {
     "name": "stderr",
     "output_type": "stream",
     "text": [
      "/home/jovyan/.conda/envs/sea-ice-oscillations/lib/python3.10/site-packages/dask/core.py:121: RuntimeWarning: invalid value encountered in divide\n",
      "  return func(*(_execute_task(a, cache) for a in args))\n",
      "/home/jovyan/.conda/envs/sea-ice-oscillations/lib/python3.10/site-packages/dask/array/chunk.py:278: RuntimeWarning: invalid value encountered in cast\n",
      "  return x.astype(astype_dtype, **kwargs)\n"
     ]
    },
    {
     "name": "stdout",
     "output_type": "stream",
     "text": [
      "couldn't save A2022280.1648.001\n"
     ]
    },
    {
     "name": "stderr",
     "output_type": "stream",
     "text": [
      "/home/jovyan/.conda/envs/sea-ice-oscillations/lib/python3.10/site-packages/dask/core.py:121: RuntimeWarning: invalid value encountered in divide\n",
      "  return func(*(_execute_task(a, cache) for a in args))\n",
      "/home/jovyan/.conda/envs/sea-ice-oscillations/lib/python3.10/site-packages/dask/array/chunk.py:278: RuntimeWarning: invalid value encountered in cast\n",
      "  return x.astype(astype_dtype, **kwargs)\n"
     ]
    },
    {
     "name": "stdout",
     "output_type": "stream",
     "text": [
      "couldn't save A2022280.1648.002\n"
     ]
    },
    {
     "name": "stderr",
     "output_type": "stream",
     "text": [
      "/home/jovyan/.conda/envs/sea-ice-oscillations/lib/python3.10/site-packages/dask/core.py:121: RuntimeWarning: invalid value encountered in divide\n",
      "  return func(*(_execute_task(a, cache) for a in args))\n",
      "/home/jovyan/.conda/envs/sea-ice-oscillations/lib/python3.10/site-packages/dask/array/chunk.py:278: RuntimeWarning: invalid value encountered in cast\n",
      "  return x.astype(astype_dtype, **kwargs)\n"
     ]
    },
    {
     "name": "stdout",
     "output_type": "stream",
     "text": [
      "couldn't save A2022280.1824.001\n"
     ]
    },
    {
     "name": "stderr",
     "output_type": "stream",
     "text": [
      "/home/jovyan/.conda/envs/sea-ice-oscillations/lib/python3.10/site-packages/dask/core.py:121: RuntimeWarning: invalid value encountered in divide\n",
      "  return func(*(_execute_task(a, cache) for a in args))\n",
      "/home/jovyan/.conda/envs/sea-ice-oscillations/lib/python3.10/site-packages/dask/array/chunk.py:278: RuntimeWarning: invalid value encountered in cast\n",
      "  return x.astype(astype_dtype, **kwargs)\n"
     ]
    },
    {
     "name": "stdout",
     "output_type": "stream",
     "text": [
      "couldn't save A2022280.1824.002\n"
     ]
    },
    {
     "name": "stderr",
     "output_type": "stream",
     "text": [
      "/home/jovyan/.conda/envs/sea-ice-oscillations/lib/python3.10/site-packages/dask/core.py:121: RuntimeWarning: invalid value encountered in divide\n",
      "  return func(*(_execute_task(a, cache) for a in args))\n",
      "/home/jovyan/.conda/envs/sea-ice-oscillations/lib/python3.10/site-packages/dask/array/chunk.py:278: RuntimeWarning: invalid value encountered in cast\n",
      "  return x.astype(astype_dtype, **kwargs)\n"
     ]
    },
    {
     "name": "stdout",
     "output_type": "stream",
     "text": [
      "couldn't save A2022280.2006.001\n"
     ]
    },
    {
     "name": "stderr",
     "output_type": "stream",
     "text": [
      "/home/jovyan/.conda/envs/sea-ice-oscillations/lib/python3.10/site-packages/dask/core.py:121: RuntimeWarning: invalid value encountered in divide\n",
      "  return func(*(_execute_task(a, cache) for a in args))\n",
      "/home/jovyan/.conda/envs/sea-ice-oscillations/lib/python3.10/site-packages/dask/array/chunk.py:278: RuntimeWarning: invalid value encountered in cast\n",
      "  return x.astype(astype_dtype, **kwargs)\n"
     ]
    },
    {
     "name": "stdout",
     "output_type": "stream",
     "text": [
      "couldn't save A2022280.2006.002\n"
     ]
    },
    {
     "name": "stderr",
     "output_type": "stream",
     "text": [
      "/home/jovyan/.conda/envs/sea-ice-oscillations/lib/python3.10/site-packages/dask/array/chunk.py:278: RuntimeWarning: invalid value encountered in cast\n",
      "  return x.astype(astype_dtype, **kwargs)\n"
     ]
    },
    {
     "name": "stdout",
     "output_type": "stream",
     "text": [
      "couldn't save A2022280.2142.001\n"
     ]
    },
    {
     "name": "stderr",
     "output_type": "stream",
     "text": [
      "/home/jovyan/.conda/envs/sea-ice-oscillations/lib/python3.10/site-packages/dask/array/chunk.py:278: RuntimeWarning: invalid value encountered in cast\n",
      "  return x.astype(astype_dtype, **kwargs)\n"
     ]
    },
    {
     "name": "stdout",
     "output_type": "stream",
     "text": [
      "couldn't save A2022280.2142.002\n"
     ]
    },
    {
     "name": "stderr",
     "output_type": "stream",
     "text": [
      "/home/jovyan/.conda/envs/sea-ice-oscillations/lib/python3.10/site-packages/dask/core.py:121: RuntimeWarning: invalid value encountered in divide\n",
      "  return func(*(_execute_task(a, cache) for a in args))\n",
      "/home/jovyan/.conda/envs/sea-ice-oscillations/lib/python3.10/site-packages/dask/array/chunk.py:278: RuntimeWarning: invalid value encountered in cast\n",
      "  return x.astype(astype_dtype, **kwargs)\n"
     ]
    },
    {
     "name": "stdout",
     "output_type": "stream",
     "text": [
      "couldn't save A2022280.2148.001\n"
     ]
    },
    {
     "name": "stderr",
     "output_type": "stream",
     "text": [
      "/home/jovyan/.conda/envs/sea-ice-oscillations/lib/python3.10/site-packages/dask/core.py:121: RuntimeWarning: invalid value encountered in divide\n",
      "  return func(*(_execute_task(a, cache) for a in args))\n",
      "/home/jovyan/.conda/envs/sea-ice-oscillations/lib/python3.10/site-packages/dask/array/chunk.py:278: RuntimeWarning: invalid value encountered in cast\n",
      "  return x.astype(astype_dtype, **kwargs)\n"
     ]
    },
    {
     "name": "stdout",
     "output_type": "stream",
     "text": [
      "couldn't save A2022280.2148.002\n"
     ]
    },
    {
     "name": "stderr",
     "output_type": "stream",
     "text": [
      "/home/jovyan/.conda/envs/sea-ice-oscillations/lib/python3.10/site-packages/dask/array/chunk.py:278: RuntimeWarning: invalid value encountered in cast\n",
      "  return x.astype(astype_dtype, **kwargs)\n"
     ]
    },
    {
     "name": "stdout",
     "output_type": "stream",
     "text": [
      "couldn't save A2022280.2324.001\n"
     ]
    },
    {
     "name": "stderr",
     "output_type": "stream",
     "text": [
      "/home/jovyan/.conda/envs/sea-ice-oscillations/lib/python3.10/site-packages/dask/array/chunk.py:278: RuntimeWarning: invalid value encountered in cast\n",
      "  return x.astype(astype_dtype, **kwargs)\n"
     ]
    },
    {
     "name": "stdout",
     "output_type": "stream",
     "text": [
      "couldn't save A2022280.2324.002\n"
     ]
    },
    {
     "name": "stderr",
     "output_type": "stream",
     "text": [
      "/home/jovyan/.conda/envs/sea-ice-oscillations/lib/python3.10/site-packages/dask/core.py:121: RuntimeWarning: invalid value encountered in divide\n",
      "  return func(*(_execute_task(a, cache) for a in args))\n",
      "/home/jovyan/.conda/envs/sea-ice-oscillations/lib/python3.10/site-packages/dask/array/chunk.py:278: RuntimeWarning: invalid value encountered in cast\n",
      "  return x.astype(astype_dtype, **kwargs)\n"
     ]
    },
    {
     "name": "stdout",
     "output_type": "stream",
     "text": [
      "couldn't save A2022280.2330.001\n"
     ]
    },
    {
     "name": "stderr",
     "output_type": "stream",
     "text": [
      "/home/jovyan/.conda/envs/sea-ice-oscillations/lib/python3.10/site-packages/dask/core.py:121: RuntimeWarning: invalid value encountered in divide\n",
      "  return func(*(_execute_task(a, cache) for a in args))\n",
      "/home/jovyan/.conda/envs/sea-ice-oscillations/lib/python3.10/site-packages/dask/array/chunk.py:278: RuntimeWarning: invalid value encountered in cast\n",
      "  return x.astype(astype_dtype, **kwargs)\n"
     ]
    },
    {
     "name": "stdout",
     "output_type": "stream",
     "text": [
      "couldn't save A2022280.2330.002\n"
     ]
    }
   ],
   "source": [
    "for f in fileglob:\n",
    "    scn = Scene(filenames=glob('*VNP*' + f + '*nc'), reader='viirs_l1b')\n",
    "    # scn.load(['true_color_lowres'])\n",
    "    try:\n",
    "        scn.load(['I01','I03'])\n",
    "        scn['seaice'] = (scn['I01']-scn['I03'])/(scn['I01']+scn['I03'])\n",
    "    except:\n",
    "        continue\n",
    "\n",
    "\n",
    "    try:\n",
    "        local_scene=scn.resample(my_area)\n",
    "        local_scene.save_dataset('seaice', filename=f + '.png')\n",
    "        print('seaice', filename=f + '.png' + ' saved')\n",
    "    except:\n",
    "        print(f\"couldn't save {f}\")\n",
    "\n"
   ]
  },
  {
   "cell_type": "code",
   "execution_count": 6,
   "id": "d97809b9-1a45-4aef-b890-d5a091ca02f1",
   "metadata": {
    "tags": []
   },
   "outputs": [
    {
     "data": {
      "text/plain": [
       "<satpy.scene.Scene at 0x7f115b8eec20>"
      ]
     },
     "execution_count": 6,
     "metadata": {},
     "output_type": "execute_result"
    }
   ],
   "source": [
    "from PIL import Image\n",
    "\n",
    "def png2jpg(fileprefix):\n",
    "    ''' converts a file from a png to a jpg. \n",
    "    Expects a parameter fileprefix, which is the filename without an extension'''\n",
    "    im1 = Image.open(fileprefix + '.png')\n",
    "    rgb_im = im1.convert('RGB')\n",
    "    rgb_im.save(fileprefix + '.jpg')\n",
    "\n",
    "for f in fileglob:\n",
    "    png2jpg(f)"
   ]
  },
  {
   "cell_type": "code",
   "execution_count": 7,
   "id": "60018d0c-1d0b-4017-be09-60fd867222a8",
   "metadata": {
    "tags": []
   },
   "outputs": [],
   "source": [
    "# import numpy as np\n",
    "# def estimate_nan_in_area(local_scene):\n",
    "#     #WARNING: this function makes jupyter stop for no clear reason\n",
    "#     subsample = local_scene.to_xarray()\n",
    "#     subsample = subsample.isel(x=slice(None,None,10), y=slice(None,None,10))\n",
    "#     nanmatrix = np.isnan(subsample['true_color_lowres'][0].values)\n",
    "#     return  nanmatrix.sum()/nanmatrix.size\n",
    "\n",
    "# estimate_nan_in_area(local_scene)"
   ]
  },
  {
   "cell_type": "code",
   "execution_count": null,
   "id": "bea12f89-2ca5-42fe-a86a-130f4f266196",
   "metadata": {
    "tags": []
   },
   "outputs": [],
   "source": []
  },
  {
   "cell_type": "code",
   "execution_count": null,
   "id": "c573b2f7-f5f3-485d-86be-5e5d7efb49c2",
   "metadata": {
    "tags": []
   },
   "outputs": [],
   "source": []
  },
  {
   "cell_type": "code",
   "execution_count": 8,
   "id": "35edce84-7a2e-494b-804c-36bffbef7647",
   "metadata": {
    "tags": []
   },
   "outputs": [],
   "source": [
    "# import cartopy.crs as ccrs\n",
    "# import matplotlib.pyplot as plt\n",
    "\n",
    "# fig, ax = plt.subplots(nrows=1,ncols=1,figsize=[10,10], subplot_kw={'projection':ccrs.NorthPolarStereo(central_longitude=179.9)})\n",
    "# ax.scatter(ds1.longitude,ds1.latitude, c=ds1.true_color_lowres[0], transform=ccrs.PlateCarree(),s=1)\n",
    "# # ax.pcolor(ds1.longitude,ds1.latitude, ds1.true_color_lowres[0], transform=ccrs.PlateCarree())\n",
    "\n",
    "# ax.coastlines()\n",
    "# ax.set_extent([-160,-130,73,77], crs=ccrs.PlateCarree())\n",
    "                        "
   ]
  },
  {
   "cell_type": "code",
   "execution_count": null,
   "id": "e5ac385b-47dd-4a90-b4a0-fb6cdbc938c1",
   "metadata": {
    "tags": []
   },
   "outputs": [],
   "source": []
  }
 ],
 "metadata": {
  "kernelspec": {
   "display_name": "Python [conda env:.conda-sea-ice-oscillations]",
   "language": "python",
   "name": "conda-env-.conda-sea-ice-oscillations-py"
  },
  "language_info": {
   "codemirror_mode": {
    "name": "ipython",
    "version": 3
   },
   "file_extension": ".py",
   "mimetype": "text/x-python",
   "name": "python",
   "nbconvert_exporter": "python",
   "pygments_lexer": "ipython3",
   "version": "3.10.12"
  }
 },
 "nbformat": 4,
 "nbformat_minor": 5
}
