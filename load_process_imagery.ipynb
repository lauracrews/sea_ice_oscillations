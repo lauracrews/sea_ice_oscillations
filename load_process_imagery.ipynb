{
 "cells": [
  {
   "cell_type": "code",
   "execution_count": 202,
   "id": "97f70bdd-945f-4fb6-83ea-7acc89c475e9",
   "metadata": {
    "tags": []
   },
   "outputs": [],
   "source": [
    "from glob import glob\n",
    "import urllib\n",
    "import earthaccess\n",
    "from datatree import open_datatree\n",
    "from PIL import Image\n",
    "import xarray as xr\n",
    "from satpy.scene import Scene\n",
    "import os\n",
    "import re\n",
    "from pyresample import create_area_def\n",
    "import numpy as np\n",
    "import matplotlib.pyplot as plt\n",
    "from datetime import datetime, timedelta\n"
   ]
  },
  {
   "cell_type": "code",
   "execution_count": 203,
   "id": "4341009c-6984-4ef7-9b80-ef43e78d0a27",
   "metadata": {
    "tags": []
   },
   "outputs": [],
   "source": [
    "def download_files(level, bounding_box, temporal_limits):\n",
    "    '''Download data from EarthData (NOT cloud access)'''\n",
    "    \n",
    "    earthaccess.login()\n",
    "    #password is OHW2023ohw2023!\n",
    "    \n",
    "    if level == 'L1b':\n",
    "        short_names = [\"VNP02MOD\", \"VNP02IMG\", \"VNP02DNB\", \"VNP03MOD\", \"VNP03IMG\", \"VNP03DNB\"]#,\n",
    "                      #\"VJ02MOD\", \"VJ02IMG\", \"VJ02DNB\", \"VJ03MOD\", \"VJ03IMG\", \"VJ03DNB\"]\n",
    "    elif level == 'L2':\n",
    "        short_names = [\"VNP29\"]\n",
    "    \n",
    "    for short_name in short_names:\n",
    "        results = earthaccess.search_data(\n",
    "        short_name=short_name, \n",
    "        cloud_hosted=True, \n",
    "        bounding_box=bounding_box,\n",
    "        temporal=temporal_limits\n",
    "        )\n",
    "        \n",
    "        earthaccess.download(results, './data/' + level + '/') #Separate directories for each product\n",
    "        #earthaccess.download(results, './data/' + level + '/' + short_names + '/') #Separate directories for each product"
   ]
  },
  {
   "cell_type": "code",
   "execution_count": 204,
   "id": "78fcb850-a5d6-4811-9f72-e02a8616a5b5",
   "metadata": {
    "tags": []
   },
   "outputs": [],
   "source": [
    "def setup_projection(bounding_box):\n",
    "    '''Set up a custom area and projection for the images'''\n",
    "    \n",
    "    # Bounding box coordinates\n",
    "    area_id = 'skq2022'\n",
    "    description = 'Beaufort Sea 2022 Stereographic Projection'\n",
    "\n",
    "    area_extent = (bounding_box[0], bounding_box[1], bounding_box[2], bounding_box[3])\n",
    "\n",
    "    width = 1100  # Specify the desired width in pixels\n",
    "    height = 550  # Specify the desired height in pixels\n",
    "\n",
    "    projection = {\n",
    "        'proj': 'stere',\n",
    "        'lat_0': 90.0,       # Latitude of the projection's center\n",
    "        'lon_0': -145.0,     # Longitude of the projection's center\n",
    "        'lat_ts': 60.0,      # Latitude where true scale is used\n",
    "        'a': 6378273,        # Semi-major axis of the ellipsoid (WGS84)\n",
    "        'b': 6356889.449,    # Semi-minor axis of the ellipsoid (WGS84)\n",
    "    }\n",
    "\n",
    "    #create_area_def?\n",
    "    my_area = create_area_def(area_id, description = description, projection = projection,\n",
    "                              width=width, height=height,\n",
    "                              area_extent=area_extent, units='degrees')\n",
    "\n",
    "    print(my_area)\n",
    "\n",
    "    lons, lats = my_area.get_lonlats()\n",
    "\n",
    "    print(\"Longitude Range:\", lons.min(), lons.max()) \n",
    "    print(\"Latitude Range:\", lats.min(), lats.max())\n",
    "\n",
    "    print(\"Pixel size: x = \", my_area.pixel_size_x, \"m, y = \", my_area.pixel_size_y, \"m\") #horizontal resolution in meters\n",
    "    \n",
    "    return(my_area)\n"
   ]
  },
  {
   "cell_type": "code",
   "execution_count": 205,
   "id": "e8250268-1cf2-4e57-8e71-fb172cd3557d",
   "metadata": {
    "tags": []
   },
   "outputs": [],
   "source": [
    "def get_day_night(filenames):\n",
    "    all_flags = [None] * len(filenames)\n",
    "    for i, file in enumerate(filenames):\n",
    "        dt = open_datatree(file)\n",
    "        all_flags[i] = dt.attrs['DayNightFlag']\n",
    "        \n",
    "    # Check if all strings are the same\n",
    "    all_same = all(flag == all_flags[0] for flag in all_flags)\n",
    "    if all_same:\n",
    "        return(all_flags[0])\n",
    "    \n",
    "    else:\n",
    "        #print('Unclear when image is taken. Files are:', all_flags)\n",
    "        \n",
    "        if 'Day' in all_flags and 'Night' not in all_flags: #Some combo of 'Day' and 'Both'\n",
    "            return('Day')\n",
    "        elif 'Night' in all_flags and 'Day' not in all_flags: #Some combo of 'Night' and 'Both'\n",
    "            return('Night')\n",
    "        elif 'Day' in all_flags and 'Night' in all_flags: #Some combo of 'Day' and 'Night' - will make both images\n",
    "            return('Both')\n",
    "        else:\n",
    "            return(None)  # No valid combination found\n"
   ]
  },
  {
   "cell_type": "code",
   "execution_count": 206,
   "id": "366e4ebb-9db3-4bbf-ab04-18ac2dfa178d",
   "metadata": {},
   "outputs": [],
   "source": [
    "def get_file_times(filenames):\n",
    "    '''Generate a list of unique, sorted day and time strings for all files.'''\n",
    "    \n",
    "    pattern = r'\\.A(\\d{7}).*(\\d{4})\\.001\\.'  # Capture both day and time components of the filename\n",
    "    time_strings = [None] * len(filenames)  # Preallocate with None\n",
    "    for i, filename in enumerate(filenames):\n",
    "        match = re.search(pattern, filename)\n",
    "        if match: \n",
    "            day = match.group(1)\n",
    "            hour = match.group(2)\n",
    "            time_strings[i] = day + '.' + hour\n",
    "    \n",
    "    unique_sorted_time_strings = sorted(set(time_strings))\n",
    "    return(unique_sorted_time_strings) "
   ]
  },
  {
   "cell_type": "code",
   "execution_count": 234,
   "id": "3daeee2c-d741-4fbf-afa8-5113ff0b2b04",
   "metadata": {},
   "outputs": [],
   "source": [
    "def get_filenames_at_current_time(i, filetimes):\n",
    "    '''Generate a list of all filenames at the current timestep. If two sets of files\n",
    "        are taken six minutes apart, assume they are part of the same swath and group them together.'''\n",
    "    \n",
    "    filetime = filetimes[i]\n",
    "    filenames = glob(data_path+'L1b/VNP*'+filetime+'.001*nc') #Files at this timestep\n",
    "\n",
    "    #Check if the next batch of files is within six minutes and should be combined\n",
    "    if i < len(filetimes)-1:\n",
    "        nextfiletime = filetimes[i+1]\n",
    "        \n",
    "        # Convert timestamp strings to datetime objects\n",
    "        filetime_dt = datetime.strptime(filetime, \"%Y%j.%H%M\")\n",
    "        nextfiletime_dt = datetime.strptime(nextfiletime, \"%Y%j.%H%M\")\n",
    "\n",
    "        # Calculate time difference\n",
    "        time_difference = nextfiletime_dt - filetime_dt\n",
    "        combine_files = time_difference <= timedelta(minutes=6)\n",
    "        \n",
    "        if combine_files: \n",
    "            print(\"Combining files at \" + filetime[-4:] + ' and ' + nextfiletime[-4:])\n",
    "            nextfilenames = glob(data_path+'L1b/VNP*'+nextfiletime+'.001*nc')  \n",
    "            filenames.extend(nextfilenames)\n",
    "    \n",
    "    #Check if this batch of files was already combined with the previous batch of files\n",
    "    if i > 0:\n",
    "        prevfiletime = filetimes[i-1]\n",
    "        prevfiletime_dt = datetime.strptime(prevfiletime, \"%Y%j.%H%M\")\n",
    "\n",
    "        # Calculate time difference\n",
    "        time_difference = filetime_dt - prevfiletime_dt\n",
    "        already_combined = time_difference <= timedelta(minutes=6)\n",
    "        if already_combined:\n",
    "            print(\"Files at \" + filetime[-4:] + ' were aleady combined with ' + prevfiletime[-4:]+ '. Will not reprocess the files')\n",
    "            filenames = None\n",
    "    \n",
    "    #print(filenames)\n",
    "    return filenames"
   ]
  },
  {
   "cell_type": "code",
   "execution_count": 208,
   "id": "056fdef5-edfb-44b6-af38-acb83222724b",
   "metadata": {
    "tags": []
   },
   "outputs": [],
   "source": [
    "def choose_composite(filenames):\n",
    "    '''Decide which composite to generate for this batch of files''' \n",
    "    day_night_flag = get_day_night(filenames)\n",
    "    print('Image is ', day_night_flag)\n",
    "\n",
    "    if day_night_flag == 'Day':\n",
    "        composite = 'true_color'\n",
    "    elif day_night_flag == 'Night' or day_night_flag == 'Both':\n",
    "        composite = 'adaptive_dnb'\n",
    "    elif day_night_flag == 'Both':\n",
    "        print('Not making image because day_night_flag is Both')\n",
    "        composite = None\n",
    "        #Need to decide what to do...maybe make both composites?\n",
    "    return composite\n",
    "   "
   ]
  },
  {
   "cell_type": "code",
   "execution_count": 254,
   "id": "08140fa1-87a9-4bf2-a328-b7735fb99965",
   "metadata": {},
   "outputs": [],
   "source": [
    "#Set up time and geographic range, download files\n",
    "\n",
    "bounding_box=(-160.0, 73.0, -130.0, 77.0)\n",
    "temporal_limits=(\"2022-10-07\", \"2022-10-10\")\n",
    "#download_files(level='L1b', bounding_box=bounding_box, temporal_limits=temporal_limits)\n",
    "#download_files(level='L2', bounding_box=bounding_box, temporal_limits=temporal_limits)\n"
   ]
  },
  {
   "cell_type": "code",
   "execution_count": 217,
   "id": "eac22dea-84ca-46e0-9beb-7bd63478c533",
   "metadata": {
    "tags": []
   },
   "outputs": [
    {
     "name": "stdout",
     "output_type": "stream",
     "text": [
      "['2022280.0124', '2022280.0130', '2022280.0818', '2022280.1000', '2022280.1006', '2022280.1142', '2022280.1324', '2022280.1506', '2022280.1642', '2022280.1648', '2022280.1824', '2022280.2006', '2022280.2142', '2022280.2148', '2022280.2324', '2022280.2330', '2022281.0106', '2022281.0942', '2022281.1124', '2022281.1306', '2022281.1448', '2022281.1624', '2022281.1630', '2022281.1806', '2022281.1942', '2022281.1948', '2022281.2124', '2022281.2130', '2022281.2306', '2022282.0048', '2022282.0924', '2022282.1106', '2022282.1248', '2022282.1424', '2022282.1430', '2022282.1606', '2022282.1748', '2022282.1924', '2022282.1930', '2022282.2106', '2022282.2248']\n"
     ]
    }
   ],
   "source": [
    "#Create a list of times at which images were taken. These are directly from the file names\n",
    "#The format is YYYYDDD.HHMM\n",
    "\n",
    "data_path = '/Users/lcrews/Documents/Python/sea_ice_oscillations/data/'\n",
    "all_filenames = glob(data_path+'L1b/VNP*.001*nc')\n",
    "filetimes = get_file_times(all_filenames)\n",
    "print(filetimes)"
   ]
  },
  {
   "cell_type": "code",
   "execution_count": 235,
   "id": "87c63632-f4fb-4af8-ba51-1e79fb4d238b",
   "metadata": {
    "tags": []
   },
   "outputs": [
    {
     "name": "stdout",
     "output_type": "stream",
     "text": [
      "Area ID: skq2022\n",
      "Description: Beaufort Sea 2022 Stereographic Projection\n",
      "Projection: {'a': '6378273', 'lat_0': '90', 'lat_ts': '60', 'lon_0': '-145', 'no_defs': 'None', 'proj': 'stere', 'rf': '298.279411123064', 'type': 'crs', 'units': 'm', 'x_0': '0', 'y_0': '0'}\n",
      "Number of columns: 1100\n",
      "Number of rows: 550\n",
      "Area extent: (-461819.8016, -1723534.9635, 352116.2306, -1314115.6629)\n",
      "Longitude Range: -164.34357984307965 -130.01910355902044\n",
      "Latitude Range: 73.0042764882928 77.43597501958925\n",
      "Pixel size: x =  739.9418474860364 m, y =  744.3987284632565 m\n",
      "\n",
      "Combining files at 0124 and 0130\n",
      "Generating M09 at 2022280.0124\n"
     ]
    },
    {
     "name": "stderr",
     "output_type": "stream",
     "text": [
      "/Users/lcrews/miniconda3/envs/sea-ice-oscillations/lib/python3.11/site-packages/dask/array/chunk.py:278: RuntimeWarning: invalid value encountered in cast\n",
      "  return x.astype(astype_dtype, **kwargs)\n"
     ]
    },
    {
     "name": "stdout",
     "output_type": "stream",
     "text": [
      "\n",
      "Files at 0130 were aleady combined with 0124. Will not reprocess the files\n",
      "\n",
      "\n",
      "Combining files at 1000 and 1006\n"
     ]
    },
    {
     "name": "stderr",
     "output_type": "stream",
     "text": [
      "Failed to load DataID(name='M03', wavelength=WavelengthRange(min=0.478, central=0.488, max=0.498, unit='µm'), resolution=742, calibration=<1>, modifiers=()) from <VIIRSL1BFileHandler: '/Users/lcrews/Documents/Python/sea_ice_oscillations/data/L1b/VNP02MOD.A2022280.1006.001.2022280180434.nc'>\n",
      "Traceback (most recent call last):\n",
      "  File \"/Users/lcrews/miniconda3/envs/sea-ice-oscillations/lib/python3.11/site-packages/satpy/readers/yaml_reader.py\", line 699, in _load_dataset\n",
      "    projectable = fh.get_dataset(dsid, ds_info)\n",
      "                  ^^^^^^^^^^^^^^^^^^^^^^^^^^^^^\n",
      "  File \"/Users/lcrews/miniconda3/envs/sea-ice-oscillations/lib/python3.11/site-packages/satpy/readers/viirs_l1b.py\", line 203, in get_dataset\n",
      "    metadata = self.get_metadata(dataset_id, ds_info)\n",
      "               ^^^^^^^^^^^^^^^^^^^^^^^^^^^^^^^^^^^^^^\n",
      "  File \"/Users/lcrews/miniconda3/envs/sea-ice-oscillations/lib/python3.11/site-packages/satpy/readers/viirs_l1b.py\", line 182, in get_metadata\n",
      "    i = getattr(self[var_path], 'attrs', {})\n",
      "                ~~~~^^^^^^^^^^\n",
      "  File \"/Users/lcrews/miniconda3/envs/sea-ice-oscillations/lib/python3.11/site-packages/satpy/readers/netcdf_utils.py\", line 279, in __getitem__\n",
      "    val = self.file_content[key]\n",
      "          ~~~~~~~~~~~~~~~~~^^^^^\n",
      "KeyError: 'observation_data/M03'\n",
      "Failed to load DataID(name='M05', wavelength=WavelengthRange(min=0.662, central=0.672, max=0.682, unit='µm'), resolution=742, calibration=<1>, modifiers=()) from <VIIRSL1BFileHandler: '/Users/lcrews/Documents/Python/sea_ice_oscillations/data/L1b/VNP02MOD.A2022280.1006.001.2022280180434.nc'>\n",
      "Traceback (most recent call last):\n",
      "  File \"/Users/lcrews/miniconda3/envs/sea-ice-oscillations/lib/python3.11/site-packages/satpy/readers/yaml_reader.py\", line 699, in _load_dataset\n",
      "    projectable = fh.get_dataset(dsid, ds_info)\n",
      "                  ^^^^^^^^^^^^^^^^^^^^^^^^^^^^^\n",
      "  File \"/Users/lcrews/miniconda3/envs/sea-ice-oscillations/lib/python3.11/site-packages/satpy/readers/viirs_l1b.py\", line 203, in get_dataset\n",
      "    metadata = self.get_metadata(dataset_id, ds_info)\n",
      "               ^^^^^^^^^^^^^^^^^^^^^^^^^^^^^^^^^^^^^^\n",
      "  File \"/Users/lcrews/miniconda3/envs/sea-ice-oscillations/lib/python3.11/site-packages/satpy/readers/viirs_l1b.py\", line 182, in get_metadata\n",
      "    i = getattr(self[var_path], 'attrs', {})\n",
      "                ~~~~^^^^^^^^^^\n",
      "  File \"/Users/lcrews/miniconda3/envs/sea-ice-oscillations/lib/python3.11/site-packages/satpy/readers/netcdf_utils.py\", line 279, in __getitem__\n",
      "    val = self.file_content[key]\n",
      "          ~~~~~~~~~~~~~~~~~^^^^^\n",
      "KeyError: 'observation_data/M05'\n",
      "Failed to load DataID(name='M04', wavelength=WavelengthRange(min=0.545, central=0.555, max=0.565, unit='µm'), resolution=742, calibration=<1>, modifiers=()) from <VIIRSL1BFileHandler: '/Users/lcrews/Documents/Python/sea_ice_oscillations/data/L1b/VNP02MOD.A2022280.1006.001.2022280180434.nc'>\n",
      "Traceback (most recent call last):\n",
      "  File \"/Users/lcrews/miniconda3/envs/sea-ice-oscillations/lib/python3.11/site-packages/satpy/readers/yaml_reader.py\", line 699, in _load_dataset\n",
      "    projectable = fh.get_dataset(dsid, ds_info)\n",
      "                  ^^^^^^^^^^^^^^^^^^^^^^^^^^^^^\n",
      "  File \"/Users/lcrews/miniconda3/envs/sea-ice-oscillations/lib/python3.11/site-packages/satpy/readers/viirs_l1b.py\", line 203, in get_dataset\n",
      "    metadata = self.get_metadata(dataset_id, ds_info)\n",
      "               ^^^^^^^^^^^^^^^^^^^^^^^^^^^^^^^^^^^^^^\n",
      "  File \"/Users/lcrews/miniconda3/envs/sea-ice-oscillations/lib/python3.11/site-packages/satpy/readers/viirs_l1b.py\", line 182, in get_metadata\n",
      "    i = getattr(self[var_path], 'attrs', {})\n",
      "                ~~~~^^^^^^^^^^\n",
      "  File \"/Users/lcrews/miniconda3/envs/sea-ice-oscillations/lib/python3.11/site-packages/satpy/readers/netcdf_utils.py\", line 279, in __getitem__\n",
      "    val = self.file_content[key]\n",
      "          ~~~~~~~~~~~~~~~~~^^^^^\n",
      "KeyError: 'observation_data/M04'\n",
      "Failed to load DataID(name='I01', wavelength=WavelengthRange(min=0.6, central=0.64, max=0.68, unit='µm'), resolution=371, calibration=<1>, modifiers=()) from <VIIRSL1BFileHandler: '/Users/lcrews/Documents/Python/sea_ice_oscillations/data/L1b/VNP02IMG.A2022280.1006.001.2022280180434.nc'>\n",
      "Traceback (most recent call last):\n",
      "  File \"/Users/lcrews/miniconda3/envs/sea-ice-oscillations/lib/python3.11/site-packages/satpy/readers/yaml_reader.py\", line 699, in _load_dataset\n",
      "    projectable = fh.get_dataset(dsid, ds_info)\n",
      "                  ^^^^^^^^^^^^^^^^^^^^^^^^^^^^^\n",
      "  File \"/Users/lcrews/miniconda3/envs/sea-ice-oscillations/lib/python3.11/site-packages/satpy/readers/viirs_l1b.py\", line 203, in get_dataset\n",
      "    metadata = self.get_metadata(dataset_id, ds_info)\n",
      "               ^^^^^^^^^^^^^^^^^^^^^^^^^^^^^^^^^^^^^^\n",
      "  File \"/Users/lcrews/miniconda3/envs/sea-ice-oscillations/lib/python3.11/site-packages/satpy/readers/viirs_l1b.py\", line 182, in get_metadata\n",
      "    i = getattr(self[var_path], 'attrs', {})\n",
      "                ~~~~^^^^^^^^^^\n",
      "  File \"/Users/lcrews/miniconda3/envs/sea-ice-oscillations/lib/python3.11/site-packages/satpy/readers/netcdf_utils.py\", line 279, in __getitem__\n",
      "    val = self.file_content[key]\n",
      "          ~~~~~~~~~~~~~~~~~^^^^^\n",
      "KeyError: 'observation_data/I01'\n"
     ]
    },
    {
     "name": "stdout",
     "output_type": "stream",
     "text": [
      "An error occurred while processing 'true_color': Chunks do not add up to shape. Got chunks=((4096, 2368), (4096, 2304)), shape=(12960, 6400)\n",
      "An error occurred while processing 'adaptive_dnb': Chunks do not add up to shape. Got chunks=((4096, 2368), (4096, 2304)), shape=(12960, 6400)\n"
     ]
    },
    {
     "name": "stderr",
     "output_type": "stream",
     "text": [
      "Failed to load DataID(name='I02', wavelength=WavelengthRange(min=0.845, central=0.865, max=0.884, unit='µm'), resolution=371, calibration=<1>, modifiers=()) from <VIIRSL1BFileHandler: '/Users/lcrews/Documents/Python/sea_ice_oscillations/data/L1b/VNP02IMG.A2022280.1006.001.2022280180434.nc'>\n",
      "Traceback (most recent call last):\n",
      "  File \"/Users/lcrews/miniconda3/envs/sea-ice-oscillations/lib/python3.11/site-packages/satpy/readers/yaml_reader.py\", line 699, in _load_dataset\n",
      "    projectable = fh.get_dataset(dsid, ds_info)\n",
      "                  ^^^^^^^^^^^^^^^^^^^^^^^^^^^^^\n",
      "  File \"/Users/lcrews/miniconda3/envs/sea-ice-oscillations/lib/python3.11/site-packages/satpy/readers/viirs_l1b.py\", line 203, in get_dataset\n",
      "    metadata = self.get_metadata(dataset_id, ds_info)\n",
      "               ^^^^^^^^^^^^^^^^^^^^^^^^^^^^^^^^^^^^^^\n",
      "  File \"/Users/lcrews/miniconda3/envs/sea-ice-oscillations/lib/python3.11/site-packages/satpy/readers/viirs_l1b.py\", line 182, in get_metadata\n",
      "    i = getattr(self[var_path], 'attrs', {})\n",
      "                ~~~~^^^^^^^^^^\n",
      "  File \"/Users/lcrews/miniconda3/envs/sea-ice-oscillations/lib/python3.11/site-packages/satpy/readers/netcdf_utils.py\", line 279, in __getitem__\n",
      "    val = self.file_content[key]\n",
      "          ~~~~~~~~~~~~~~~~~^^^^^\n",
      "KeyError: 'observation_data/I02'\n"
     ]
    },
    {
     "name": "stdout",
     "output_type": "stream",
     "text": [
      "An error occurred while processing 'I02': Chunks do not add up to shape. Got chunks=((4096, 2368), (4096, 2304)), shape=(12960, 6400)\n"
     ]
    },
    {
     "name": "stderr",
     "output_type": "stream",
     "text": [
      "Failed to load DataID(name='M09', wavelength=WavelengthRange(min=1.371, central=1.378, max=1.386, unit='µm'), resolution=742, calibration=<1>, modifiers=()) from <VIIRSL1BFileHandler: '/Users/lcrews/Documents/Python/sea_ice_oscillations/data/L1b/VNP02MOD.A2022280.1006.001.2022280180434.nc'>\n",
      "Traceback (most recent call last):\n",
      "  File \"/Users/lcrews/miniconda3/envs/sea-ice-oscillations/lib/python3.11/site-packages/satpy/readers/yaml_reader.py\", line 699, in _load_dataset\n",
      "    projectable = fh.get_dataset(dsid, ds_info)\n",
      "                  ^^^^^^^^^^^^^^^^^^^^^^^^^^^^^\n",
      "  File \"/Users/lcrews/miniconda3/envs/sea-ice-oscillations/lib/python3.11/site-packages/satpy/readers/viirs_l1b.py\", line 203, in get_dataset\n",
      "    metadata = self.get_metadata(dataset_id, ds_info)\n",
      "               ^^^^^^^^^^^^^^^^^^^^^^^^^^^^^^^^^^^^^^\n",
      "  File \"/Users/lcrews/miniconda3/envs/sea-ice-oscillations/lib/python3.11/site-packages/satpy/readers/viirs_l1b.py\", line 182, in get_metadata\n",
      "    i = getattr(self[var_path], 'attrs', {})\n",
      "                ~~~~^^^^^^^^^^\n",
      "  File \"/Users/lcrews/miniconda3/envs/sea-ice-oscillations/lib/python3.11/site-packages/satpy/readers/netcdf_utils.py\", line 279, in __getitem__\n",
      "    val = self.file_content[key]\n",
      "          ~~~~~~~~~~~~~~~~~^^^^^\n",
      "KeyError: 'observation_data/M09'\n"
     ]
    },
    {
     "name": "stdout",
     "output_type": "stream",
     "text": [
      "An error occurred while processing 'M09': Chunks do not add up to shape. Got chunks=((4096, 2368), (4096, 2304)), shape=(12960, 6400)\n",
      "\n",
      "Files at 1006 were aleady combined with 1000. Will not reprocess the files\n",
      "\n",
      "Generating M09 at 2022280.1142\n"
     ]
    },
    {
     "name": "stderr",
     "output_type": "stream",
     "text": [
      "/Users/lcrews/miniconda3/envs/sea-ice-oscillations/lib/python3.11/site-packages/dask/array/chunk.py:278: RuntimeWarning: invalid value encountered in cast\n",
      "  return x.astype(astype_dtype, **kwargs)\n"
     ]
    },
    {
     "name": "stdout",
     "output_type": "stream",
     "text": [
      "\n",
      "Generating M09 at 2022280.1324\n"
     ]
    },
    {
     "name": "stderr",
     "output_type": "stream",
     "text": [
      "/Users/lcrews/miniconda3/envs/sea-ice-oscillations/lib/python3.11/site-packages/dask/array/chunk.py:278: RuntimeWarning: invalid value encountered in cast\n",
      "  return x.astype(astype_dtype, **kwargs)\n"
     ]
    },
    {
     "name": "stdout",
     "output_type": "stream",
     "text": [
      "\n",
      "Generating M09 at 2022280.1506\n"
     ]
    },
    {
     "name": "stderr",
     "output_type": "stream",
     "text": [
      "/Users/lcrews/miniconda3/envs/sea-ice-oscillations/lib/python3.11/site-packages/dask/array/chunk.py:278: RuntimeWarning: invalid value encountered in cast\n",
      "  return x.astype(astype_dtype, **kwargs)\n"
     ]
    },
    {
     "name": "stdout",
     "output_type": "stream",
     "text": [
      "\n",
      "Combining files at 1642 and 1648\n",
      "Generating M09 at 2022280.1642\n"
     ]
    },
    {
     "name": "stderr",
     "output_type": "stream",
     "text": [
      "/Users/lcrews/miniconda3/envs/sea-ice-oscillations/lib/python3.11/site-packages/dask/array/chunk.py:278: RuntimeWarning: invalid value encountered in cast\n",
      "  return x.astype(astype_dtype, **kwargs)\n"
     ]
    },
    {
     "name": "stdout",
     "output_type": "stream",
     "text": [
      "\n",
      "Files at 1648 were aleady combined with 1642. Will not reprocess the files\n",
      "\n",
      "Generating M09 at 2022280.1824\n",
      "\n",
      "Generating M09 at 2022280.2006\n",
      "\n",
      "Combining files at 2142 and 2148\n",
      "Generating M09 at 2022280.2142\n",
      "\n",
      "Files at 2148 were aleady combined with 2142. Will not reprocess the files\n",
      "\n",
      "Combining files at 2324 and 2330\n",
      "Generating M09 at 2022280.2324\n",
      "\n",
      "Files at 2330 were aleady combined with 2324. Will not reprocess the files\n",
      "\n",
      "Generating true_color at 2022281.0106\n"
     ]
    },
    {
     "name": "stderr",
     "output_type": "stream",
     "text": [
      "/Users/lcrews/miniconda3/envs/sea-ice-oscillations/lib/python3.11/site-packages/dask/array/chunk.py:278: RuntimeWarning: invalid value encountered in cast\n",
      "  return x.astype(astype_dtype, **kwargs)\n"
     ]
    },
    {
     "name": "stdout",
     "output_type": "stream",
     "text": [
      "Generating adaptive_dnb at 2022281.0106\n"
     ]
    },
    {
     "name": "stderr",
     "output_type": "stream",
     "text": [
      "/Users/lcrews/miniconda3/envs/sea-ice-oscillations/lib/python3.11/site-packages/dask/array/chunk.py:278: RuntimeWarning: invalid value encountered in cast\n",
      "  return x.astype(astype_dtype, **kwargs)\n"
     ]
    },
    {
     "name": "stdout",
     "output_type": "stream",
     "text": [
      "Generating I02 at 2022281.0106\n"
     ]
    },
    {
     "name": "stderr",
     "output_type": "stream",
     "text": [
      "/Users/lcrews/miniconda3/envs/sea-ice-oscillations/lib/python3.11/site-packages/dask/array/chunk.py:278: RuntimeWarning: invalid value encountered in cast\n",
      "  return x.astype(astype_dtype, **kwargs)\n"
     ]
    },
    {
     "name": "stdout",
     "output_type": "stream",
     "text": [
      "Generating M09 at 2022281.0106\n"
     ]
    },
    {
     "name": "stderr",
     "output_type": "stream",
     "text": [
      "/Users/lcrews/miniconda3/envs/sea-ice-oscillations/lib/python3.11/site-packages/dask/array/chunk.py:278: RuntimeWarning: invalid value encountered in cast\n",
      "  return x.astype(astype_dtype, **kwargs)\n"
     ]
    },
    {
     "name": "stdout",
     "output_type": "stream",
     "text": [
      "\n",
      "Generating M09 at 2022281.0942\n"
     ]
    },
    {
     "name": "stderr",
     "output_type": "stream",
     "text": [
      "/Users/lcrews/miniconda3/envs/sea-ice-oscillations/lib/python3.11/site-packages/dask/array/chunk.py:278: RuntimeWarning: invalid value encountered in cast\n",
      "  return x.astype(astype_dtype, **kwargs)\n"
     ]
    },
    {
     "name": "stdout",
     "output_type": "stream",
     "text": [
      "\n",
      "Generating M09 at 2022281.1124\n"
     ]
    },
    {
     "name": "stderr",
     "output_type": "stream",
     "text": [
      "/Users/lcrews/miniconda3/envs/sea-ice-oscillations/lib/python3.11/site-packages/dask/array/chunk.py:278: RuntimeWarning: invalid value encountered in cast\n",
      "  return x.astype(astype_dtype, **kwargs)\n"
     ]
    },
    {
     "name": "stdout",
     "output_type": "stream",
     "text": [
      "\n",
      "Generating M09 at 2022281.1306\n"
     ]
    },
    {
     "name": "stderr",
     "output_type": "stream",
     "text": [
      "/Users/lcrews/miniconda3/envs/sea-ice-oscillations/lib/python3.11/site-packages/dask/array/chunk.py:278: RuntimeWarning: invalid value encountered in cast\n",
      "  return x.astype(astype_dtype, **kwargs)\n"
     ]
    },
    {
     "name": "stdout",
     "output_type": "stream",
     "text": [
      "\n",
      "Generating M09 at 2022281.1448\n"
     ]
    },
    {
     "name": "stderr",
     "output_type": "stream",
     "text": [
      "/Users/lcrews/miniconda3/envs/sea-ice-oscillations/lib/python3.11/site-packages/dask/array/chunk.py:278: RuntimeWarning: invalid value encountered in cast\n",
      "  return x.astype(astype_dtype, **kwargs)\n"
     ]
    },
    {
     "name": "stdout",
     "output_type": "stream",
     "text": [
      "\n",
      "Combining files at 1624 and 1630\n"
     ]
    },
    {
     "name": "stderr",
     "output_type": "stream",
     "text": [
      "Failed to load DataID(name='M03', wavelength=WavelengthRange(min=0.478, central=0.488, max=0.498, unit='µm'), resolution=742, calibration=<1>, modifiers=()) from <VIIRSL1BFileHandler: '/Users/lcrews/Documents/Python/sea_ice_oscillations/data/L1b/VNP02MOD.A2022281.1630.001.2022281223106.nc'>\n",
      "Traceback (most recent call last):\n",
      "  File \"/Users/lcrews/miniconda3/envs/sea-ice-oscillations/lib/python3.11/site-packages/satpy/readers/yaml_reader.py\", line 699, in _load_dataset\n",
      "    projectable = fh.get_dataset(dsid, ds_info)\n",
      "                  ^^^^^^^^^^^^^^^^^^^^^^^^^^^^^\n",
      "  File \"/Users/lcrews/miniconda3/envs/sea-ice-oscillations/lib/python3.11/site-packages/satpy/readers/viirs_l1b.py\", line 203, in get_dataset\n",
      "    metadata = self.get_metadata(dataset_id, ds_info)\n",
      "               ^^^^^^^^^^^^^^^^^^^^^^^^^^^^^^^^^^^^^^\n",
      "  File \"/Users/lcrews/miniconda3/envs/sea-ice-oscillations/lib/python3.11/site-packages/satpy/readers/viirs_l1b.py\", line 182, in get_metadata\n",
      "    i = getattr(self[var_path], 'attrs', {})\n",
      "                ~~~~^^^^^^^^^^\n",
      "  File \"/Users/lcrews/miniconda3/envs/sea-ice-oscillations/lib/python3.11/site-packages/satpy/readers/netcdf_utils.py\", line 279, in __getitem__\n",
      "    val = self.file_content[key]\n",
      "          ~~~~~~~~~~~~~~~~~^^^^^\n",
      "KeyError: 'observation_data/M03'\n",
      "Failed to load DataID(name='M05', wavelength=WavelengthRange(min=0.662, central=0.672, max=0.682, unit='µm'), resolution=742, calibration=<1>, modifiers=()) from <VIIRSL1BFileHandler: '/Users/lcrews/Documents/Python/sea_ice_oscillations/data/L1b/VNP02MOD.A2022281.1630.001.2022281223106.nc'>\n",
      "Traceback (most recent call last):\n",
      "  File \"/Users/lcrews/miniconda3/envs/sea-ice-oscillations/lib/python3.11/site-packages/satpy/readers/yaml_reader.py\", line 699, in _load_dataset\n",
      "    projectable = fh.get_dataset(dsid, ds_info)\n",
      "                  ^^^^^^^^^^^^^^^^^^^^^^^^^^^^^\n",
      "  File \"/Users/lcrews/miniconda3/envs/sea-ice-oscillations/lib/python3.11/site-packages/satpy/readers/viirs_l1b.py\", line 203, in get_dataset\n",
      "    metadata = self.get_metadata(dataset_id, ds_info)\n",
      "               ^^^^^^^^^^^^^^^^^^^^^^^^^^^^^^^^^^^^^^\n",
      "  File \"/Users/lcrews/miniconda3/envs/sea-ice-oscillations/lib/python3.11/site-packages/satpy/readers/viirs_l1b.py\", line 182, in get_metadata\n",
      "    i = getattr(self[var_path], 'attrs', {})\n",
      "                ~~~~^^^^^^^^^^\n",
      "  File \"/Users/lcrews/miniconda3/envs/sea-ice-oscillations/lib/python3.11/site-packages/satpy/readers/netcdf_utils.py\", line 279, in __getitem__\n",
      "    val = self.file_content[key]\n",
      "          ~~~~~~~~~~~~~~~~~^^^^^\n",
      "KeyError: 'observation_data/M05'\n",
      "Failed to load DataID(name='M04', wavelength=WavelengthRange(min=0.545, central=0.555, max=0.565, unit='µm'), resolution=742, calibration=<1>, modifiers=()) from <VIIRSL1BFileHandler: '/Users/lcrews/Documents/Python/sea_ice_oscillations/data/L1b/VNP02MOD.A2022281.1630.001.2022281223106.nc'>\n",
      "Traceback (most recent call last):\n",
      "  File \"/Users/lcrews/miniconda3/envs/sea-ice-oscillations/lib/python3.11/site-packages/satpy/readers/yaml_reader.py\", line 699, in _load_dataset\n",
      "    projectable = fh.get_dataset(dsid, ds_info)\n",
      "                  ^^^^^^^^^^^^^^^^^^^^^^^^^^^^^\n",
      "  File \"/Users/lcrews/miniconda3/envs/sea-ice-oscillations/lib/python3.11/site-packages/satpy/readers/viirs_l1b.py\", line 203, in get_dataset\n",
      "    metadata = self.get_metadata(dataset_id, ds_info)\n",
      "               ^^^^^^^^^^^^^^^^^^^^^^^^^^^^^^^^^^^^^^\n",
      "  File \"/Users/lcrews/miniconda3/envs/sea-ice-oscillations/lib/python3.11/site-packages/satpy/readers/viirs_l1b.py\", line 182, in get_metadata\n",
      "    i = getattr(self[var_path], 'attrs', {})\n",
      "                ~~~~^^^^^^^^^^\n",
      "  File \"/Users/lcrews/miniconda3/envs/sea-ice-oscillations/lib/python3.11/site-packages/satpy/readers/netcdf_utils.py\", line 279, in __getitem__\n",
      "    val = self.file_content[key]\n",
      "          ~~~~~~~~~~~~~~~~~^^^^^\n",
      "KeyError: 'observation_data/M04'\n",
      "Failed to load DataID(name='I01', wavelength=WavelengthRange(min=0.6, central=0.64, max=0.68, unit='µm'), resolution=371, calibration=<1>, modifiers=()) from <VIIRSL1BFileHandler: '/Users/lcrews/Documents/Python/sea_ice_oscillations/data/L1b/VNP02IMG.A2022281.1630.001.2022281223106.nc'>\n",
      "Traceback (most recent call last):\n",
      "  File \"/Users/lcrews/miniconda3/envs/sea-ice-oscillations/lib/python3.11/site-packages/satpy/readers/yaml_reader.py\", line 699, in _load_dataset\n",
      "    projectable = fh.get_dataset(dsid, ds_info)\n",
      "                  ^^^^^^^^^^^^^^^^^^^^^^^^^^^^^\n",
      "  File \"/Users/lcrews/miniconda3/envs/sea-ice-oscillations/lib/python3.11/site-packages/satpy/readers/viirs_l1b.py\", line 203, in get_dataset\n",
      "    metadata = self.get_metadata(dataset_id, ds_info)\n",
      "               ^^^^^^^^^^^^^^^^^^^^^^^^^^^^^^^^^^^^^^\n",
      "  File \"/Users/lcrews/miniconda3/envs/sea-ice-oscillations/lib/python3.11/site-packages/satpy/readers/viirs_l1b.py\", line 182, in get_metadata\n",
      "    i = getattr(self[var_path], 'attrs', {})\n",
      "                ~~~~^^^^^^^^^^\n",
      "  File \"/Users/lcrews/miniconda3/envs/sea-ice-oscillations/lib/python3.11/site-packages/satpy/readers/netcdf_utils.py\", line 279, in __getitem__\n",
      "    val = self.file_content[key]\n",
      "          ~~~~~~~~~~~~~~~~~^^^^^\n",
      "KeyError: 'observation_data/I01'\n"
     ]
    },
    {
     "name": "stdout",
     "output_type": "stream",
     "text": [
      "An error occurred while processing 'true_color': Chunks do not add up to shape. Got chunks=((4096, 2368), (4096, 2304)), shape=(12928, 6400)\n"
     ]
    },
    {
     "name": "stderr",
     "output_type": "stream",
     "text": [
      "Failed to load DataID(name='I02', wavelength=WavelengthRange(min=0.845, central=0.865, max=0.884, unit='µm'), resolution=371, calibration=<1>, modifiers=()) from <VIIRSL1BFileHandler: '/Users/lcrews/Documents/Python/sea_ice_oscillations/data/L1b/VNP02IMG.A2022281.1630.001.2022281223106.nc'>\n",
      "Traceback (most recent call last):\n",
      "  File \"/Users/lcrews/miniconda3/envs/sea-ice-oscillations/lib/python3.11/site-packages/satpy/readers/yaml_reader.py\", line 699, in _load_dataset\n",
      "    projectable = fh.get_dataset(dsid, ds_info)\n",
      "                  ^^^^^^^^^^^^^^^^^^^^^^^^^^^^^\n",
      "  File \"/Users/lcrews/miniconda3/envs/sea-ice-oscillations/lib/python3.11/site-packages/satpy/readers/viirs_l1b.py\", line 203, in get_dataset\n",
      "    metadata = self.get_metadata(dataset_id, ds_info)\n",
      "               ^^^^^^^^^^^^^^^^^^^^^^^^^^^^^^^^^^^^^^\n",
      "  File \"/Users/lcrews/miniconda3/envs/sea-ice-oscillations/lib/python3.11/site-packages/satpy/readers/viirs_l1b.py\", line 182, in get_metadata\n",
      "    i = getattr(self[var_path], 'attrs', {})\n",
      "                ~~~~^^^^^^^^^^\n",
      "  File \"/Users/lcrews/miniconda3/envs/sea-ice-oscillations/lib/python3.11/site-packages/satpy/readers/netcdf_utils.py\", line 279, in __getitem__\n",
      "    val = self.file_content[key]\n",
      "          ~~~~~~~~~~~~~~~~~^^^^^\n",
      "KeyError: 'observation_data/I02'\n"
     ]
    },
    {
     "name": "stdout",
     "output_type": "stream",
     "text": [
      "An error occurred while processing 'adaptive_dnb': Chunks do not add up to shape. Got chunks=((4096, 2368), (4096, 2304)), shape=(12928, 6400)\n",
      "An error occurred while processing 'I02': Chunks do not add up to shape. Got chunks=((4096, 2368), (4096, 2304)), shape=(12928, 6400)\n"
     ]
    },
    {
     "name": "stderr",
     "output_type": "stream",
     "text": [
      "Failed to load DataID(name='M09', wavelength=WavelengthRange(min=1.371, central=1.378, max=1.386, unit='µm'), resolution=742, calibration=<1>, modifiers=()) from <VIIRSL1BFileHandler: '/Users/lcrews/Documents/Python/sea_ice_oscillations/data/L1b/VNP02MOD.A2022281.1630.001.2022281223106.nc'>\n",
      "Traceback (most recent call last):\n",
      "  File \"/Users/lcrews/miniconda3/envs/sea-ice-oscillations/lib/python3.11/site-packages/satpy/readers/yaml_reader.py\", line 699, in _load_dataset\n",
      "    projectable = fh.get_dataset(dsid, ds_info)\n",
      "                  ^^^^^^^^^^^^^^^^^^^^^^^^^^^^^\n",
      "  File \"/Users/lcrews/miniconda3/envs/sea-ice-oscillations/lib/python3.11/site-packages/satpy/readers/viirs_l1b.py\", line 203, in get_dataset\n",
      "    metadata = self.get_metadata(dataset_id, ds_info)\n",
      "               ^^^^^^^^^^^^^^^^^^^^^^^^^^^^^^^^^^^^^^\n",
      "  File \"/Users/lcrews/miniconda3/envs/sea-ice-oscillations/lib/python3.11/site-packages/satpy/readers/viirs_l1b.py\", line 182, in get_metadata\n",
      "    i = getattr(self[var_path], 'attrs', {})\n",
      "                ~~~~^^^^^^^^^^\n",
      "  File \"/Users/lcrews/miniconda3/envs/sea-ice-oscillations/lib/python3.11/site-packages/satpy/readers/netcdf_utils.py\", line 279, in __getitem__\n",
      "    val = self.file_content[key]\n",
      "          ~~~~~~~~~~~~~~~~~^^^^^\n",
      "KeyError: 'observation_data/M09'\n"
     ]
    },
    {
     "name": "stdout",
     "output_type": "stream",
     "text": [
      "An error occurred while processing 'M09': Chunks do not add up to shape. Got chunks=((4096, 2368), (4096, 2304)), shape=(12928, 6400)\n",
      "\n",
      "Files at 1630 were aleady combined with 1624. Will not reprocess the files\n",
      "\n",
      "Generating M09 at 2022281.1806\n",
      "\n",
      "Combining files at 1942 and 1948\n",
      "Generating M09 at 2022281.1942\n",
      "\n",
      "Files at 1948 were aleady combined with 1942. Will not reprocess the files\n",
      "\n",
      "Combining files at 2124 and 2130\n",
      "Generating M09 at 2022281.2124\n",
      "\n",
      "Files at 2130 were aleady combined with 2124. Will not reprocess the files\n",
      "\n",
      "Generating M09 at 2022281.2306\n",
      "\n",
      "Generating true_color at 2022282.0048\n"
     ]
    },
    {
     "name": "stderr",
     "output_type": "stream",
     "text": [
      "/Users/lcrews/miniconda3/envs/sea-ice-oscillations/lib/python3.11/site-packages/dask/array/chunk.py:278: RuntimeWarning: invalid value encountered in cast\n",
      "  return x.astype(astype_dtype, **kwargs)\n"
     ]
    },
    {
     "name": "stdout",
     "output_type": "stream",
     "text": [
      "Generating adaptive_dnb at 2022282.0048\n"
     ]
    },
    {
     "name": "stderr",
     "output_type": "stream",
     "text": [
      "/Users/lcrews/miniconda3/envs/sea-ice-oscillations/lib/python3.11/site-packages/dask/array/chunk.py:278: RuntimeWarning: invalid value encountered in cast\n",
      "  return x.astype(astype_dtype, **kwargs)\n"
     ]
    },
    {
     "name": "stdout",
     "output_type": "stream",
     "text": [
      "Generating I02 at 2022282.0048\n"
     ]
    },
    {
     "name": "stderr",
     "output_type": "stream",
     "text": [
      "/Users/lcrews/miniconda3/envs/sea-ice-oscillations/lib/python3.11/site-packages/dask/array/chunk.py:278: RuntimeWarning: invalid value encountered in cast\n",
      "  return x.astype(astype_dtype, **kwargs)\n"
     ]
    },
    {
     "name": "stdout",
     "output_type": "stream",
     "text": [
      "Generating M09 at 2022282.0048\n"
     ]
    },
    {
     "name": "stderr",
     "output_type": "stream",
     "text": [
      "/Users/lcrews/miniconda3/envs/sea-ice-oscillations/lib/python3.11/site-packages/dask/array/chunk.py:278: RuntimeWarning: invalid value encountered in cast\n",
      "  return x.astype(astype_dtype, **kwargs)\n"
     ]
    },
    {
     "name": "stdout",
     "output_type": "stream",
     "text": [
      "\n",
      "Generating M09 at 2022282.0924\n"
     ]
    },
    {
     "name": "stderr",
     "output_type": "stream",
     "text": [
      "/Users/lcrews/miniconda3/envs/sea-ice-oscillations/lib/python3.11/site-packages/dask/array/chunk.py:278: RuntimeWarning: invalid value encountered in cast\n",
      "  return x.astype(astype_dtype, **kwargs)\n"
     ]
    },
    {
     "name": "stdout",
     "output_type": "stream",
     "text": [
      "\n",
      "Generating M09 at 2022282.1106\n"
     ]
    },
    {
     "name": "stderr",
     "output_type": "stream",
     "text": [
      "/Users/lcrews/miniconda3/envs/sea-ice-oscillations/lib/python3.11/site-packages/dask/array/chunk.py:278: RuntimeWarning: invalid value encountered in cast\n",
      "  return x.astype(astype_dtype, **kwargs)\n"
     ]
    },
    {
     "name": "stdout",
     "output_type": "stream",
     "text": [
      "\n",
      "\n",
      "Combining files at 1424 and 1430\n"
     ]
    },
    {
     "name": "stderr",
     "output_type": "stream",
     "text": [
      "Failed to load DataID(name='M03', wavelength=WavelengthRange(min=0.478, central=0.488, max=0.498, unit='µm'), resolution=742, calibration=<1>, modifiers=()) from <VIIRSL1BFileHandler: '/Users/lcrews/Documents/Python/sea_ice_oscillations/data/L1b/VNP02MOD.A2022282.1430.001.2022282204700.nc'>\n",
      "Traceback (most recent call last):\n",
      "  File \"/Users/lcrews/miniconda3/envs/sea-ice-oscillations/lib/python3.11/site-packages/satpy/readers/yaml_reader.py\", line 699, in _load_dataset\n",
      "    projectable = fh.get_dataset(dsid, ds_info)\n",
      "                  ^^^^^^^^^^^^^^^^^^^^^^^^^^^^^\n",
      "  File \"/Users/lcrews/miniconda3/envs/sea-ice-oscillations/lib/python3.11/site-packages/satpy/readers/viirs_l1b.py\", line 203, in get_dataset\n",
      "    metadata = self.get_metadata(dataset_id, ds_info)\n",
      "               ^^^^^^^^^^^^^^^^^^^^^^^^^^^^^^^^^^^^^^\n",
      "  File \"/Users/lcrews/miniconda3/envs/sea-ice-oscillations/lib/python3.11/site-packages/satpy/readers/viirs_l1b.py\", line 182, in get_metadata\n",
      "    i = getattr(self[var_path], 'attrs', {})\n",
      "                ~~~~^^^^^^^^^^\n",
      "  File \"/Users/lcrews/miniconda3/envs/sea-ice-oscillations/lib/python3.11/site-packages/satpy/readers/netcdf_utils.py\", line 279, in __getitem__\n",
      "    val = self.file_content[key]\n",
      "          ~~~~~~~~~~~~~~~~~^^^^^\n",
      "KeyError: 'observation_data/M03'\n",
      "Failed to load DataID(name='M05', wavelength=WavelengthRange(min=0.662, central=0.672, max=0.682, unit='µm'), resolution=742, calibration=<1>, modifiers=()) from <VIIRSL1BFileHandler: '/Users/lcrews/Documents/Python/sea_ice_oscillations/data/L1b/VNP02MOD.A2022282.1430.001.2022282204700.nc'>\n",
      "Traceback (most recent call last):\n",
      "  File \"/Users/lcrews/miniconda3/envs/sea-ice-oscillations/lib/python3.11/site-packages/satpy/readers/yaml_reader.py\", line 699, in _load_dataset\n",
      "    projectable = fh.get_dataset(dsid, ds_info)\n",
      "                  ^^^^^^^^^^^^^^^^^^^^^^^^^^^^^\n",
      "  File \"/Users/lcrews/miniconda3/envs/sea-ice-oscillations/lib/python3.11/site-packages/satpy/readers/viirs_l1b.py\", line 203, in get_dataset\n",
      "    metadata = self.get_metadata(dataset_id, ds_info)\n",
      "               ^^^^^^^^^^^^^^^^^^^^^^^^^^^^^^^^^^^^^^\n",
      "  File \"/Users/lcrews/miniconda3/envs/sea-ice-oscillations/lib/python3.11/site-packages/satpy/readers/viirs_l1b.py\", line 182, in get_metadata\n",
      "    i = getattr(self[var_path], 'attrs', {})\n",
      "                ~~~~^^^^^^^^^^\n",
      "  File \"/Users/lcrews/miniconda3/envs/sea-ice-oscillations/lib/python3.11/site-packages/satpy/readers/netcdf_utils.py\", line 279, in __getitem__\n",
      "    val = self.file_content[key]\n",
      "          ~~~~~~~~~~~~~~~~~^^^^^\n",
      "KeyError: 'observation_data/M05'\n",
      "Failed to load DataID(name='M04', wavelength=WavelengthRange(min=0.545, central=0.555, max=0.565, unit='µm'), resolution=742, calibration=<1>, modifiers=()) from <VIIRSL1BFileHandler: '/Users/lcrews/Documents/Python/sea_ice_oscillations/data/L1b/VNP02MOD.A2022282.1430.001.2022282204700.nc'>\n",
      "Traceback (most recent call last):\n",
      "  File \"/Users/lcrews/miniconda3/envs/sea-ice-oscillations/lib/python3.11/site-packages/satpy/readers/yaml_reader.py\", line 699, in _load_dataset\n",
      "    projectable = fh.get_dataset(dsid, ds_info)\n",
      "                  ^^^^^^^^^^^^^^^^^^^^^^^^^^^^^\n",
      "  File \"/Users/lcrews/miniconda3/envs/sea-ice-oscillations/lib/python3.11/site-packages/satpy/readers/viirs_l1b.py\", line 203, in get_dataset\n",
      "    metadata = self.get_metadata(dataset_id, ds_info)\n",
      "               ^^^^^^^^^^^^^^^^^^^^^^^^^^^^^^^^^^^^^^\n",
      "  File \"/Users/lcrews/miniconda3/envs/sea-ice-oscillations/lib/python3.11/site-packages/satpy/readers/viirs_l1b.py\", line 182, in get_metadata\n",
      "    i = getattr(self[var_path], 'attrs', {})\n",
      "                ~~~~^^^^^^^^^^\n",
      "  File \"/Users/lcrews/miniconda3/envs/sea-ice-oscillations/lib/python3.11/site-packages/satpy/readers/netcdf_utils.py\", line 279, in __getitem__\n",
      "    val = self.file_content[key]\n",
      "          ~~~~~~~~~~~~~~~~~^^^^^\n",
      "KeyError: 'observation_data/M04'\n",
      "Failed to load DataID(name='I01', wavelength=WavelengthRange(min=0.6, central=0.64, max=0.68, unit='µm'), resolution=371, calibration=<1>, modifiers=()) from <VIIRSL1BFileHandler: '/Users/lcrews/Documents/Python/sea_ice_oscillations/data/L1b/VNP02IMG.A2022282.1430.001.2022282204700.nc'>\n",
      "Traceback (most recent call last):\n",
      "  File \"/Users/lcrews/miniconda3/envs/sea-ice-oscillations/lib/python3.11/site-packages/satpy/readers/yaml_reader.py\", line 699, in _load_dataset\n",
      "    projectable = fh.get_dataset(dsid, ds_info)\n",
      "                  ^^^^^^^^^^^^^^^^^^^^^^^^^^^^^\n",
      "  File \"/Users/lcrews/miniconda3/envs/sea-ice-oscillations/lib/python3.11/site-packages/satpy/readers/viirs_l1b.py\", line 203, in get_dataset\n",
      "    metadata = self.get_metadata(dataset_id, ds_info)\n",
      "               ^^^^^^^^^^^^^^^^^^^^^^^^^^^^^^^^^^^^^^\n",
      "  File \"/Users/lcrews/miniconda3/envs/sea-ice-oscillations/lib/python3.11/site-packages/satpy/readers/viirs_l1b.py\", line 182, in get_metadata\n",
      "    i = getattr(self[var_path], 'attrs', {})\n",
      "                ~~~~^^^^^^^^^^\n",
      "  File \"/Users/lcrews/miniconda3/envs/sea-ice-oscillations/lib/python3.11/site-packages/satpy/readers/netcdf_utils.py\", line 279, in __getitem__\n",
      "    val = self.file_content[key]\n",
      "          ~~~~~~~~~~~~~~~~~^^^^^\n",
      "KeyError: 'observation_data/I01'\n"
     ]
    },
    {
     "name": "stdout",
     "output_type": "stream",
     "text": [
      "An error occurred while processing 'true_color': Chunks do not add up to shape. Got chunks=((4096, 2368), (4096, 2304)), shape=(12960, 6400)\n",
      "An error occurred while processing 'adaptive_dnb': Chunks do not add up to shape. Got chunks=((4096, 2368), (4096, 2304)), shape=(12960, 6400)\n"
     ]
    },
    {
     "name": "stderr",
     "output_type": "stream",
     "text": [
      "Failed to load DataID(name='I02', wavelength=WavelengthRange(min=0.845, central=0.865, max=0.884, unit='µm'), resolution=371, calibration=<1>, modifiers=()) from <VIIRSL1BFileHandler: '/Users/lcrews/Documents/Python/sea_ice_oscillations/data/L1b/VNP02IMG.A2022282.1430.001.2022282204700.nc'>\n",
      "Traceback (most recent call last):\n",
      "  File \"/Users/lcrews/miniconda3/envs/sea-ice-oscillations/lib/python3.11/site-packages/satpy/readers/yaml_reader.py\", line 699, in _load_dataset\n",
      "    projectable = fh.get_dataset(dsid, ds_info)\n",
      "                  ^^^^^^^^^^^^^^^^^^^^^^^^^^^^^\n",
      "  File \"/Users/lcrews/miniconda3/envs/sea-ice-oscillations/lib/python3.11/site-packages/satpy/readers/viirs_l1b.py\", line 203, in get_dataset\n",
      "    metadata = self.get_metadata(dataset_id, ds_info)\n",
      "               ^^^^^^^^^^^^^^^^^^^^^^^^^^^^^^^^^^^^^^\n",
      "  File \"/Users/lcrews/miniconda3/envs/sea-ice-oscillations/lib/python3.11/site-packages/satpy/readers/viirs_l1b.py\", line 182, in get_metadata\n",
      "    i = getattr(self[var_path], 'attrs', {})\n",
      "                ~~~~^^^^^^^^^^\n",
      "  File \"/Users/lcrews/miniconda3/envs/sea-ice-oscillations/lib/python3.11/site-packages/satpy/readers/netcdf_utils.py\", line 279, in __getitem__\n",
      "    val = self.file_content[key]\n",
      "          ~~~~~~~~~~~~~~~~~^^^^^\n",
      "KeyError: 'observation_data/I02'\n"
     ]
    },
    {
     "name": "stdout",
     "output_type": "stream",
     "text": [
      "An error occurred while processing 'I02': Chunks do not add up to shape. Got chunks=((4096, 2368), (4096, 2304)), shape=(12960, 6400)\n"
     ]
    },
    {
     "name": "stderr",
     "output_type": "stream",
     "text": [
      "Failed to load DataID(name='M09', wavelength=WavelengthRange(min=1.371, central=1.378, max=1.386, unit='µm'), resolution=742, calibration=<1>, modifiers=()) from <VIIRSL1BFileHandler: '/Users/lcrews/Documents/Python/sea_ice_oscillations/data/L1b/VNP02MOD.A2022282.1430.001.2022282204700.nc'>\n",
      "Traceback (most recent call last):\n",
      "  File \"/Users/lcrews/miniconda3/envs/sea-ice-oscillations/lib/python3.11/site-packages/satpy/readers/yaml_reader.py\", line 699, in _load_dataset\n",
      "    projectable = fh.get_dataset(dsid, ds_info)\n",
      "                  ^^^^^^^^^^^^^^^^^^^^^^^^^^^^^\n",
      "  File \"/Users/lcrews/miniconda3/envs/sea-ice-oscillations/lib/python3.11/site-packages/satpy/readers/viirs_l1b.py\", line 203, in get_dataset\n",
      "    metadata = self.get_metadata(dataset_id, ds_info)\n",
      "               ^^^^^^^^^^^^^^^^^^^^^^^^^^^^^^^^^^^^^^\n",
      "  File \"/Users/lcrews/miniconda3/envs/sea-ice-oscillations/lib/python3.11/site-packages/satpy/readers/viirs_l1b.py\", line 182, in get_metadata\n",
      "    i = getattr(self[var_path], 'attrs', {})\n",
      "                ~~~~^^^^^^^^^^\n",
      "  File \"/Users/lcrews/miniconda3/envs/sea-ice-oscillations/lib/python3.11/site-packages/satpy/readers/netcdf_utils.py\", line 279, in __getitem__\n",
      "    val = self.file_content[key]\n",
      "          ~~~~~~~~~~~~~~~~~^^^^^\n",
      "KeyError: 'observation_data/M09'\n"
     ]
    },
    {
     "name": "stdout",
     "output_type": "stream",
     "text": [
      "An error occurred while processing 'M09': Chunks do not add up to shape. Got chunks=((4096, 2368), (4096, 2304)), shape=(12960, 6400)\n",
      "\n",
      "Files at 1430 were aleady combined with 1424. Will not reprocess the files\n",
      "\n",
      "Generating M09 at 2022282.1606\n"
     ]
    },
    {
     "name": "stderr",
     "output_type": "stream",
     "text": [
      "/Users/lcrews/miniconda3/envs/sea-ice-oscillations/lib/python3.11/site-packages/dask/array/chunk.py:278: RuntimeWarning: invalid value encountered in cast\n",
      "  return x.astype(astype_dtype, **kwargs)\n"
     ]
    },
    {
     "name": "stdout",
     "output_type": "stream",
     "text": [
      "\n",
      "Generating M09 at 2022282.1748\n",
      "\n",
      "Combining files at 1924 and 1930\n",
      "Generating M09 at 2022282.1924\n",
      "\n",
      "Files at 1930 were aleady combined with 1924. Will not reprocess the files\n",
      "\n",
      "Generating M09 at 2022282.2106\n",
      "\n"
     ]
    },
    {
     "ename": "UnboundLocalError",
     "evalue": "cannot access local variable 'filetime_dt' where it is not associated with a value",
     "output_type": "error",
     "traceback": [
      "\u001b[0;31m---------------------------------------------------------------------------\u001b[0m",
      "\u001b[0;31mUnboundLocalError\u001b[0m                         Traceback (most recent call last)",
      "Cell \u001b[0;32mIn[235], line 9\u001b[0m\n\u001b[1;32m      6\u001b[0m \u001b[38;5;28mprint\u001b[39m() \u001b[38;5;66;03m# This will print a blank line to distinguish this time's information\u001b[39;00m\n\u001b[1;32m      8\u001b[0m \u001b[38;5;66;03m#All files at the current time - combine files on same swath (six minutes apart)\u001b[39;00m\n\u001b[0;32m----> 9\u001b[0m filenames \u001b[38;5;241m=\u001b[39m \u001b[43mget_filenames_at_current_time\u001b[49m\u001b[43m(\u001b[49m\u001b[43mi\u001b[49m\u001b[43m,\u001b[49m\u001b[43m \u001b[49m\u001b[43mfiletimes\u001b[49m\u001b[43m)\u001b[49m\n\u001b[1;32m     10\u001b[0m \u001b[38;5;28;01mif\u001b[39;00m filenames \u001b[38;5;129;01mis\u001b[39;00m \u001b[38;5;28;01mNone\u001b[39;00m: \u001b[38;5;66;03m#This happens if the timestep was part of the same swath and already plotted at previous timestep\u001b[39;00m\n\u001b[1;32m     11\u001b[0m     \u001b[38;5;28;01mcontinue\u001b[39;00m  \n",
      "Cell \u001b[0;32mIn[234], line 31\u001b[0m, in \u001b[0;36mget_filenames_at_current_time\u001b[0;34m(i, filetimes)\u001b[0m\n\u001b[1;32m     29\u001b[0m \u001b[38;5;28;01mif\u001b[39;00m i \u001b[38;5;241m>\u001b[39m \u001b[38;5;241m0\u001b[39m:\n\u001b[1;32m     30\u001b[0m     prevfiletime \u001b[38;5;241m=\u001b[39m filetimes[i\u001b[38;5;241m-\u001b[39m\u001b[38;5;241m1\u001b[39m]\n\u001b[0;32m---> 31\u001b[0m     \u001b[43mprevfiletime_dt\u001b[49m \u001b[38;5;241m=\u001b[39m datetime\u001b[38;5;241m.\u001b[39mstrptime(prevfiletime, \u001b[38;5;124m\"\u001b[39m\u001b[38;5;124m%\u001b[39m\u001b[38;5;124mY\u001b[39m\u001b[38;5;124m%\u001b[39m\u001b[38;5;124mj.\u001b[39m\u001b[38;5;124m%\u001b[39m\u001b[38;5;124mH\u001b[39m\u001b[38;5;124m%\u001b[39m\u001b[38;5;124mM\u001b[39m\u001b[38;5;124m\"\u001b[39m)\n\u001b[1;32m     33\u001b[0m     \u001b[38;5;66;03m# Calculate time difference\u001b[39;00m\n\u001b[1;32m     34\u001b[0m     time_difference \u001b[38;5;241m=\u001b[39m filetime_dt \u001b[38;5;241m-\u001b[39m prevfiletime_dt\n",
      "\u001b[0;31mUnboundLocalError\u001b[0m: cannot access local variable 'filetime_dt' where it is not associated with a value"
     ]
    }
   ],
   "source": [
    "#Create reprojected images at each timestep\n",
    "\n",
    "my_area = setup_projection(bounding_box) #Setup projection      \n",
    "\n",
    "#Make  images for each satellite pass\n",
    "for i, filetime in enumerate(filetimes):\n",
    "    print() # This will print a blank line to distinguish this time's information\n",
    "    \n",
    "    #All files at the current time - combine files on same swath (six minutes apart)\n",
    "    filenames = get_filenames_at_current_time(i, filetimes)\n",
    "    if filenames is None: #This happens if the timestep was part of the same swath and already plotted at previous timestep\n",
    "        continue  \n",
    "    \n",
    "    scn = Scene(filenames=filenames, reader='viirs_l1b')\n",
    "        \n",
    "    #channels = choose_composite(filenames)\n",
    "    channels = ['true_color', 'adaptive_dnb']#, 'I02', 'M09'] #Trying I02 based on https://twitter.com/bill_line/status/1690022728441716736\n",
    "    \n",
    "    #Remove any datasets composites that are not available for this scene\n",
    "    available = scn.available_composite_names() + scn.available_dataset_names()\n",
    "    channels = list(filter(lambda item: item in available, channels))\n",
    "        \n",
    "    for channel in channels:\n",
    "        \n",
    "        savename = './images/VNP_%s_%s.png' % (filetime, channel)\n",
    "        if os.path.exists(savename): #Dont remake this figure\n",
    "            continue\n",
    "\n",
    "        try:\n",
    "            #Generate composite and resample to the common grid my_area defined in setup_projection\n",
    "            scn.load([channel], generate=False)\n",
    "            resampled_scene = scn.resample(my_area)\n",
    "        \n",
    "            print('Generating ' + channel + ' at ' + filetime)\n",
    "\n",
    "            #Create numpy arrays to use for image analysis\n",
    "            scn_to_numpy(resampled_scene, channel)\n",
    "\n",
    "            #Write to an image .png\n",
    "            resampled_scene.save_dataset(channel, filename = savename)\n",
    "        \n",
    "        except Exception as e:\n",
    "            print(f\"An error occurred while processing '{channel}' for '{filetime}': {e}\")\n",
    "    "
   ]
  },
  {
   "cell_type": "code",
   "execution_count": 253,
   "id": "ab62115e-b01d-4890-a5e6-b46c99062bc0",
   "metadata": {
    "tags": []
   },
   "outputs": [
    {
     "ename": "TypeError",
     "evalue": "unhashable type: 'list'",
     "output_type": "error",
     "traceback": [
      "\u001b[0;31m---------------------------------------------------------------------------\u001b[0m",
      "\u001b[0;31mTypeError\u001b[0m                                 Traceback (most recent call last)",
      "Cell \u001b[0;32mIn[253], line 2\u001b[0m\n\u001b[1;32m      1\u001b[0m \u001b[38;5;66;03m# Get the image data and lat/lon arrays\u001b[39;00m\n\u001b[0;32m----> 2\u001b[0m image_data \u001b[38;5;241m=\u001b[39m \u001b[43mresampled_scene\u001b[49m\u001b[43m[\u001b[49m\u001b[43mchannel\u001b[49m\u001b[43m]\u001b[49m\u001b[38;5;241m.\u001b[39mvalues\n\u001b[1;32m      3\u001b[0m longitudes, latitudes \u001b[38;5;241m=\u001b[39m resampled_scene[channel]\u001b[38;5;241m.\u001b[39mattrs[\u001b[38;5;124m'\u001b[39m\u001b[38;5;124marea\u001b[39m\u001b[38;5;124m'\u001b[39m]\u001b[38;5;241m.\u001b[39mget_lonlats()\n\u001b[1;32m      5\u001b[0m \u001b[38;5;66;03m# Create a NumPy array by combining image data with lat/lon information\u001b[39;00m\n",
      "File \u001b[0;32m~/miniconda3/envs/sea-ice-oscillations/lib/python3.11/site-packages/satpy/scene.py:825\u001b[0m, in \u001b[0;36mScene.__getitem__\u001b[0;34m(self, key)\u001b[0m\n\u001b[1;32m    823\u001b[0m \u001b[38;5;28;01mif\u001b[39;00m \u001b[38;5;28misinstance\u001b[39m(key, \u001b[38;5;28mtuple\u001b[39m):\n\u001b[1;32m    824\u001b[0m     \u001b[38;5;28;01mreturn\u001b[39;00m \u001b[38;5;28mself\u001b[39m\u001b[38;5;241m.\u001b[39mslice(key)\n\u001b[0;32m--> 825\u001b[0m \u001b[38;5;28;01mreturn\u001b[39;00m \u001b[38;5;28;43mself\u001b[39;49m\u001b[38;5;241;43m.\u001b[39;49m\u001b[43m_datasets\u001b[49m\u001b[43m[\u001b[49m\u001b[43mkey\u001b[49m\u001b[43m]\u001b[49m\n",
      "File \u001b[0;32m~/miniconda3/envs/sea-ice-oscillations/lib/python3.11/site-packages/satpy/dataset/data_dict.py:169\u001b[0m, in \u001b[0;36mDatasetDict.__getitem__\u001b[0;34m(self, item)\u001b[0m\n\u001b[1;32m    166\u001b[0m \u001b[38;5;250m\u001b[39m\u001b[38;5;124;03m\"\"\"Get item from container.\"\"\"\u001b[39;00m\n\u001b[1;32m    167\u001b[0m \u001b[38;5;28;01mtry\u001b[39;00m:\n\u001b[1;32m    168\u001b[0m     \u001b[38;5;66;03m# short circuit - try to get the object without more work\u001b[39;00m\n\u001b[0;32m--> 169\u001b[0m     \u001b[38;5;28;01mreturn\u001b[39;00m \u001b[38;5;28;43msuper\u001b[39;49m\u001b[43m(\u001b[49m\u001b[43mDatasetDict\u001b[49m\u001b[43m,\u001b[49m\u001b[43m \u001b[49m\u001b[38;5;28;43mself\u001b[39;49m\u001b[43m)\u001b[49m\u001b[38;5;241;43m.\u001b[39;49m\u001b[38;5;21;43m__getitem__\u001b[39;49m\u001b[43m(\u001b[49m\u001b[43mitem\u001b[49m\u001b[43m)\u001b[49m\n\u001b[1;32m    170\u001b[0m \u001b[38;5;28;01mexcept\u001b[39;00m \u001b[38;5;167;01mKeyError\u001b[39;00m:\n\u001b[1;32m    171\u001b[0m     key \u001b[38;5;241m=\u001b[39m \u001b[38;5;28mself\u001b[39m\u001b[38;5;241m.\u001b[39mget_key(item)\n",
      "\u001b[0;31mTypeError\u001b[0m: unhashable type: 'list'"
     ]
    }
   ],
   "source": [
    "def scn_to_numpy(resampled_scene, channel):\n",
    "    # Get the image data and lat/lon arrays\n",
    "    image_data = resampled_scene[channel].values\n",
    "    longitudes, latitudes = resampled_scene[channel].attrs['area'].get_lonlats()\n",
    "\n",
    "    # Create a NumPy array by combining image data with lat/lon information\n",
    "    combined_array = np.dstack((image_data, latitudes, longitudes))\n",
    "\n",
    "    # Check that data has been exported sensibly\n",
    "    plot_combined_data(combined_array)\n"
   ]
  },
  {
   "cell_type": "code",
   "execution_count": 252,
   "id": "6c4504f9-0b72-4cdf-9e39-850d8eaec9e8",
   "metadata": {
    "tags": []
   },
   "outputs": [],
   "source": [
    "def plot_combined_data(combined_array):\n",
    "    # Assuming combined_array contains image data, latitudes, and longitudes\n",
    "    image_data = combined_array[:, :, 0]  # Extract image data\n",
    "    latitudes = combined_array[:, :, 1]  # Extract latitudes\n",
    "    longitudes = combined_array[:, :, 2]  # Extract longitudes\n",
    "\n",
    "    # Create a 1x3 grid of subplots\n",
    "    fig, axs = plt.subplots(3, 1, figsize=(5, 15))\n",
    "\n",
    "    # Plot longitudes\n",
    "    axs[0].imshow(longitudes, cmap='viridis', origin='upper')\n",
    "    axs[0].set_title('Longitude Plot')\n",
    "    axs[0].set_xlabel('Pixel Column')\n",
    "    axs[0].set_ylabel('Pixel Row')\n",
    "    axs[0].set_aspect('equal')  # Equal aspect ratio\n",
    "\n",
    "    # Plot latitudes\n",
    "    axs[1].imshow(latitudes, cmap='viridis', origin='upper')\n",
    "    axs[1].set_title('Latitude Plot')\n",
    "    axs[1].set_xlabel('Pixel Column')\n",
    "    axs[1].set_ylabel('Pixel Row')\n",
    "    axs[1].set_aspect('equal')  # Equal aspect ratio\n",
    "\n",
    "    # Plot image data\n",
    "    axs[2].imshow(image_data, cmap='gray', origin='upper')\n",
    "    axs[2].set_title('Image Data Plot')\n",
    "    axs[2].set_xlabel('Pixel Column')\n",
    "    axs[2].set_ylabel('Pixel Row')\n",
    "    axs[2].set_aspect('equal')  # Equal aspect ratio\n",
    "\n",
    "    # Adjust spacing between subplots\n",
    "    plt.tight_layout()\n",
    "\n",
    "    # Show the plots\n",
    "    plt.show()\n"
   ]
  }
 ],
 "metadata": {
  "kernelspec": {
   "display_name": "Sea Ice Oscillations",
   "language": "python",
   "name": "sea_ice_oscillations"
  },
  "language_info": {
   "codemirror_mode": {
    "name": "ipython",
    "version": 3
   },
   "file_extension": ".py",
   "mimetype": "text/x-python",
   "name": "python",
   "nbconvert_exporter": "python",
   "pygments_lexer": "ipython3",
   "version": "3.11.4"
  }
 },
 "nbformat": 4,
 "nbformat_minor": 5
}
