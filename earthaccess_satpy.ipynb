{
 "cells": [
  {
   "cell_type": "markdown",
   "id": "f0515d3d-e62e-4489-bd4d-f69cd45db769",
   "metadata": {},
   "source": [
    "earthaccess keys\n",
    "Imagery: VNP02IMG + geolocation VNP03IMG\n",
    "Moderate: VNP02MOD + geolocation VNP03MOD\n",
    "Day-night band: VNP02DNB + geolocation VNP03DNB\n"
   ]
  },
  {
   "cell_type": "code",
   "execution_count": 1,
   "id": "ee4b4faf-4bdd-434e-b71a-5163d17492ca",
   "metadata": {
    "tags": []
   },
   "outputs": [
    {
     "name": "stderr",
     "output_type": "stream",
     "text": [
      "/home/jovyan/.conda/envs/sea-ice-oscillations/lib/python3.10/site-packages/tqdm/auto.py:21: TqdmWarning: IProgress not found. Please update jupyter and ipywidgets. See https://ipywidgets.readthedocs.io/en/stable/user_install.html\n",
      "  from .autonotebook import tqdm as notebook_tqdm\n"
     ]
    }
   ],
   "source": [
    "from satpy.scene import Scene\n",
    "from glob import glob\n",
    "import urllib\n",
    "import earthaccess"
   ]
  },
  {
   "cell_type": "code",
   "execution_count": 2,
   "id": "318b6f0e-248d-4093-8bd3-088191863e28",
   "metadata": {
    "tags": []
   },
   "outputs": [],
   "source": [
    "# functions to download data (just organizing stuff)\n",
    "def get_vnp02mod_links():\n",
    "    results = earthaccess.search_data(\n",
    "    short_name=\"VNP02MOD\", \n",
    "    cloud_hosted=True, \n",
    "    bounding_box=(-130.0, 73.0, -160.0, 77.0),\n",
    "    temporal=(\"2023-01\", \"2023-09\"),\n",
    "    count=1\n",
    "    )\n",
    "    # files1 = earthaccess.open(results)\n",
    "    return results\n",
    "\n",
    "\n",
    "def get_vnp02img_links():\n",
    "    results = earthaccess.search_data(\n",
    "    short_name=\"VNP02IMG\", \n",
    "    cloud_hosted=True, \n",
    "    bounding_box=(-130.0, 73.0, -160.0, 77.0),\n",
    "    temporal=(\"2023-01\", \"2023-09\"),\n",
    "    count=1\n",
    "    )\n",
    "    # files1 = earthaccess.open(results)\n",
    "    return results\n",
    "\n",
    "\n",
    "def get_vnp02dnb_links():\n",
    "    results = earthaccess.search_data(\n",
    "    short_name=\"VNP02DNB\", \n",
    "    cloud_hosted=True, \n",
    "    bounding_box=(-130.0, 73.0, -160.0, 77.0),\n",
    "    temporal=(\"2023-01\", \"2023-09\"),\n",
    "    count=1\n",
    "    )\n",
    "    # files1 = earthaccess.open(results)\n",
    "    return results\n",
    "\n",
    "\n",
    "# geolocation\n",
    "def get_vnp03mod_links():\n",
    "    results = earthaccess.search_data(\n",
    "    short_name=\"VNP03MOD\", \n",
    "    cloud_hosted=True, \n",
    "    bounding_box=(-130.0, 73.0, -160.0, 77.0),\n",
    "    temporal=(\"2023-01\", \"2023-09\"),\n",
    "    count=1\n",
    "    )\n",
    "    # files1 = earthaccess.open(results)\n",
    "    return results\n",
    "\n",
    "\n",
    "def get_vnp03img_links():\n",
    "    results = earthaccess.search_data(\n",
    "    short_name=\"VNP03IMG\", \n",
    "    cloud_hosted=True, \n",
    "    bounding_box=(-130.0, 73.0, -160.0, 77.0),\n",
    "    temporal=(\"2023-01\", \"2023-09\"),\n",
    "    count=1\n",
    "    )\n",
    "    # files1 = earthaccess.open(results)\n",
    "    return results\n",
    "\n",
    "\n",
    "def get_vnp03dnb_links():\n",
    "    results = earthaccess.search_data(\n",
    "    short_name=\"VNP03DNB\", \n",
    "    cloud_hosted=True, \n",
    "    bounding_box=(-130.0, 73.0, -160.0, 77.0),\n",
    "    temporal=(\"2023-01\", \"2023-09\"),\n",
    "    count=1\n",
    "    )\n",
    "    # files1 = earthaccess.open(results)\n",
    "    return results\n",
    "\n"
   ]
  },
  {
   "cell_type": "code",
   "execution_count": 9,
   "id": "a6a2adf1-92e9-4ec8-9312-d3969f02e95b",
   "metadata": {
    "tags": []
   },
   "outputs": [
    {
     "name": "stdout",
     "output_type": "stream",
     "text": [
      "EARTHDATA_USERNAME and EARTHDATA_PASSWORD are not set in the current environment, try setting them or use a different strategy (netrc, interactive)\n",
      "No .netrc found in /home/jovyan\n"
     ]
    },
    {
     "name": "stdin",
     "output_type": "stream",
     "text": [
      "Enter your Earthdata Login username:  daltonks\n",
      "Enter your Earthdata password:  ········\n"
     ]
    },
    {
     "name": "stdout",
     "output_type": "stream",
     "text": [
      "You're now authenticated with NASA Earthdata Login\n",
      "Using token with expiration date: 10/08/2023\n",
      "Using user provided credentials for EDL\n"
     ]
    },
    {
     "data": {
      "text/plain": [
       "<earthaccess.auth.Auth at 0x7fbcd4686aa0>"
      ]
     },
     "execution_count": 9,
     "metadata": {},
     "output_type": "execute_result"
    }
   ],
   "source": [
    "earthaccess.login()"
   ]
  },
  {
   "cell_type": "code",
   "execution_count": 10,
   "id": "22c85db8-2593-42fc-aed7-8cbce39d1317",
   "metadata": {
    "tags": []
   },
   "outputs": [
    {
     "name": "stdout",
     "output_type": "stream",
     "text": [
      "Granules found: 15573\n",
      "Granules found: 15569\n",
      "Granules found: 15531\n",
      " Getting 1 granules, approx download size: 0.19 GB\n"
     ]
    },
    {
     "name": "stderr",
     "output_type": "stream",
     "text": [
      "QUEUEING TASKS | : 100%|██████████| 1/1 [00:00<00:00, 1673.70it/s]\n",
      "PROCESSING TASKS | : 100%|██████████| 1/1 [00:04<00:00,  4.93s/it]\n",
      "COLLECTING RESULTS | : 100%|██████████| 1/1 [00:00<00:00, 18558.87it/s]\n"
     ]
    },
    {
     "name": "stdout",
     "output_type": "stream",
     "text": [
      " Getting 1 granules, approx download size: 0.14 GB\n"
     ]
    },
    {
     "name": "stderr",
     "output_type": "stream",
     "text": [
      "QUEUEING TASKS | : 100%|██████████| 1/1 [00:00<00:00, 1909.97it/s]\n",
      "PROCESSING TASKS | : 100%|██████████| 1/1 [00:04<00:00,  4.45s/it]\n",
      "COLLECTING RESULTS | : 100%|██████████| 1/1 [00:00<00:00, 17189.77it/s]\n"
     ]
    },
    {
     "name": "stdout",
     "output_type": "stream",
     "text": [
      " Getting 1 granules, approx download size: 0.04 GB\n"
     ]
    },
    {
     "name": "stderr",
     "output_type": "stream",
     "text": [
      "QUEUEING TASKS | : 100%|██████████| 1/1 [00:00<00:00, 1605.17it/s]\n",
      "PROCESSING TASKS | : 100%|██████████| 1/1 [00:03<00:00,  3.46s/it]\n",
      "COLLECTING RESULTS | : 100%|██████████| 1/1 [00:00<00:00, 19599.55it/s]\n"
     ]
    }
   ],
   "source": [
    "# getting paths for donwload\n",
    "img = get_vnp02img_links()  # for now we are only using this data\n",
    "mod = get_vnp02mod_links()\n",
    "dnb = get_vnp02dnb_links()\n",
    "\n",
    "# downloading data in local directori ('./' symbol)\n",
    "_ = [earthaccess.download(results, './') for results in [img,mod,dnb]]"
   ]
  },
  {
   "cell_type": "code",
   "execution_count": 12,
   "id": "918bde05-855f-4733-a3dc-f8872d2b7a3b",
   "metadata": {
    "tags": []
   },
   "outputs": [
    {
     "name": "stdout",
     "output_type": "stream",
     "text": [
      "Granules found: 15580\n",
      "Granules found: 15576\n",
      "Granules found: 15538\n",
      " Getting 1 granules, approx download size: 0.16 GB\n"
     ]
    },
    {
     "name": "stderr",
     "output_type": "stream",
     "text": [
      "QUEUEING TASKS | : 100%|██████████| 1/1 [00:00<00:00, 2511.56it/s]\n"
     ]
    },
    {
     "name": "stdout",
     "output_type": "stream",
     "text": [
      "File VNP03IMG.A2023001.0112.001.2023001085145.nc already downloaded\n"
     ]
    },
    {
     "name": "stderr",
     "output_type": "stream",
     "text": [
      "PROCESSING TASKS | : 100%|██████████| 1/1 [00:00<00:00, 11522.81it/s]\n",
      "COLLECTING RESULTS | : 100%|██████████| 1/1 [00:00<00:00, 20560.31it/s]\n"
     ]
    },
    {
     "name": "stdout",
     "output_type": "stream",
     "text": [
      " Getting 1 granules, approx download size: 0.05 GB\n"
     ]
    },
    {
     "name": "stderr",
     "output_type": "stream",
     "text": [
      "QUEUEING TASKS | : 100%|██████████| 1/1 [00:00<00:00, 3123.09it/s]\n"
     ]
    },
    {
     "name": "stdout",
     "output_type": "stream",
     "text": [
      "File VNP03MOD.A2023001.0112.001.2023001085145.nc already downloaded\n"
     ]
    },
    {
     "name": "stderr",
     "output_type": "stream",
     "text": [
      "PROCESSING TASKS | : 100%|██████████| 1/1 [00:00<00:00, 10699.76it/s]\n",
      "COLLECTING RESULTS | : 100%|██████████| 1/1 [00:00<00:00, 16710.37it/s]\n"
     ]
    },
    {
     "name": "stdout",
     "output_type": "stream",
     "text": [
      " Getting 1 granules, approx download size: 0.06 GB\n"
     ]
    },
    {
     "name": "stderr",
     "output_type": "stream",
     "text": [
      "QUEUEING TASKS | : 100%|██████████| 1/1 [00:00<00:00, 1229.64it/s]\n"
     ]
    },
    {
     "name": "stdout",
     "output_type": "stream",
     "text": [
      "File VNP03DNB.A2023001.0112.001.2023001085145.nc already downloaded\n"
     ]
    },
    {
     "name": "stderr",
     "output_type": "stream",
     "text": [
      "PROCESSING TASKS | : 100%|██████████| 1/1 [00:00<00:00, 14266.34it/s]\n",
      "COLLECTING RESULTS | : 100%|██████████| 1/1 [00:00<00:00, 20560.31it/s]\n"
     ]
    }
   ],
   "source": [
    "# getting paths for donwload\n",
    "img = get_vnp03img_links()  # for now we are only using this data\n",
    "mod = get_vnp03mod_links()\n",
    "dnb = get_vnp03dnb_links()\n",
    "\n",
    "# downloading data in local directori ('./' symbol)\n",
    "_ = [earthaccess.download(results, './') for results in [img,mod,dnb]]\n"
   ]
  },
  {
   "cell_type": "code",
   "execution_count": 13,
   "id": "a4580026-1fc8-4442-9121-cf41c1d2c6a1",
   "metadata": {
    "tags": []
   },
   "outputs": [
    {
     "name": "stderr",
     "output_type": "stream",
     "text": [
      "No filenames found for reader: mwi_l1b_nc\n",
      "No filenames found for reader: meris_nc_sen3\n",
      "No filenames found for reader: vii_l1b_nc\n",
      "No filenames found for reader: avhrr_l1b_eps\n",
      "No filenames found for reader: geocat\n",
      "No filenames found for reader: omps_edr\n",
      "No filenames found for reader: seviri_l1b_hrit\n",
      "No filenames found for reader: amsr2_l2\n",
      "No filenames found for reader: gms5-vissr_l1b\n",
      "No filenames found for reader: nwcsaf-msg2013-hdf5\n",
      "No filenames found for reader: ghrsst_l2\n",
      "No filenames found for reader: viirs_edr_active_fires\n",
      "No filenames found for reader: mviri_l1b_fiduceo_nc\n",
      "No filenames found for reader: ahi_hrit\n",
      "No filenames found for reader: avhrr_l1b_aapp\n",
      "No filenames found for reader: seviri_l1b_nc\n",
      "No filenames found for reader: acspo\n",
      "No filenames found for reader: amsub_l1c_aapp\n",
      "No filenames found for reader: vii_l2_nc\n",
      "No filenames found for reader: li_l2_nc\n",
      "No filenames found for reader: viirs_l2_cloud_mask_nc\n",
      "No filenames found for reader: viirs_vgac_l1c_nc\n",
      "No filenames found for reader: mersi_ll_l1b\n",
      "No filenames found for reader: fci_l2_nc\n",
      "No filenames found for reader: olci_l1b\n",
      "No filenames found for reader: maia\n",
      "No filenames found for reader: seviri_l1b_native\n",
      "No filenames found for reader: atms_l1b_nc\n",
      "No filenames found for reader: safe_sar_l2_ocn\n",
      "No filenames found for reader: amsr2_l2_gaasp\n",
      "No filenames found for reader: avhrr_l1b_hrpt\n",
      "No filenames found for reader: glm_l2\n",
      "WARNING:satpy.readers.yaml_reader:No filenames found for reader: mirs\n",
      "WARNING:satpy.readers.yaml_reader:No filenames found for reader: nwcsaf-pps_nc\n",
      "WARNING:satpy.readers.yaml_reader:No filenames found for reader: ahi_l1b_gridded_bin\n",
      "WARNING:satpy.readers.yaml_reader:No filenames found for reader: electrol_hrit\n",
      "WARNING:satpy.readers.yaml_reader:No filenames found for reader: hsaf_h5\n",
      "WARNING:satpy.readers.yaml_reader:No filenames found for reader: insat3d_img_l1b_h5\n",
      "INFO:satpy.readers:Cannot use ['/home/jovyan/.conda/envs/sea-ice-oscillations/lib/python3.10/site-packages/satpy/etc/readers/seviri_l2_grib.yaml']\n",
      "WARNING:satpy.readers.yaml_reader:No filenames found for reader: jami_hrit\n",
      "WARNING:satpy.readers.yaml_reader:No filenames found for reader: viirs_compact\n",
      "WARNING:satpy.readers.yaml_reader:No filenames found for reader: mtsat2-imager_hrit\n",
      "WARNING:satpy.readers.yaml_reader:No filenames found for reader: amsr2_l1b\n",
      "WARNING:satpy.readers.yaml_reader:No filenames found for reader: atms_sdr_hdf5\n",
      "INFO:satpy.readers:Cannot use ['/home/jovyan/.conda/envs/sea-ice-oscillations/lib/python3.10/site-packages/satpy/etc/readers/clavrx.yaml']\n",
      "WARNING:satpy.readers.yaml_reader:No filenames found for reader: ici_l1b_nc\n",
      "WARNING:satpy.readers.yaml_reader:No filenames found for reader: iasi_l2\n",
      "WARNING:satpy.readers.yaml_reader:No filenames found for reader: generic_image\n",
      "WARNING:satpy.readers.yaml_reader:No filenames found for reader: agri_fy4b_l1\n",
      "WARNING:satpy.readers.yaml_reader:No filenames found for reader: goes-imager_nc\n",
      "INFO:satpy.readers:Cannot use ['/home/jovyan/.conda/envs/sea-ice-oscillations/lib/python3.10/site-packages/satpy/etc/readers/scatsat1_l2b.yaml']\n",
      "WARNING:satpy.readers.yaml_reader:No filenames found for reader: smos_l2_wind\n",
      "WARNING:satpy.readers.yaml_reader:No filenames found for reader: mimicTPW2_comp\n",
      "INFO:satpy.readers:Cannot use ['/home/jovyan/.conda/envs/sea-ice-oscillations/lib/python3.10/site-packages/satpy/etc/readers/msi_safe.yaml']\n",
      "WARNING:satpy.readers.yaml_reader:No filenames found for reader: ghi_l1\n",
      "WARNING:satpy.readers.yaml_reader:No filenames found for reader: abi_l1b\n",
      "WARNING:satpy.readers.yaml_reader:No filenames found for reader: abi_l2_nc\n",
      "WARNING:satpy.readers.yaml_reader:No filenames found for reader: gpm_imerg\n",
      "WARNING:satpy.readers.yaml_reader:No filenames found for reader: hy2_scat_l2b_h5\n",
      "WARNING:satpy.readers.yaml_reader:No filenames found for reader: virr_l1b\n",
      "INFO:satpy.readers:Cannot use ['/home/jovyan/.conda/envs/sea-ice-oscillations/lib/python3.10/site-packages/satpy/etc/readers/grib.yaml']\n",
      "WARNING:satpy.readers.yaml_reader:No filenames found for reader: ahi_hsd\n",
      "WARNING:satpy.readers.yaml_reader:No filenames found for reader: abi_l1b_scmi\n",
      "WARNING:satpy.readers.yaml_reader:No filenames found for reader: nucaps\n",
      "WARNING:satpy.readers.yaml_reader:No filenames found for reader: mhs_l1c_aapp\n",
      "WARNING:satpy.readers.yaml_reader:No filenames found for reader: cmsaf-claas2_l2_nc\n",
      "WARNING:satpy.readers.yaml_reader:No filenames found for reader: msu_gsa_l1b\n",
      "WARNING:satpy.readers.yaml_reader:No filenames found for reader: mersi2_l1b\n",
      "INFO:satpy.readers:Cannot use ['/home/jovyan/.conda/envs/sea-ice-oscillations/lib/python3.10/site-packages/satpy/etc/readers/ascat_l2_soilmoisture_bufr.yaml']\n",
      "INFO:satpy.readers:Cannot use ['/home/jovyan/.conda/envs/sea-ice-oscillations/lib/python3.10/site-packages/satpy/etc/readers/modis_l1b.yaml']\n",
      "WARNING:satpy.readers.yaml_reader:No filenames found for reader: nwcsaf-geo\n",
      "INFO:satpy.readers:Cannot use ['/home/jovyan/.conda/envs/sea-ice-oscillations/lib/python3.10/site-packages/satpy/etc/readers/modis_l2.yaml']\n",
      "WARNING:satpy.readers.yaml_reader:No filenames found for reader: mws_l1b_nc\n",
      "WARNING:satpy.readers.yaml_reader:No filenames found for reader: viirs_sdr\n",
      "WARNING:satpy.readers.yaml_reader:No filenames found for reader: slstr_l1b\n",
      "WARNING:satpy.readers.yaml_reader:No filenames found for reader: iasi_l2_cdr_nc\n",
      "INFO:satpy.readers:Cannot use ['/home/jovyan/.conda/envs/sea-ice-oscillations/lib/python3.10/site-packages/satpy/etc/readers/seviri_l2_bufr.yaml']\n",
      "WARNING:satpy.readers.yaml_reader:No filenames found for reader: vaisala_gld360\n",
      "WARNING:satpy.readers.yaml_reader:No filenames found for reader: ami_l1b\n"
     ]
    }
   ],
   "source": [
    "from satpy.scene import Scene\n",
    "\n",
    "\n",
    "# bands =  # the numbers are the 'wishlist' (see the documentation of scn.load)\n",
    "\n",
    "scn = Scene(filenames=glob('*VNP*nc'))\n",
    "\n",
    "\n",
    "scn.load([0.64, 0.86, 1.61,3.7,11.45])  \n",
    "# composite = 'true_color_lowres'\n",
    "# scn.load([composite])\n"
   ]
  },
  {
   "cell_type": "code",
   "execution_count": 14,
   "id": "0d6f2fc1-cdc5-4754-95a8-29302ed02664",
   "metadata": {
    "tags": []
   },
   "outputs": [
    {
     "data": {
      "text/plain": [
       "['DNB',\n",
       " 'I01',\n",
       " 'I02',\n",
       " 'I03',\n",
       " 'I04',\n",
       " 'I05',\n",
       " 'M01',\n",
       " 'M02',\n",
       " 'M03',\n",
       " 'M04',\n",
       " 'M05',\n",
       " 'M06',\n",
       " 'M07',\n",
       " 'M08',\n",
       " 'M09',\n",
       " 'M10',\n",
       " 'M11',\n",
       " 'M12',\n",
       " 'M13',\n",
       " 'M14',\n",
       " 'M15',\n",
       " 'M16',\n",
       " 'dnb_lat',\n",
       " 'dnb_lon',\n",
       " 'dnb_lunar_azimuth_angle',\n",
       " 'dnb_lunar_zenith_angle',\n",
       " 'dnb_moon_illumination_fraction',\n",
       " 'dnb_satellite_azimuth_angle',\n",
       " 'dnb_satellite_zenith_angle',\n",
       " 'dnb_solar_azimuth_angle',\n",
       " 'dnb_solar_zenith_angle',\n",
       " 'i_lat',\n",
       " 'i_lon',\n",
       " 'm_lat',\n",
       " 'm_lon',\n",
       " 'satellite_azimuth_angle',\n",
       " 'satellite_zenith_angle',\n",
       " 'solar_azimuth_angle',\n",
       " 'solar_zenith_angle']"
      ]
     },
     "execution_count": 14,
     "metadata": {},
     "output_type": "execute_result"
    }
   ],
   "source": [
    "scn.available_dataset_names() # we can put the values of this output in scn.load"
   ]
  },
  {
   "cell_type": "code",
   "execution_count": 15,
   "id": "de713047-f202-4ff5-8b3c-84fba8a9a33b",
   "metadata": {
    "tags": []
   },
   "outputs": [
    {
     "name": "stderr",
     "output_type": "stream",
     "text": [
      "INFO:satpy.scene:Not reducing data before resampling.\n",
      "INFO:satpy.resample:Using default KDTree resampler\n",
      "INFO:satpy.scene:Not reducing data before resampling.\n",
      "INFO:satpy.scene:Not reducing data before resampling.\n",
      "INFO:satpy.scene:Not reducing data before resampling.\n",
      "INFO:satpy.scene:Not reducing data before resampling.\n",
      "/home/jovyan/.conda/envs/sea-ice-oscillations/lib/python3.10/site-packages/dask/array/chunk.py:278: RuntimeWarning: invalid value encountered in cast\n",
      "  return x.astype(astype_dtype, **kwargs)\n"
     ]
    },
    {
     "data": {
      "image/png": "[encoded data removed]",
      "text/plain": [
       "<trollimage.xrimage.XRImage at 0x7fbcaef376d0>"
      ]
     },
     "execution_count": 15,
     "metadata": {},
     "output_type": "execute_result"
    }
   ],
   "source": [
    "from satpy.resample import get_area_def\n",
    "\n",
    "areaid = 'eurol'\n",
    "areadef = get_area_def(areaid)\n",
    "newscn = scn.resample(areadef)\n",
    "\n",
    "\n",
    "newscn.show(0.86)"
   ]
  },
  {
   "cell_type": "code",
   "execution_count": null,
   "id": "35cd4b34-ae6f-40e2-a03b-f86ad3889078",
   "metadata": {
    "tags": []
   },
   "outputs": [],
   "source": []
  }
 ],
 "metadata": {
  "kernelspec": {
   "display_name": "Python [conda env:.conda-sea-ice-oscillations]",
   "language": "python",
   "name": "conda-env-.conda-sea-ice-oscillations-py"
  },
  "language_info": {
   "codemirror_mode": {
    "name": "ipython",
    "version": 3
   },
   "file_extension": ".py",
   "mimetype": "text/x-python",
   "name": "python",
   "nbconvert_exporter": "python",
   "pygments_lexer": "ipython3",
   "version": "3.10.12"
  }
 },
 "nbformat": 4,
 "nbformat_minor": 5
}
