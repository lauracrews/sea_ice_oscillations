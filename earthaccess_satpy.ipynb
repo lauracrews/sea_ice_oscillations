{
 "cells": [
  {
   "cell_type": "markdown",
   "id": "f0515d3d-e62e-4489-bd4d-f69cd45db769",
   "metadata": {},
   "source": [
    "earthaccess keys\n",
    "Imagery: VNP02IMG + geolocation VNP03IMG\n",
    "Moderate: VNP02MOD + geolocation VNP03MOD\n",
    "Day-night band: VNP02DNB + geolocation VNP03DNB\n"
   ]
  },
  {
   "cell_type": "code",
   "execution_count": 1,
   "id": "ee4b4faf-4bdd-434e-b71a-5163d17492ca",
   "metadata": {
    "tags": []
   },
   "outputs": [
    {
     "name": "stderr",
     "output_type": "stream",
     "text": [
      "/home/jovyan/.conda/envs/sea-ice-oscillations/lib/python3.10/site-packages/tqdm/auto.py:21: TqdmWarning: IProgress not found. Please update jupyter and ipywidgets. See https://ipywidgets.readthedocs.io/en/stable/user_install.html\n",
      "  from .autonotebook import tqdm as notebook_tqdm\n"
     ]
    }
   ],
   "source": [
    "from satpy.scene import Scene\n",
    "from glob import glob\n",
    "import urllib\n",
    "import earthaccess"
   ]
  },
  {
   "cell_type": "code",
   "execution_count": 2,
   "id": "318b6f0e-248d-4093-8bd3-088191863e28",
   "metadata": {
    "jupyter": {
     "source_hidden": true
    },
    "tags": []
   },
   "outputs": [],
   "source": [
    "# functions to download data (just organizing stuff)\n",
    "def get_vnp02mod_links():\n",
    "    results = earthaccess.search_data(\n",
    "    short_name=\"VNP02MOD\", \n",
    "    cloud_hosted=True, \n",
    "    bounding_box=(-130.0, 73.0, -160.0, 77.0),\n",
    "    temporal=(\"2023-01\", \"2023-09\"),\n",
    "    count=1\n",
    "    )\n",
    "    # files1 = earthaccess.open(results)\n",
    "    return results\n",
    "\n",
    "\n",
    "def get_vnp02img_links():\n",
    "    results = earthaccess.search_data(\n",
    "    short_name=\"VNP02IMG\", \n",
    "    cloud_hosted=True, \n",
    "    bounding_box=(-130.0, 73.0, -160.0, 77.0),\n",
    "    temporal=(\"2023-01\", \"2023-09\"),\n",
    "    count=1\n",
    "    )\n",
    "    # files1 = earthaccess.open(results)\n",
    "    return results\n",
    "\n",
    "\n",
    "def get_vnp02dnb_links():\n",
    "    results = earthaccess.search_data(\n",
    "    short_name=\"VNP02DNB\", \n",
    "    cloud_hosted=True, \n",
    "    bounding_box=(-130.0, 73.0, -160.0, 77.0),\n",
    "    temporal=(\"2023-01\", \"2023-09\"),\n",
    "    count=1\n",
    "    )\n",
    "    # files1 = earthaccess.open(results)\n",
    "    return results\n",
    "\n",
    "\n",
    "# geolocation\n",
    "def get_vnp03mod_links():\n",
    "    results = earthaccess.search_data(\n",
    "    short_name=\"VNP03MOD\", \n",
    "    cloud_hosted=True, \n",
    "    bounding_box=(-130.0, 73.0, -160.0, 77.0),\n",
    "    temporal=(\"2023-01\", \"2023-09\"),\n",
    "    count=1\n",
    "    )\n",
    "    # files1 = earthaccess.open(results)\n",
    "    return results\n",
    "\n",
    "\n",
    "def get_vnp03img_links():\n",
    "    results = earthaccess.search_data(\n",
    "    short_name=\"VNP03IMG\", \n",
    "    cloud_hosted=True, \n",
    "    bounding_box=(-130.0, 73.0, -160.0, 77.0),\n",
    "    temporal=(\"2023-01\", \"2023-09\"),\n",
    "    count=1\n",
    "    )\n",
    "    # files1 = earthaccess.open(results)\n",
    "    return results\n",
    "\n",
    "\n",
    "def get_vnp03dnb_links():\n",
    "    results = earthaccess.search_data(\n",
    "    short_name=\"VNP03DNB\", \n",
    "    cloud_hosted=True, \n",
    "    bounding_box=(-130.0, 73.0, -160.0, 77.0),\n",
    "    temporal=(\"2023-01\", \"2023-09\"),\n",
    "    count=1\n",
    "    )\n",
    "    # files1 = earthaccess.open(results)\n",
    "    return results\n",
    "\n"
   ]
  },
  {
   "cell_type": "code",
   "execution_count": 3,
   "id": "a6a2adf1-92e9-4ec8-9312-d3969f02e95b",
   "metadata": {
    "tags": []
   },
   "outputs": [
    {
     "name": "stdout",
     "output_type": "stream",
     "text": [
      "EARTHDATA_USERNAME and EARTHDATA_PASSWORD are not set in the current environment, try setting them or use a different strategy (netrc, interactive)\n",
      "No .netrc found in /home/jovyan\n"
     ]
    },
    {
     "name": "stdin",
     "output_type": "stream",
     "text": [
      "Enter your Earthdata Login username:  daltonks\n",
      "Enter your Earthdata password:  ········\n"
     ]
    },
    {
     "name": "stdout",
     "output_type": "stream",
     "text": [
      "You're now authenticated with NASA Earthdata Login\n",
      "Using token with expiration date: 10/08/2023\n",
      "Using user provided credentials for EDL\n"
     ]
    },
    {
     "data": {
      "text/plain": [
       "<earthaccess.auth.Auth at 0x7f854c2ca4a0>"
      ]
     },
     "execution_count": 3,
     "metadata": {},
     "output_type": "execute_result"
    }
   ],
   "source": [
    "earthaccess.login()"
   ]
  },
  {
   "cell_type": "code",
   "execution_count": 4,
   "id": "22c85db8-2593-42fc-aed7-8cbce39d1317",
   "metadata": {
    "tags": []
   },
   "outputs": [
    {
     "name": "stdout",
     "output_type": "stream",
     "text": [
      "Granules found: 15602\n",
      "Granules found: 15598\n",
      "Granules found: 15560\n",
      " Getting 1 granules, approx download size: 0.19 GB\n"
     ]
    },
    {
     "name": "stderr",
     "output_type": "stream",
     "text": [
      "QUEUEING TASKS | : 100%|██████████| 1/1 [00:00<00:00, 1155.77it/s]\n"
     ]
    },
    {
     "name": "stdout",
     "output_type": "stream",
     "text": [
      "File VNP02IMG.A2023001.0112.001.2023001091818.nc already downloaded\n"
     ]
    },
    {
     "name": "stderr",
     "output_type": "stream",
     "text": [
      "PROCESSING TASKS | : 100%|██████████| 1/1 [00:00<00:00, 6186.29it/s]\n",
      "COLLECTING RESULTS | : 100%|██████████| 1/1 [00:00<00:00, 11522.81it/s]\n"
     ]
    },
    {
     "name": "stdout",
     "output_type": "stream",
     "text": [
      " Getting 1 granules, approx download size: 0.14 GB\n"
     ]
    },
    {
     "name": "stderr",
     "output_type": "stream",
     "text": [
      "QUEUEING TASKS | : 100%|██████████| 1/1 [00:00<00:00, 630.91it/s]\n"
     ]
    },
    {
     "name": "stdout",
     "output_type": "stream",
     "text": [
      "File VNP02MOD.A2023001.0112.001.2023001091818.nc already downloaded\n"
     ]
    },
    {
     "name": "stderr",
     "output_type": "stream",
     "text": [
      "PROCESSING TASKS | : 100%|██████████| 1/1 [00:00<00:00, 12300.01it/s]\n",
      "COLLECTING RESULTS | : 100%|██████████| 1/1 [00:00<00:00, 20262.34it/s]\n"
     ]
    },
    {
     "name": "stdout",
     "output_type": "stream",
     "text": [
      " Getting 1 granules, approx download size: 0.04 GB\n"
     ]
    },
    {
     "name": "stderr",
     "output_type": "stream",
     "text": [
      "QUEUEING TASKS | : 100%|██████████| 1/1 [00:00<00:00, 926.30it/s]\n"
     ]
    },
    {
     "name": "stdout",
     "output_type": "stream",
     "text": [
      "File VNP02DNB.A2023001.0112.001.2023001091818.nc already downloaded\n"
     ]
    },
    {
     "name": "stderr",
     "output_type": "stream",
     "text": [
      "PROCESSING TASKS | : 100%|██████████| 1/1 [00:00<00:00, 12264.05it/s]\n",
      "COLLECTING RESULTS | : 100%|██████████| 1/1 [00:00<00:00, 16070.13it/s]\n"
     ]
    }
   ],
   "source": [
    "# getting paths for donwload\n",
    "img = get_vnp02img_links()  # for now we are only using this data\n",
    "mod = get_vnp02mod_links()\n",
    "dnb = get_vnp02dnb_links()\n",
    "\n",
    "# downloading data in local directori ('./' symbol)\n",
    "_ = [earthaccess.download(results, './') for results in [img,mod,dnb]]"
   ]
  },
  {
   "cell_type": "code",
   "execution_count": 5,
   "id": "918bde05-855f-4733-a3dc-f8872d2b7a3b",
   "metadata": {
    "tags": []
   },
   "outputs": [
    {
     "name": "stdout",
     "output_type": "stream",
     "text": [
      "Granules found: 15610\n",
      "Granules found: 15606\n",
      "Granules found: 15569\n",
      " Getting 1 granules, approx download size: 0.16 GB\n"
     ]
    },
    {
     "name": "stderr",
     "output_type": "stream",
     "text": [
      "QUEUEING TASKS | : 100%|██████████| 1/1 [00:00<00:00, 739.74it/s]\n"
     ]
    },
    {
     "name": "stdout",
     "output_type": "stream",
     "text": [
      "File VNP03IMG.A2023001.0112.001.2023001085145.nc already downloaded\n"
     ]
    },
    {
     "name": "stderr",
     "output_type": "stream",
     "text": [
      "PROCESSING TASKS | : 100%|██████████| 1/1 [00:00<00:00, 7724.32it/s]\n",
      "COLLECTING RESULTS | : 100%|██████████| 1/1 [00:00<00:00, 11748.75it/s]\n"
     ]
    },
    {
     "name": "stdout",
     "output_type": "stream",
     "text": [
      " Getting 1 granules, approx download size: 0.05 GB\n"
     ]
    },
    {
     "name": "stderr",
     "output_type": "stream",
     "text": [
      "QUEUEING TASKS | : 100%|██████████| 1/1 [00:00<00:00, 899.10it/s]\n"
     ]
    },
    {
     "name": "stdout",
     "output_type": "stream",
     "text": [
      "File VNP03MOD.A2023001.0112.001.2023001085145.nc already downloaded\n"
     ]
    },
    {
     "name": "stderr",
     "output_type": "stream",
     "text": [
      "PROCESSING TASKS | : 100%|██████████| 1/1 [00:00<00:00, 12192.74it/s]\n",
      "COLLECTING RESULTS | : 100%|██████████| 1/1 [00:00<00:00, 21399.51it/s]\n"
     ]
    },
    {
     "name": "stdout",
     "output_type": "stream",
     "text": [
      " Getting 1 granules, approx download size: 0.06 GB\n"
     ]
    },
    {
     "name": "stderr",
     "output_type": "stream",
     "text": [
      "QUEUEING TASKS | : 100%|██████████| 1/1 [00:00<00:00, 845.28it/s]\n"
     ]
    },
    {
     "name": "stdout",
     "output_type": "stream",
     "text": [
      "File VNP03DNB.A2023001.0112.001.2023001085145.nc already downloaded\n"
     ]
    },
    {
     "name": "stderr",
     "output_type": "stream",
     "text": [
      "PROCESSING TASKS | : 100%|██████████| 1/1 [00:00<00:00, 8738.13it/s]\n",
      "COLLECTING RESULTS | : 100%|██████████| 1/1 [00:00<00:00, 19972.88it/s]\n"
     ]
    }
   ],
   "source": [
    "# getting paths for donwload\n",
    "img = get_vnp03img_links()  # for now we are only using this data\n",
    "mod = get_vnp03mod_links()\n",
    "dnb = get_vnp03dnb_links()\n",
    "\n",
    "# downloading data in local directori ('./' symbol)\n",
    "_ = [earthaccess.download(results, './') for results in [img,mod,dnb]]\n"
   ]
  },
  {
   "cell_type": "code",
   "execution_count": 6,
   "id": "a4580026-1fc8-4442-9121-cf41c1d2c6a1",
   "metadata": {
    "tags": []
   },
   "outputs": [],
   "source": [
    "from satpy.scene import Scene\n",
    "\n",
    "\n",
    "# bands =  # the numbers are the 'wishlist' (see the documentation of scn.load)\n",
    "\n",
    "scn = Scene(filenames=glob('*VNP*nc'), reader='viirs_l1b')\n",
    "\n",
    "\n",
    "# scn.load([0.6, 0.8, 10.8])\n",
    "scn.load([0.48, 0.55, 0.67,0.8])\n",
    "# scn.load(['M03', 'M04', 'M05'])"
   ]
  },
  {
   "cell_type": "code",
   "execution_count": 7,
   "id": "0d6f2fc1-cdc5-4754-95a8-29302ed02664",
   "metadata": {
    "tags": []
   },
   "outputs": [
    {
     "data": {
      "text/plain": [
       "['DNB',\n",
       " 'I01',\n",
       " 'I02',\n",
       " 'I03',\n",
       " 'I04',\n",
       " 'I05',\n",
       " 'M01',\n",
       " 'M02',\n",
       " 'M03',\n",
       " 'M04',\n",
       " 'M05',\n",
       " 'M06',\n",
       " 'M07',\n",
       " 'M08',\n",
       " 'M09',\n",
       " 'M10',\n",
       " 'M11',\n",
       " 'M12',\n",
       " 'M13',\n",
       " 'M14',\n",
       " 'M15',\n",
       " 'M16',\n",
       " 'dnb_lat',\n",
       " 'dnb_lon',\n",
       " 'dnb_lunar_azimuth_angle',\n",
       " 'dnb_lunar_zenith_angle',\n",
       " 'dnb_moon_illumination_fraction',\n",
       " 'dnb_satellite_azimuth_angle',\n",
       " 'dnb_satellite_zenith_angle',\n",
       " 'dnb_solar_azimuth_angle',\n",
       " 'dnb_solar_zenith_angle',\n",
       " 'i_lat',\n",
       " 'i_lon',\n",
       " 'm_lat',\n",
       " 'm_lon',\n",
       " 'satellite_azimuth_angle',\n",
       " 'satellite_zenith_angle',\n",
       " 'solar_azimuth_angle',\n",
       " 'solar_zenith_angle']"
      ]
     },
     "execution_count": 7,
     "metadata": {},
     "output_type": "execute_result"
    }
   ],
   "source": [
    "scn.available_dataset_names() # we can put the values of this output in scn.load"
   ]
  },
  {
   "cell_type": "code",
   "execution_count": 8,
   "id": "91606d8a-c23e-4e37-aeed-3cb3eba9aac4",
   "metadata": {
    "tags": []
   },
   "outputs": [],
   "source": [
    "local_scene=scn.resample()"
   ]
  },
  {
   "cell_type": "code",
   "execution_count": 9,
   "id": "35cd4b34-ae6f-40e2-a03b-f86ad3889078",
   "metadata": {
    "tags": []
   },
   "outputs": [],
   "source": [
    "from satpy.composites import GenericCompositor\n",
    "compositor = GenericCompositor(\"overview\")\n",
    "composite = compositor([local_scene[0.48],\n",
    "                        local_scene[0.55],\n",
    "                        local_scene[0.67]])"
   ]
  },
  {
   "cell_type": "code",
   "execution_count": null,
   "id": "1bfca238-a0c1-45d9-8b9b-1fa9fbd1c1ba",
   "metadata": {
    "tags": []
   },
   "outputs": [
    {
     "name": "stderr",
     "output_type": "stream",
     "text": [
      "/home/jovyan/.conda/envs/sea-ice-oscillations/lib/python3.10/site-packages/dask/array/chunk.py:278: RuntimeWarning: invalid value encountered in cast\n",
      "  return x.astype(astype_dtype, **kwargs)\n"
     ]
    }
   ],
   "source": [
    "from satpy.writers import to_image\n",
    "img = to_image(composite)\n",
    "img.invert([False, False, False])\n",
    "# # img.stretch(\"linear\")\n",
    "# # img.gamma(1.7)\n",
    "img.show()\n",
    "\n"
   ]
  },
  {
   "cell_type": "markdown",
   "id": "4f7491fa-5c8d-40eb-980b-d6d7ab8fd5b8",
   "metadata": {},
   "source": [
    "# Transforming between projections\n",
    "\n",
    "Below we have and overview of the of the resampling "
   ]
  },
  {
   "cell_type": "code",
   "execution_count": null,
   "id": "715c1ab7-9876-4b68-8e5b-54188ec330be",
   "metadata": {},
   "outputs": [],
   "source": [
    "# AreaDefinition determines the projection and area that is a default option\n",
    "\n",
    "from pyresample.geometry import AreaDefinition\n",
    "\n",
    "# determines a projection\n",
    "crs = ccrs.TransverseMercator(central_latitude=75,central_longitude=-145)\n",
    "crs.to_proj4()\n",
    "\n",
    "# this thing must be adjusted to the right con\n",
    "area = AreaDefinition(\n",
    "    'test',\n",
    "    'test',\n",
    "    'stereo',\n",
    "    crs.to_proj4(),\n",
    "    1000,\n",
    "    1000,\n",
    "    (-457208.2980244929, -53702.37306555586, 372953.02043681627, 271124.98811561475),\n",
    "    nprocs=2)\n",
    "\n",
    "## IMPORTANT: the string  in scn.resample defines the grid onto which the resampling is\n",
    "## done. It is from a .yaml file (https://github.com/pytroll/satpy/blob/main/satpy/etc/areas.yaml)\n",
    "\n",
    "# local_scene=scn.resample('msg_seviri_fes_3km')  \n",
    "local_scene = scn.resample(area)"
   ]
  },
  {
   "cell_type": "code",
   "execution_count": null,
   "id": "4e35d1dd-906e-4466-b97a-92a4b14ca9f5",
   "metadata": {},
   "outputs": [],
   "source": [
    "# AreaDefinition?   # documentation"
   ]
  },
  {
   "cell_type": "code",
   "execution_count": null,
   "id": "28deb6cf-55b4-4ebc-a699-91337198f1a4",
   "metadata": {},
   "outputs": [],
   "source": [
    "from satpy.composites import GenericCompositor\n",
    "compositor = GenericCompositor(\"overview\")\n",
    "composite = compositor([local_scene[0.48],\n",
    "                        local_scene[0.55],\n",
    "                        local_scene[0.67]])"
   ]
  },
  {
   "cell_type": "code",
   "execution_count": null,
   "id": "193672bb-e020-4b39-a733-f4f9a56f097d",
   "metadata": {
    "tags": []
   },
   "outputs": [],
   "source": [
    "from satpy.writers import to_image\n",
    "img = to_image(composite)\n",
    "img.invert([False, False, False])\n",
    "img.stretch(\"linear\")\n",
    "img.gamma(1.7)\n",
    "img.show()\n"
   ]
  }
 ],
 "metadata": {
  "kernelspec": {
   "display_name": "Python [conda env:.conda-sea-ice-oscillations]",
   "language": "python",
   "name": "conda-env-.conda-sea-ice-oscillations-py"
  },
  "language_info": {
   "codemirror_mode": {
    "name": "ipython",
    "version": 3
   },
   "file_extension": ".py",
   "mimetype": "text/x-python",
   "name": "python",
   "nbconvert_exporter": "python",
   "pygments_lexer": "ipython3",
   "version": "3.10.12"
  }
 },
 "nbformat": 4,
 "nbformat_minor": 5
}
